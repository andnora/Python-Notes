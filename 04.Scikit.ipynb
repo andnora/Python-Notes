{
 "cells": [
  {
   "cell_type": "markdown",
   "metadata": {},
   "source": [
    "## Scikit-learn Creating Machine Learning Models (sklearn)"
   ]
  },
  {
   "cell_type": "markdown",
   "metadata": {},
   "source": [
    "#### 0. Dataframes used"
   ]
  },
  {
   "cell_type": "code",
   "execution_count": 29,
   "metadata": {},
   "outputs": [
    {
     "name": "stderr",
     "output_type": "stream",
     "text": [
      "C:\\Users\\noort\\.conda\\envs\\kitsu-katsu\\lib\\site-packages\\sklearn\\utils\\deprecation.py:87: FutureWarning: Function load_boston is deprecated; `load_boston` is deprecated in 1.0 and will be removed in 1.2.\n",
      "\n",
      "    The Boston housing prices dataset has an ethical problem. You can refer to\n",
      "    the documentation of this function for further details.\n",
      "\n",
      "    The scikit-learn maintainers therefore strongly discourage the use of this\n",
      "    dataset unless the purpose of the code is to study and educate about\n",
      "    ethical issues in data science and machine learning.\n",
      "\n",
      "    In this special case, you can fetch the dataset from the original\n",
      "    source::\n",
      "\n",
      "        import pandas as pd\n",
      "        import numpy as np\n",
      "\n",
      "\n",
      "        data_url = \"http://lib.stat.cmu.edu/datasets/boston\"\n",
      "        raw_df = pd.read_csv(data_url, sep=\"\\s+\", skiprows=22, header=None)\n",
      "        data = np.hstack([raw_df.values[::2, :], raw_df.values[1::2, :2]])\n",
      "        target = raw_df.values[1::2, 2]\n",
      "\n",
      "    Alternative datasets include the California housing dataset (i.e.\n",
      "    :func:`~sklearn.datasets.fetch_california_housing`) and the Ames housing\n",
      "    dataset. You can load the datasets as follows::\n",
      "\n",
      "        from sklearn.datasets import fetch_california_housing\n",
      "        housing = fetch_california_housing()\n",
      "\n",
      "    for the California housing dataset and::\n",
      "\n",
      "        from sklearn.datasets import fetch_openml\n",
      "        housing = fetch_openml(name=\"house_prices\", as_frame=True)\n",
      "\n",
      "    for the Ames housing dataset.\n",
      "    \n",
      "  warnings.warn(msg, category=FutureWarning)\n"
     ]
    }
   ],
   "source": [
    "#These are all the different dataframes used in the examples:\n",
    "\n",
    "heart_disease = pd.read_csv(\"../13.1 heart-disease.csv\")\n",
    "\n",
    "car_sales_extended = pd.read_csv(\"../car-sales-extended.csv\")\n",
    "\n",
    "car_sales_missing_extended = pd.read_csv(\"../car-sales-extended-missing-data.csv\")\n",
    "\n",
    "from sklearn.datasets import load_boston\n",
    "boston = load_boston()\n",
    "boston_df = pd.DataFrame(boston[\"data\"], columns = boston[\"feature_names\"])\n",
    "boston_df[\"target\"] = pd.Series(boston[\"target\"])\n"
   ]
  },
  {
   "cell_type": "markdown",
   "metadata": {},
   "source": [
    "### 1.1 End-to-end Scikit-Learn workflow"
   ]
  },
  {
   "cell_type": "code",
   "execution_count": 7,
   "metadata": {},
   "outputs": [],
   "source": [
    "#getting the data ready\n",
    "import pandas as pd\n",
    "import numpy as np\n",
    "import sklearn\n",
    "heart_disease = pd.read_csv(\"../13.1 heart-disease.csv\")\n",
    "\n",
    "#making a feautures matrix\n",
    "#we want the whole dataset except for the column target\n",
    "x = heart_disease.drop(\"target\", axis=1)\n",
    "\n",
    "#making labels\n",
    "y = heart_disease[\"target\"]"
   ]
  },
  {
   "cell_type": "code",
   "execution_count": 15,
   "metadata": {},
   "outputs": [
    {
     "data": {
      "text/plain": [
       "{'bootstrap': True,\n",
       " 'ccp_alpha': 0.0,\n",
       " 'class_weight': None,\n",
       " 'criterion': 'gini',\n",
       " 'max_depth': None,\n",
       " 'max_features': 'auto',\n",
       " 'max_leaf_nodes': None,\n",
       " 'max_samples': None,\n",
       " 'min_impurity_decrease': 0.0,\n",
       " 'min_samples_leaf': 1,\n",
       " 'min_samples_split': 2,\n",
       " 'min_weight_fraction_leaf': 0.0,\n",
       " 'n_estimators': 100,\n",
       " 'n_jobs': None,\n",
       " 'oob_score': False,\n",
       " 'random_state': None,\n",
       " 'verbose': 0,\n",
       " 'warm_start': False}"
      ]
     },
     "execution_count": 15,
     "metadata": {},
     "output_type": "execute_result"
    }
   ],
   "source": [
    "#Choose the right model and hyperparameters\n",
    "from sklearn.ensemble import RandomForestClassifier\n",
    "clf = RandomForestClassifier(n_estimators=100)\n",
    "\n",
    "#We'll keep the default hyperparameters\n",
    "clf.get_params()"
   ]
  },
  {
   "cell_type": "code",
   "execution_count": 8,
   "metadata": {},
   "outputs": [],
   "source": [
    "#fit the model to the training data\n",
    "from sklearn.model_selection import train_test_split\n",
    "\n",
    "#splitting the data into train and test (80% training)\n",
    "x_train, x_test, y_train, y_test = train_test_split(x, y, test_size=0.2)\n",
    "\n",
    "#make the model find the patterns\n",
    "clf = RandomForestClassifier()\n",
    "clf.fit(x_train, y_train);"
   ]
  },
  {
   "cell_type": "code",
   "execution_count": 20,
   "metadata": {},
   "outputs": [
    {
     "name": "stdout",
     "output_type": "stream",
     "text": [
      "[1 1 0 1 1 1 1 1 1 1 1 0 1 0 0 0 1 1 1 0 0 1 0 0 1 0 0 1 0 1 1 1 1 1 0 1 1\n",
      " 0 1 0 1 0 1 0 0 1 0 1 1 0 0 1 1 1 1 1 0 1 1 0 1]\n"
     ]
    }
   ],
   "source": [
    "#make a prediction\n",
    "y_preds = clf.predict(x_test)\n",
    "print(y_preds)"
   ]
  },
  {
   "cell_type": "code",
   "execution_count": 21,
   "metadata": {},
   "outputs": [
    {
     "data": {
      "text/plain": [
       "1.0"
      ]
     },
     "execution_count": 21,
     "metadata": {},
     "output_type": "execute_result"
    }
   ],
   "source": [
    "#evaluate the model on the training data and test data\n",
    "clf.score(x_train, y_train)"
   ]
  },
  {
   "cell_type": "code",
   "execution_count": 22,
   "metadata": {},
   "outputs": [
    {
     "data": {
      "text/plain": [
       "0.8524590163934426"
      ]
     },
     "execution_count": 22,
     "metadata": {},
     "output_type": "execute_result"
    }
   ],
   "source": [
    "clf.score(x_test, y_test)"
   ]
  },
  {
   "cell_type": "code",
   "execution_count": 23,
   "metadata": {},
   "outputs": [
    {
     "name": "stdout",
     "output_type": "stream",
     "text": [
      "              precision    recall  f1-score   support\n",
      "\n",
      "           0       0.83      0.79      0.81        24\n",
      "           1       0.87      0.89      0.88        37\n",
      "\n",
      "    accuracy                           0.85        61\n",
      "   macro avg       0.85      0.84      0.84        61\n",
      "weighted avg       0.85      0.85      0.85        61\n",
      "\n"
     ]
    }
   ],
   "source": [
    "from sklearn.metrics import classification_report, confusion_matrix, accuracy_score\n",
    "\n",
    "print(classification_report(y_test, y_preds))"
   ]
  },
  {
   "cell_type": "code",
   "execution_count": 24,
   "metadata": {},
   "outputs": [
    {
     "data": {
      "text/plain": [
       "array([[19,  5],\n",
       "       [ 4, 33]], dtype=int64)"
      ]
     },
     "execution_count": 24,
     "metadata": {},
     "output_type": "execute_result"
    }
   ],
   "source": [
    "confusion_matrix(y_test, y_preds)"
   ]
  },
  {
   "cell_type": "code",
   "execution_count": 25,
   "metadata": {},
   "outputs": [
    {
     "data": {
      "text/plain": [
       "0.8524590163934426"
      ]
     },
     "execution_count": 25,
     "metadata": {},
     "output_type": "execute_result"
    }
   ],
   "source": [
    "accuracy_score(y_test, y_preds)"
   ]
  },
  {
   "cell_type": "code",
   "execution_count": 29,
   "metadata": {},
   "outputs": [
    {
     "name": "stdout",
     "output_type": "stream",
     "text": [
      "trying model with 10 estimators..\n",
      "Model accuracy on test set: 81.97%\n",
      " \n",
      "trying model with 20 estimators..\n",
      "Model accuracy on test set: 85.25%\n",
      " \n",
      "trying model with 30 estimators..\n",
      "Model accuracy on test set: 81.97%\n",
      " \n",
      "trying model with 40 estimators..\n",
      "Model accuracy on test set: 86.89%\n",
      " \n",
      "trying model with 50 estimators..\n",
      "Model accuracy on test set: 85.25%\n",
      " \n",
      "trying model with 60 estimators..\n",
      "Model accuracy on test set: 85.25%\n",
      " \n",
      "trying model with 70 estimators..\n",
      "Model accuracy on test set: 86.89%\n",
      " \n",
      "trying model with 80 estimators..\n",
      "Model accuracy on test set: 83.61%\n",
      " \n",
      "trying model with 90 estimators..\n",
      "Model accuracy on test set: 83.61%\n",
      " \n"
     ]
    }
   ],
   "source": [
    "#How to improve the model\n",
    "#try different amount of n_estimators\n",
    "np.random.seed(0)\n",
    "for i in range(10, 100, 10):\n",
    "    print(f\"trying model with {i} estimators..\")\n",
    "    clf= RandomForestClassifier(n_estimators=i).fit(x_train, y_train)\n",
    "    print(f\"Model accuracy on test set: {clf.score(x_test, y_test) * 100:.2f}%\")\n",
    "    print(\" \")"
   ]
  },
  {
   "cell_type": "code",
   "execution_count": 30,
   "metadata": {},
   "outputs": [],
   "source": [
    "#save a model and load it\n",
    "import pickle\n",
    "pickle.dump(clf, open(\"random_forest_model_1.pkl\", \"wb\"))"
   ]
  },
  {
   "cell_type": "code",
   "execution_count": 31,
   "metadata": {},
   "outputs": [
    {
     "data": {
      "text/plain": [
       "0.8360655737704918"
      ]
     },
     "execution_count": 31,
     "metadata": {},
     "output_type": "execute_result"
    }
   ],
   "source": [
    "#load our model again\n",
    "loaded_model = pickle.load(open(\"random_forest_model_1.pkl\", \"rb\"))\n",
    "loaded_model.score(x_test, y_test)"
   ]
  },
  {
   "cell_type": "markdown",
   "metadata": {},
   "source": [
    "### 1.2 Debugging warnings"
   ]
  },
  {
   "cell_type": "code",
   "execution_count": 36,
   "metadata": {},
   "outputs": [
    {
     "name": "stdout",
     "output_type": "stream",
     "text": [
      "\n",
      "System:\n",
      "    python: 3.9.7 (default, Sep 16 2021, 16:59:28) [MSC v.1916 64 bit (AMD64)]\n",
      "executable: C:\\Users\\noort\\.conda\\envs\\kitsu-katsu\\python.exe\n",
      "   machine: Windows-10-10.0.19043-SP0\n",
      "\n",
      "Python dependencies:\n",
      "          pip: 21.2.4\n",
      "   setuptools: 58.0.4\n",
      "      sklearn: 1.0.2\n",
      "        numpy: 1.22.0\n",
      "        scipy: 1.7.3\n",
      "       Cython: None\n",
      "       pandas: 1.3.5\n",
      "   matplotlib: 3.5.1\n",
      "       joblib: 1.1.0\n",
      "threadpoolctl: 3.0.0\n",
      "\n",
      "Built with OpenMP: True\n"
     ]
    }
   ],
   "source": [
    "import warnings\n",
    "\n",
    "#how to ignore all the warnings\n",
    "warnings.filterwarnings(\"ignore\")\n",
    "\n",
    "#how to set that back\n",
    "warnings.filterwarnings(\"default\")\n",
    "\n",
    "#how to tell what version of scikitlearn your working on\n",
    "sklearn.show_versions()\n",
    "\n",
    "#some warnings you get because according to your sklearn version there are\n",
    "#standard parameters, it's warning you for that\n",
    "#you could avoid that by giving it a paramter yourself like this:\n",
    "#n_estimators=... (in your model)\n"
   ]
  },
  {
   "cell_type": "markdown",
   "metadata": {},
   "source": [
    "### 2.1 Splitting data into features (x,y)"
   ]
  },
  {
   "cell_type": "code",
   "execution_count": 51,
   "metadata": {},
   "outputs": [
    {
     "data": {
      "text/plain": [
       "((242, 13), (61, 13), (242,), (61,))"
      ]
     },
     "execution_count": 51,
     "metadata": {},
     "output_type": "execute_result"
    }
   ],
   "source": [
    "#standard imports; numpy, pandas, matplotlib.pyplot, matplotlib inline\n",
    "\n",
    "#we want to remove our target column for x\n",
    "x = heart_disease.drop(\"target\", axis=1)\n",
    "\n",
    "#we want to get only our target column for y\n",
    "y = heart_disease[\"target\"]\n",
    "\n",
    "#splitting data intro training and testing\n",
    "from sklearn.model_selection import train_test_split\n",
    "x_train, x_test, y_train, y_test = train_test_split(x, y, test_size=0.2)\n",
    "\n",
    "#see the difference in sizes\n",
    "x_train.shape, x_test.shape, y_train.shape, y_test.shape\n",
    "\n",
    "#our amount of columns is 13\n",
    "#the number on x shows the amount of rows"
   ]
  },
  {
   "cell_type": "markdown",
   "metadata": {},
   "source": [
    "### 2.2 Converting non-numerical values to numerical (featuring encoding)"
   ]
  },
  {
   "cell_type": "code",
   "execution_count": null,
   "metadata": {},
   "outputs": [],
   "source": [
    "#Important Note:\n",
    "#Always split your data first before filling/transforming your data\n",
    "#Don't fill/transform your train and test data together, always seperate"
   ]
  },
  {
   "cell_type": "code",
   "execution_count": 52,
   "metadata": {},
   "outputs": [
    {
     "data": {
      "text/html": [
       "<div>\n",
       "<style scoped>\n",
       "    .dataframe tbody tr th:only-of-type {\n",
       "        vertical-align: middle;\n",
       "    }\n",
       "\n",
       "    .dataframe tbody tr th {\n",
       "        vertical-align: top;\n",
       "    }\n",
       "\n",
       "    .dataframe thead th {\n",
       "        text-align: right;\n",
       "    }\n",
       "</style>\n",
       "<table border=\"1\" class=\"dataframe\">\n",
       "  <thead>\n",
       "    <tr style=\"text-align: right;\">\n",
       "      <th></th>\n",
       "      <th>Make</th>\n",
       "      <th>Colour</th>\n",
       "      <th>Odometer (KM)</th>\n",
       "      <th>Doors</th>\n",
       "      <th>Price</th>\n",
       "    </tr>\n",
       "  </thead>\n",
       "  <tbody>\n",
       "    <tr>\n",
       "      <th>0</th>\n",
       "      <td>Honda</td>\n",
       "      <td>White</td>\n",
       "      <td>35431</td>\n",
       "      <td>4</td>\n",
       "      <td>15323</td>\n",
       "    </tr>\n",
       "    <tr>\n",
       "      <th>1</th>\n",
       "      <td>BMW</td>\n",
       "      <td>Blue</td>\n",
       "      <td>192714</td>\n",
       "      <td>5</td>\n",
       "      <td>19943</td>\n",
       "    </tr>\n",
       "    <tr>\n",
       "      <th>2</th>\n",
       "      <td>Honda</td>\n",
       "      <td>White</td>\n",
       "      <td>84714</td>\n",
       "      <td>4</td>\n",
       "      <td>28343</td>\n",
       "    </tr>\n",
       "    <tr>\n",
       "      <th>3</th>\n",
       "      <td>Toyota</td>\n",
       "      <td>White</td>\n",
       "      <td>154365</td>\n",
       "      <td>4</td>\n",
       "      <td>13434</td>\n",
       "    </tr>\n",
       "    <tr>\n",
       "      <th>4</th>\n",
       "      <td>Nissan</td>\n",
       "      <td>Blue</td>\n",
       "      <td>181577</td>\n",
       "      <td>3</td>\n",
       "      <td>14043</td>\n",
       "    </tr>\n",
       "  </tbody>\n",
       "</table>\n",
       "</div>"
      ],
      "text/plain": [
       "     Make Colour  Odometer (KM)  Doors  Price\n",
       "0   Honda  White          35431      4  15323\n",
       "1     BMW   Blue         192714      5  19943\n",
       "2   Honda  White          84714      4  28343\n",
       "3  Toyota  White         154365      4  13434\n",
       "4  Nissan   Blue         181577      3  14043"
      ]
     },
     "execution_count": 52,
     "metadata": {},
     "output_type": "execute_result"
    }
   ],
   "source": [
    "car_sales_extended = pd.read_csv(\"../car-sales-extended.csv\")\n",
    "car_sales_extended.head()"
   ]
  },
  {
   "cell_type": "markdown",
   "metadata": {},
   "source": [
    "#### One Hot Encoder"
   ]
  },
  {
   "cell_type": "code",
   "execution_count": 62,
   "metadata": {},
   "outputs": [
    {
     "data": {
      "text/plain": [
       "array([[0.00000e+00, 1.00000e+00, 0.00000e+00, ..., 1.00000e+00,\n",
       "        0.00000e+00, 3.54310e+04],\n",
       "       [1.00000e+00, 0.00000e+00, 0.00000e+00, ..., 0.00000e+00,\n",
       "        1.00000e+00, 1.92714e+05],\n",
       "       [0.00000e+00, 1.00000e+00, 0.00000e+00, ..., 1.00000e+00,\n",
       "        0.00000e+00, 8.47140e+04],\n",
       "       ...,\n",
       "       [0.00000e+00, 0.00000e+00, 1.00000e+00, ..., 1.00000e+00,\n",
       "        0.00000e+00, 6.66040e+04],\n",
       "       [0.00000e+00, 1.00000e+00, 0.00000e+00, ..., 1.00000e+00,\n",
       "        0.00000e+00, 2.15883e+05],\n",
       "       [0.00000e+00, 0.00000e+00, 0.00000e+00, ..., 1.00000e+00,\n",
       "        0.00000e+00, 2.48360e+05]])"
      ]
     },
     "execution_count": 62,
     "metadata": {},
     "output_type": "execute_result"
    }
   ],
   "source": [
    "#machine learning cannot deal with strings, import these:\n",
    "from sklearn.preprocessing import OneHotEncoder\n",
    "from sklearn.compose import ColumnTransformer\n",
    "\n",
    "#define x and y\n",
    "X = car_sales_extended.drop(['Price'], axis = 1)\n",
    "y = car_sales_extended['Price']\n",
    "\n",
    "#list your cateogrical features\n",
    "#Dont forget that some numbers are better to be seen as categories\n",
    "categorical_features = [\"Make\", \"Colour\", \"Doors\"]\n",
    "\n",
    "#code the transformer\n",
    "one_hot = OneHotEncoder()\n",
    "transformer = ColumnTransformer([(\"one_hot\", one_hot, categorical_features)], remainder=\"passthrough\")\n",
    "\n",
    "#code what the transformer does\n",
    "transformed_x = transformer.fit_transform(X)\n",
    "transformed_x"
   ]
  },
  {
   "cell_type": "code",
   "execution_count": 63,
   "metadata": {},
   "outputs": [
    {
     "data": {
      "text/html": [
       "<div>\n",
       "<style scoped>\n",
       "    .dataframe tbody tr th:only-of-type {\n",
       "        vertical-align: middle;\n",
       "    }\n",
       "\n",
       "    .dataframe tbody tr th {\n",
       "        vertical-align: top;\n",
       "    }\n",
       "\n",
       "    .dataframe thead th {\n",
       "        text-align: right;\n",
       "    }\n",
       "</style>\n",
       "<table border=\"1\" class=\"dataframe\">\n",
       "  <thead>\n",
       "    <tr style=\"text-align: right;\">\n",
       "      <th></th>\n",
       "      <th>0</th>\n",
       "      <th>1</th>\n",
       "      <th>2</th>\n",
       "      <th>3</th>\n",
       "      <th>4</th>\n",
       "      <th>5</th>\n",
       "      <th>6</th>\n",
       "      <th>7</th>\n",
       "      <th>8</th>\n",
       "      <th>9</th>\n",
       "      <th>10</th>\n",
       "      <th>11</th>\n",
       "      <th>12</th>\n",
       "    </tr>\n",
       "  </thead>\n",
       "  <tbody>\n",
       "    <tr>\n",
       "      <th>0</th>\n",
       "      <td>0.0</td>\n",
       "      <td>1.0</td>\n",
       "      <td>0.0</td>\n",
       "      <td>0.0</td>\n",
       "      <td>0.0</td>\n",
       "      <td>0.0</td>\n",
       "      <td>0.0</td>\n",
       "      <td>0.0</td>\n",
       "      <td>1.0</td>\n",
       "      <td>0.0</td>\n",
       "      <td>1.0</td>\n",
       "      <td>0.0</td>\n",
       "      <td>35431.0</td>\n",
       "    </tr>\n",
       "    <tr>\n",
       "      <th>1</th>\n",
       "      <td>1.0</td>\n",
       "      <td>0.0</td>\n",
       "      <td>0.0</td>\n",
       "      <td>0.0</td>\n",
       "      <td>0.0</td>\n",
       "      <td>1.0</td>\n",
       "      <td>0.0</td>\n",
       "      <td>0.0</td>\n",
       "      <td>0.0</td>\n",
       "      <td>0.0</td>\n",
       "      <td>0.0</td>\n",
       "      <td>1.0</td>\n",
       "      <td>192714.0</td>\n",
       "    </tr>\n",
       "    <tr>\n",
       "      <th>2</th>\n",
       "      <td>0.0</td>\n",
       "      <td>1.0</td>\n",
       "      <td>0.0</td>\n",
       "      <td>0.0</td>\n",
       "      <td>0.0</td>\n",
       "      <td>0.0</td>\n",
       "      <td>0.0</td>\n",
       "      <td>0.0</td>\n",
       "      <td>1.0</td>\n",
       "      <td>0.0</td>\n",
       "      <td>1.0</td>\n",
       "      <td>0.0</td>\n",
       "      <td>84714.0</td>\n",
       "    </tr>\n",
       "    <tr>\n",
       "      <th>3</th>\n",
       "      <td>0.0</td>\n",
       "      <td>0.0</td>\n",
       "      <td>0.0</td>\n",
       "      <td>1.0</td>\n",
       "      <td>0.0</td>\n",
       "      <td>0.0</td>\n",
       "      <td>0.0</td>\n",
       "      <td>0.0</td>\n",
       "      <td>1.0</td>\n",
       "      <td>0.0</td>\n",
       "      <td>1.0</td>\n",
       "      <td>0.0</td>\n",
       "      <td>154365.0</td>\n",
       "    </tr>\n",
       "    <tr>\n",
       "      <th>4</th>\n",
       "      <td>0.0</td>\n",
       "      <td>0.0</td>\n",
       "      <td>1.0</td>\n",
       "      <td>0.0</td>\n",
       "      <td>0.0</td>\n",
       "      <td>1.0</td>\n",
       "      <td>0.0</td>\n",
       "      <td>0.0</td>\n",
       "      <td>0.0</td>\n",
       "      <td>1.0</td>\n",
       "      <td>0.0</td>\n",
       "      <td>0.0</td>\n",
       "      <td>181577.0</td>\n",
       "    </tr>\n",
       "    <tr>\n",
       "      <th>...</th>\n",
       "      <td>...</td>\n",
       "      <td>...</td>\n",
       "      <td>...</td>\n",
       "      <td>...</td>\n",
       "      <td>...</td>\n",
       "      <td>...</td>\n",
       "      <td>...</td>\n",
       "      <td>...</td>\n",
       "      <td>...</td>\n",
       "      <td>...</td>\n",
       "      <td>...</td>\n",
       "      <td>...</td>\n",
       "      <td>...</td>\n",
       "    </tr>\n",
       "    <tr>\n",
       "      <th>995</th>\n",
       "      <td>0.0</td>\n",
       "      <td>0.0</td>\n",
       "      <td>0.0</td>\n",
       "      <td>1.0</td>\n",
       "      <td>1.0</td>\n",
       "      <td>0.0</td>\n",
       "      <td>0.0</td>\n",
       "      <td>0.0</td>\n",
       "      <td>0.0</td>\n",
       "      <td>0.0</td>\n",
       "      <td>1.0</td>\n",
       "      <td>0.0</td>\n",
       "      <td>35820.0</td>\n",
       "    </tr>\n",
       "    <tr>\n",
       "      <th>996</th>\n",
       "      <td>0.0</td>\n",
       "      <td>0.0</td>\n",
       "      <td>1.0</td>\n",
       "      <td>0.0</td>\n",
       "      <td>0.0</td>\n",
       "      <td>0.0</td>\n",
       "      <td>0.0</td>\n",
       "      <td>0.0</td>\n",
       "      <td>1.0</td>\n",
       "      <td>1.0</td>\n",
       "      <td>0.0</td>\n",
       "      <td>0.0</td>\n",
       "      <td>155144.0</td>\n",
       "    </tr>\n",
       "    <tr>\n",
       "      <th>997</th>\n",
       "      <td>0.0</td>\n",
       "      <td>0.0</td>\n",
       "      <td>1.0</td>\n",
       "      <td>0.0</td>\n",
       "      <td>0.0</td>\n",
       "      <td>1.0</td>\n",
       "      <td>0.0</td>\n",
       "      <td>0.0</td>\n",
       "      <td>0.0</td>\n",
       "      <td>0.0</td>\n",
       "      <td>1.0</td>\n",
       "      <td>0.0</td>\n",
       "      <td>66604.0</td>\n",
       "    </tr>\n",
       "    <tr>\n",
       "      <th>998</th>\n",
       "      <td>0.0</td>\n",
       "      <td>1.0</td>\n",
       "      <td>0.0</td>\n",
       "      <td>0.0</td>\n",
       "      <td>0.0</td>\n",
       "      <td>0.0</td>\n",
       "      <td>0.0</td>\n",
       "      <td>0.0</td>\n",
       "      <td>1.0</td>\n",
       "      <td>0.0</td>\n",
       "      <td>1.0</td>\n",
       "      <td>0.0</td>\n",
       "      <td>215883.0</td>\n",
       "    </tr>\n",
       "    <tr>\n",
       "      <th>999</th>\n",
       "      <td>0.0</td>\n",
       "      <td>0.0</td>\n",
       "      <td>0.0</td>\n",
       "      <td>1.0</td>\n",
       "      <td>0.0</td>\n",
       "      <td>1.0</td>\n",
       "      <td>0.0</td>\n",
       "      <td>0.0</td>\n",
       "      <td>0.0</td>\n",
       "      <td>0.0</td>\n",
       "      <td>1.0</td>\n",
       "      <td>0.0</td>\n",
       "      <td>248360.0</td>\n",
       "    </tr>\n",
       "  </tbody>\n",
       "</table>\n",
       "<p>1000 rows × 13 columns</p>\n",
       "</div>"
      ],
      "text/plain": [
       "      0    1    2    3    4    5    6    7    8    9    10   11        12\n",
       "0    0.0  1.0  0.0  0.0  0.0  0.0  0.0  0.0  1.0  0.0  1.0  0.0   35431.0\n",
       "1    1.0  0.0  0.0  0.0  0.0  1.0  0.0  0.0  0.0  0.0  0.0  1.0  192714.0\n",
       "2    0.0  1.0  0.0  0.0  0.0  0.0  0.0  0.0  1.0  0.0  1.0  0.0   84714.0\n",
       "3    0.0  0.0  0.0  1.0  0.0  0.0  0.0  0.0  1.0  0.0  1.0  0.0  154365.0\n",
       "4    0.0  0.0  1.0  0.0  0.0  1.0  0.0  0.0  0.0  1.0  0.0  0.0  181577.0\n",
       "..   ...  ...  ...  ...  ...  ...  ...  ...  ...  ...  ...  ...       ...\n",
       "995  0.0  0.0  0.0  1.0  1.0  0.0  0.0  0.0  0.0  0.0  1.0  0.0   35820.0\n",
       "996  0.0  0.0  1.0  0.0  0.0  0.0  0.0  0.0  1.0  1.0  0.0  0.0  155144.0\n",
       "997  0.0  0.0  1.0  0.0  0.0  1.0  0.0  0.0  0.0  0.0  1.0  0.0   66604.0\n",
       "998  0.0  1.0  0.0  0.0  0.0  0.0  0.0  0.0  1.0  0.0  1.0  0.0  215883.0\n",
       "999  0.0  0.0  0.0  1.0  0.0  1.0  0.0  0.0  0.0  0.0  1.0  0.0  248360.0\n",
       "\n",
       "[1000 rows x 13 columns]"
      ]
     },
     "execution_count": 63,
     "metadata": {},
     "output_type": "execute_result"
    }
   ],
   "source": [
    "pd.DataFrame(transformed_x)\n",
    "\n",
    "#we have devided the categories into the possible values, 'toyota' or 'BMW'\n",
    "#and given every row a 1 one the value in the categorie applies for that row\n",
    "#and given all the other values a 0\n",
    "#this is called One Hot Encoding"
   ]
  },
  {
   "cell_type": "markdown",
   "metadata": {},
   "source": [
    "#### Dummies"
   ]
  },
  {
   "cell_type": "code",
   "execution_count": 65,
   "metadata": {},
   "outputs": [
    {
     "data": {
      "text/html": [
       "<div>\n",
       "<style scoped>\n",
       "    .dataframe tbody tr th:only-of-type {\n",
       "        vertical-align: middle;\n",
       "    }\n",
       "\n",
       "    .dataframe tbody tr th {\n",
       "        vertical-align: top;\n",
       "    }\n",
       "\n",
       "    .dataframe thead th {\n",
       "        text-align: right;\n",
       "    }\n",
       "</style>\n",
       "<table border=\"1\" class=\"dataframe\">\n",
       "  <thead>\n",
       "    <tr style=\"text-align: right;\">\n",
       "      <th></th>\n",
       "      <th>Doors</th>\n",
       "      <th>Make_BMW</th>\n",
       "      <th>Make_Honda</th>\n",
       "      <th>Make_Nissan</th>\n",
       "      <th>Make_Toyota</th>\n",
       "      <th>Colour_Black</th>\n",
       "      <th>Colour_Blue</th>\n",
       "      <th>Colour_Green</th>\n",
       "      <th>Colour_Red</th>\n",
       "      <th>Colour_White</th>\n",
       "    </tr>\n",
       "  </thead>\n",
       "  <tbody>\n",
       "    <tr>\n",
       "      <th>0</th>\n",
       "      <td>4</td>\n",
       "      <td>0</td>\n",
       "      <td>1</td>\n",
       "      <td>0</td>\n",
       "      <td>0</td>\n",
       "      <td>0</td>\n",
       "      <td>0</td>\n",
       "      <td>0</td>\n",
       "      <td>0</td>\n",
       "      <td>1</td>\n",
       "    </tr>\n",
       "    <tr>\n",
       "      <th>1</th>\n",
       "      <td>5</td>\n",
       "      <td>1</td>\n",
       "      <td>0</td>\n",
       "      <td>0</td>\n",
       "      <td>0</td>\n",
       "      <td>0</td>\n",
       "      <td>1</td>\n",
       "      <td>0</td>\n",
       "      <td>0</td>\n",
       "      <td>0</td>\n",
       "    </tr>\n",
       "    <tr>\n",
       "      <th>2</th>\n",
       "      <td>4</td>\n",
       "      <td>0</td>\n",
       "      <td>1</td>\n",
       "      <td>0</td>\n",
       "      <td>0</td>\n",
       "      <td>0</td>\n",
       "      <td>0</td>\n",
       "      <td>0</td>\n",
       "      <td>0</td>\n",
       "      <td>1</td>\n",
       "    </tr>\n",
       "    <tr>\n",
       "      <th>3</th>\n",
       "      <td>4</td>\n",
       "      <td>0</td>\n",
       "      <td>0</td>\n",
       "      <td>0</td>\n",
       "      <td>1</td>\n",
       "      <td>0</td>\n",
       "      <td>0</td>\n",
       "      <td>0</td>\n",
       "      <td>0</td>\n",
       "      <td>1</td>\n",
       "    </tr>\n",
       "    <tr>\n",
       "      <th>4</th>\n",
       "      <td>3</td>\n",
       "      <td>0</td>\n",
       "      <td>0</td>\n",
       "      <td>1</td>\n",
       "      <td>0</td>\n",
       "      <td>0</td>\n",
       "      <td>1</td>\n",
       "      <td>0</td>\n",
       "      <td>0</td>\n",
       "      <td>0</td>\n",
       "    </tr>\n",
       "    <tr>\n",
       "      <th>...</th>\n",
       "      <td>...</td>\n",
       "      <td>...</td>\n",
       "      <td>...</td>\n",
       "      <td>...</td>\n",
       "      <td>...</td>\n",
       "      <td>...</td>\n",
       "      <td>...</td>\n",
       "      <td>...</td>\n",
       "      <td>...</td>\n",
       "      <td>...</td>\n",
       "    </tr>\n",
       "    <tr>\n",
       "      <th>995</th>\n",
       "      <td>4</td>\n",
       "      <td>0</td>\n",
       "      <td>0</td>\n",
       "      <td>0</td>\n",
       "      <td>1</td>\n",
       "      <td>1</td>\n",
       "      <td>0</td>\n",
       "      <td>0</td>\n",
       "      <td>0</td>\n",
       "      <td>0</td>\n",
       "    </tr>\n",
       "    <tr>\n",
       "      <th>996</th>\n",
       "      <td>3</td>\n",
       "      <td>0</td>\n",
       "      <td>0</td>\n",
       "      <td>1</td>\n",
       "      <td>0</td>\n",
       "      <td>0</td>\n",
       "      <td>0</td>\n",
       "      <td>0</td>\n",
       "      <td>0</td>\n",
       "      <td>1</td>\n",
       "    </tr>\n",
       "    <tr>\n",
       "      <th>997</th>\n",
       "      <td>4</td>\n",
       "      <td>0</td>\n",
       "      <td>0</td>\n",
       "      <td>1</td>\n",
       "      <td>0</td>\n",
       "      <td>0</td>\n",
       "      <td>1</td>\n",
       "      <td>0</td>\n",
       "      <td>0</td>\n",
       "      <td>0</td>\n",
       "    </tr>\n",
       "    <tr>\n",
       "      <th>998</th>\n",
       "      <td>4</td>\n",
       "      <td>0</td>\n",
       "      <td>1</td>\n",
       "      <td>0</td>\n",
       "      <td>0</td>\n",
       "      <td>0</td>\n",
       "      <td>0</td>\n",
       "      <td>0</td>\n",
       "      <td>0</td>\n",
       "      <td>1</td>\n",
       "    </tr>\n",
       "    <tr>\n",
       "      <th>999</th>\n",
       "      <td>4</td>\n",
       "      <td>0</td>\n",
       "      <td>0</td>\n",
       "      <td>0</td>\n",
       "      <td>1</td>\n",
       "      <td>0</td>\n",
       "      <td>1</td>\n",
       "      <td>0</td>\n",
       "      <td>0</td>\n",
       "      <td>0</td>\n",
       "    </tr>\n",
       "  </tbody>\n",
       "</table>\n",
       "<p>1000 rows × 10 columns</p>\n",
       "</div>"
      ],
      "text/plain": [
       "     Doors  Make_BMW  Make_Honda  Make_Nissan  Make_Toyota  Colour_Black  \\\n",
       "0        4         0           1            0            0             0   \n",
       "1        5         1           0            0            0             0   \n",
       "2        4         0           1            0            0             0   \n",
       "3        4         0           0            0            1             0   \n",
       "4        3         0           0            1            0             0   \n",
       "..     ...       ...         ...          ...          ...           ...   \n",
       "995      4         0           0            0            1             1   \n",
       "996      3         0           0            1            0             0   \n",
       "997      4         0           0            1            0             0   \n",
       "998      4         0           1            0            0             0   \n",
       "999      4         0           0            0            1             0   \n",
       "\n",
       "     Colour_Blue  Colour_Green  Colour_Red  Colour_White  \n",
       "0              0             0           0             1  \n",
       "1              1             0           0             0  \n",
       "2              0             0           0             1  \n",
       "3              0             0           0             1  \n",
       "4              1             0           0             0  \n",
       "..           ...           ...         ...           ...  \n",
       "995            0             0           0             0  \n",
       "996            0             0           0             1  \n",
       "997            1             0           0             0  \n",
       "998            0             0           0             1  \n",
       "999            1             0           0             0  \n",
       "\n",
       "[1000 rows x 10 columns]"
      ]
     },
     "execution_count": 65,
     "metadata": {},
     "output_type": "execute_result"
    }
   ],
   "source": [
    "#The dummies way for the same thing\n",
    "dummies = pd.get_dummies(car_sales_extended[[\"Make\", \"Colour\",\"Doors\"]])\n",
    "dummies\n",
    "\n",
    "#this didnt work on Doors because it is numerical, only works on true categorical"
   ]
  },
  {
   "cell_type": "code",
   "execution_count": 101,
   "metadata": {},
   "outputs": [
    {
     "data": {
      "text/plain": [
       "RandomForestRegressor()"
      ]
     },
     "execution_count": 101,
     "metadata": {},
     "output_type": "execute_result"
    }
   ],
   "source": [
    "#Refit the model\n",
    "np.random.seed(42)\n",
    "X_train, X_test, y_train, y_test = train_test_split(transformed_x, y, test_size=0.2)\n",
    "\n",
    "from sklearn.ensemble import RandomForestRegressor\n",
    "from sklearn import linear_model\n",
    "model = RandomForestRegressor()\n",
    "\n",
    "model.fit(X_train,y_train)"
   ]
  },
  {
   "cell_type": "code",
   "execution_count": 102,
   "metadata": {},
   "outputs": [
    {
     "data": {
      "text/plain": [
       "0.3235867221569877"
      ]
     },
     "execution_count": 102,
     "metadata": {},
     "output_type": "execute_result"
    }
   ],
   "source": [
    "model.score(X_test, y_test)"
   ]
  },
  {
   "cell_type": "markdown",
   "metadata": {},
   "source": [
    "### 2.3 Filling/Imputing or disregarding missing values"
   ]
  },
  {
   "cell_type": "code",
   "execution_count": null,
   "metadata": {},
   "outputs": [],
   "source": [
    "#Important Note:\n",
    "#Always split your data first before filling/transforming your data\n",
    "#Don't fill/transform your train and test data together, always seperate"
   ]
  },
  {
   "cell_type": "code",
   "execution_count": 114,
   "metadata": {},
   "outputs": [
    {
     "data": {
      "text/plain": [
       "Make             49\n",
       "Colour           50\n",
       "Odometer (KM)    50\n",
       "Doors            50\n",
       "Price            50\n",
       "dtype: int64"
      ]
     },
     "execution_count": 114,
     "metadata": {},
     "output_type": "execute_result"
    }
   ],
   "source": [
    "#two main ways to missing data\n",
    "#1. fill them with some value\n",
    "#2. Remove the samples with missing data\n",
    "#With Pandas or Scikit\n",
    "\n",
    "car_sales_missing_extended = pd.read_csv(\"../car-sales-extended-missing-data.csv\")\n",
    "\n",
    "#check how many missing values it has\n",
    "car_sales_missing_extended.isna().sum()"
   ]
  },
  {
   "cell_type": "markdown",
   "metadata": {},
   "source": [
    "#### Fill/Remove with Pandas"
   ]
  },
  {
   "cell_type": "code",
   "execution_count": 110,
   "metadata": {},
   "outputs": [],
   "source": [
    "#fill a categorical column\n",
    "car_sales_missing_extended[\"Make\"].fillna(\"missing\", inplace=True)\n",
    "car_sales_missing_extended[\"Colour\"].fillna(\"missing\", inplace=True)\n",
    "\n",
    "#fill a numerical column\n",
    "car_sales_missing_extended[\"Odometer (KM)\"].fillna(car_sales_missing_extended[\"Odometer (KM)\"].mean(), inplace=True)\n",
    "car_sales_missing_extended[\"Doors\"].fillna(4, inplace=True)"
   ]
  },
  {
   "cell_type": "markdown",
   "metadata": {},
   "source": [
    "##### Remove samples with missing value"
   ]
  },
  {
   "cell_type": "code",
   "execution_count": 111,
   "metadata": {},
   "outputs": [],
   "source": [
    "#because only price has missing values missing\n",
    "car_sales_missing_extended.dropna(inplace=True)"
   ]
  },
  {
   "cell_type": "markdown",
   "metadata": {},
   "source": [
    "##### Convert it to numbers"
   ]
  },
  {
   "cell_type": "code",
   "execution_count": 113,
   "metadata": {},
   "outputs": [
    {
     "data": {
      "text/plain": [
       "array([[0.00000e+00, 1.00000e+00, 0.00000e+00, ..., 0.00000e+00,\n",
       "        3.54310e+04, 1.53230e+04],\n",
       "       [1.00000e+00, 0.00000e+00, 0.00000e+00, ..., 1.00000e+00,\n",
       "        1.92714e+05, 1.99430e+04],\n",
       "       [0.00000e+00, 1.00000e+00, 0.00000e+00, ..., 0.00000e+00,\n",
       "        8.47140e+04, 2.83430e+04],\n",
       "       ...,\n",
       "       [0.00000e+00, 0.00000e+00, 1.00000e+00, ..., 0.00000e+00,\n",
       "        6.66040e+04, 3.15700e+04],\n",
       "       [0.00000e+00, 1.00000e+00, 0.00000e+00, ..., 0.00000e+00,\n",
       "        2.15883e+05, 4.00100e+03],\n",
       "       [0.00000e+00, 0.00000e+00, 0.00000e+00, ..., 0.00000e+00,\n",
       "        2.48360e+05, 1.27320e+04]])"
      ]
     },
     "execution_count": 113,
     "metadata": {},
     "output_type": "execute_result"
    }
   ],
   "source": [
    "X = car_sales_missing_extended.drop(['Price'], axis = 1)\n",
    "y = car_sales_missing_extended['Price']\n",
    "\n",
    "categorical_features = [\"Make\", \"Colour\", \"Doors\"]\n",
    "\n",
    "one_hot = OneHotEncoder()\n",
    "transformer = ColumnTransformer([(\"one_hot\", one_hot, categorical_features)], remainder=\"passthrough\")\n",
    "\n",
    "transformed_x = transformer.fit_transform(car_sales_missing_extended)\n",
    "transformed_x"
   ]
  },
  {
   "cell_type": "markdown",
   "metadata": {},
   "source": [
    "#### Fill/Remove with Scikit"
   ]
  },
  {
   "cell_type": "code",
   "execution_count": 118,
   "metadata": {},
   "outputs": [],
   "source": [
    "car_sales_missing_missing = pd.read_csv(\"../car-sales-extended-missing-data.csv\")\n",
    "\n",
    "#drop the missing data of price, cause we cant replace them\n",
    "car_sales_missing_missing.dropna(subset=[\"Price\"], inplace=True)\n",
    "\n",
    "#first split data\n",
    "X = car_sales_missing_missing.drop([\"Price\"], axis=1)\n",
    "y = car_sales_missing_missing[\"Price\"]"
   ]
  },
  {
   "cell_type": "code",
   "execution_count": 119,
   "metadata": {},
   "outputs": [],
   "source": [
    "from sklearn.impute import SimpleImputer\n",
    "from sklearn.compose import ColumnTransformer"
   ]
  },
  {
   "cell_type": "code",
   "execution_count": 123,
   "metadata": {},
   "outputs": [
    {
     "data": {
      "text/plain": [
       "array([['Honda', 'White', 4.0, 35431.0],\n",
       "       ['BMW', 'Blue', 5.0, 192714.0],\n",
       "       ['Honda', 'White', 4.0, 84714.0],\n",
       "       ...,\n",
       "       ['Nissan', 'Blue', 4.0, 66604.0],\n",
       "       ['Honda', 'White', 4.0, 215883.0],\n",
       "       ['Toyota', 'Blue', 4.0, 248360.0]], dtype=object)"
      ]
     },
     "execution_count": 123,
     "metadata": {},
     "output_type": "execute_result"
    }
   ],
   "source": [
    "#Making imputers: Giving them the function of what we want them to do\n",
    "cat_imputer = SimpleImputer(strategy=\"constant\", fill_value=\"missing\")\n",
    "door_imputer = SimpleImputer(strategy=\"constant\", fill_value= 4)\n",
    "num_imputer = SimpleImputer(strategy=\"mean\")\n",
    "\n",
    "#if the strategy is constant, we have to give it a fill value\n",
    "#meaning: if you find the categorical value, fill them constantly with missing.\n",
    "\n",
    "\n",
    "#define which columns need which imputer\n",
    "cat_features = [\"Make\", \"Colour\"]\n",
    "door_features = [\"Doors\"]\n",
    "num_features = [\"Odometer (KM)\"]\n",
    "\n",
    "#Create an imputer (something that fills missing data)\n",
    "imputer = ColumnTransformer([(\"cat_imputer\", cat_imputer, cat_features), (\"door_imputer\", door_imputer, door_features), (\"num_imputer\", num_imputer, num_features)])\n",
    "\n",
    "#ColumnTransformer takes a list of what it needs to change\n",
    "#Within the list we create tuples\n",
    "#The value \"..\" is going to use the second value (imputer) on the third value (the features)\n",
    "\n",
    "#transform the data\n",
    "filled_X = imputer.fit_transform(X)\n",
    "filled_X\n",
    "\n",
    "#fill in X because that's the part of the data we want to use it on"
   ]
  },
  {
   "cell_type": "code",
   "execution_count": 125,
   "metadata": {},
   "outputs": [
    {
     "data": {
      "text/plain": [
       "Make             0\n",
       "Colour           0\n",
       "Doors            0\n",
       "Odometer (KM)    0\n",
       "dtype: int64"
      ]
     },
     "execution_count": 125,
     "metadata": {},
     "output_type": "execute_result"
    }
   ],
   "source": [
    "#get this do a df\n",
    "car_sales_filled = pd.DataFrame(filled_X, columns=[\"Make\", \"Colour\", \"Doors\", \"Odometer (KM)\"])\n",
    "\n",
    "car_sales_filled.isna().sum()"
   ]
  },
  {
   "cell_type": "code",
   "execution_count": 127,
   "metadata": {},
   "outputs": [
    {
     "data": {
      "text/plain": [
       "<950x15 sparse matrix of type '<class 'numpy.float64'>'\n",
       "\twith 3800 stored elements in Compressed Sparse Row format>"
      ]
     },
     "execution_count": 127,
     "metadata": {},
     "output_type": "execute_result"
    }
   ],
   "source": [
    "#Then make them numerical\n",
    "X = car_sales_filled\n",
    "categorical_features = [\"Make\", \"Colour\", \"Doors\"]\n",
    "one_hot = OneHotEncoder()\n",
    "transformer = ColumnTransformer([(\"one_hot\", one_hot, categorical_features)], remainder=\"passthrough\")\n",
    "transformed_X = transformer.fit_transform(X)\n",
    "transformed_X"
   ]
  },
  {
   "cell_type": "code",
   "execution_count": 132,
   "metadata": {},
   "outputs": [
    {
     "data": {
      "text/plain": [
       "0.33231910836115286"
      ]
     },
     "execution_count": 132,
     "metadata": {},
     "output_type": "execute_result"
    }
   ],
   "source": [
    "#Fit a model\n",
    "np.random.seed(9)\n",
    "\n",
    "X_train, X_test, y_train, y_test = train_test_split(transformed_X, y, test_size=0.2)\n",
    "\n",
    "model = RandomForestRegressor()\n",
    "model.fit(X_train, y_train)\n",
    "model.score(X_test, y_test)"
   ]
  },
  {
   "cell_type": "markdown",
   "metadata": {},
   "source": [
    "### 3.1 Choosing the right model (examples)"
   ]
  },
  {
   "cell_type": "code",
   "execution_count": 147,
   "metadata": {},
   "outputs": [],
   "source": [
    "#Estimator = learning model or algoritm\n",
    "#Classification = predicting category\n",
    "#Regression = predicting number\n",
    "#Ensemble method = combining different models\n",
    "#Decision tree = computer creates own if-else-function\n",
    "#Structured data? Ensemble methods usually work the best.\n",
    "#Unstructured data? Use deep/transfer learning\n"
   ]
  },
  {
   "cell_type": "markdown",
   "metadata": {},
   "source": [
    "#### Getting a standard df from scikit"
   ]
  },
  {
   "cell_type": "code",
   "execution_count": 148,
   "metadata": {},
   "outputs": [
    {
     "name": "stderr",
     "output_type": "stream",
     "text": [
      "C:\\Users\\noort\\.conda\\envs\\kitsu-katsu\\lib\\site-packages\\sklearn\\utils\\deprecation.py:87: FutureWarning: Function load_boston is deprecated; `load_boston` is deprecated in 1.0 and will be removed in 1.2.\n",
      "\n",
      "    The Boston housing prices dataset has an ethical problem. You can refer to\n",
      "    the documentation of this function for further details.\n",
      "\n",
      "    The scikit-learn maintainers therefore strongly discourage the use of this\n",
      "    dataset unless the purpose of the code is to study and educate about\n",
      "    ethical issues in data science and machine learning.\n",
      "\n",
      "    In this special case, you can fetch the dataset from the original\n",
      "    source::\n",
      "\n",
      "        import pandas as pd\n",
      "        import numpy as np\n",
      "\n",
      "\n",
      "        data_url = \"http://lib.stat.cmu.edu/datasets/boston\"\n",
      "        raw_df = pd.read_csv(data_url, sep=\"\\s+\", skiprows=22, header=None)\n",
      "        data = np.hstack([raw_df.values[::2, :], raw_df.values[1::2, :2]])\n",
      "        target = raw_df.values[1::2, 2]\n",
      "\n",
      "    Alternative datasets include the California housing dataset (i.e.\n",
      "    :func:`~sklearn.datasets.fetch_california_housing`) and the Ames housing\n",
      "    dataset. You can load the datasets as follows::\n",
      "\n",
      "        from sklearn.datasets import fetch_california_housing\n",
      "        housing = fetch_california_housing()\n",
      "\n",
      "    for the California housing dataset and::\n",
      "\n",
      "        from sklearn.datasets import fetch_openml\n",
      "        housing = fetch_openml(name=\"house_prices\", as_frame=True)\n",
      "\n",
      "    for the Ames housing dataset.\n",
      "    \n",
      "  warnings.warn(msg, category=FutureWarning)\n"
     ]
    },
    {
     "data": {
      "text/html": [
       "<div>\n",
       "<style scoped>\n",
       "    .dataframe tbody tr th:only-of-type {\n",
       "        vertical-align: middle;\n",
       "    }\n",
       "\n",
       "    .dataframe tbody tr th {\n",
       "        vertical-align: top;\n",
       "    }\n",
       "\n",
       "    .dataframe thead th {\n",
       "        text-align: right;\n",
       "    }\n",
       "</style>\n",
       "<table border=\"1\" class=\"dataframe\">\n",
       "  <thead>\n",
       "    <tr style=\"text-align: right;\">\n",
       "      <th></th>\n",
       "      <th>CRIM</th>\n",
       "      <th>ZN</th>\n",
       "      <th>INDUS</th>\n",
       "      <th>CHAS</th>\n",
       "      <th>NOX</th>\n",
       "      <th>RM</th>\n",
       "      <th>AGE</th>\n",
       "      <th>DIS</th>\n",
       "      <th>RAD</th>\n",
       "      <th>TAX</th>\n",
       "      <th>PTRATIO</th>\n",
       "      <th>B</th>\n",
       "      <th>LSTAT</th>\n",
       "      <th>target</th>\n",
       "    </tr>\n",
       "  </thead>\n",
       "  <tbody>\n",
       "    <tr>\n",
       "      <th>0</th>\n",
       "      <td>0.00632</td>\n",
       "      <td>18.0</td>\n",
       "      <td>2.31</td>\n",
       "      <td>0.0</td>\n",
       "      <td>0.538</td>\n",
       "      <td>6.575</td>\n",
       "      <td>65.2</td>\n",
       "      <td>4.0900</td>\n",
       "      <td>1.0</td>\n",
       "      <td>296.0</td>\n",
       "      <td>15.3</td>\n",
       "      <td>396.90</td>\n",
       "      <td>4.98</td>\n",
       "      <td>24.0</td>\n",
       "    </tr>\n",
       "    <tr>\n",
       "      <th>1</th>\n",
       "      <td>0.02731</td>\n",
       "      <td>0.0</td>\n",
       "      <td>7.07</td>\n",
       "      <td>0.0</td>\n",
       "      <td>0.469</td>\n",
       "      <td>6.421</td>\n",
       "      <td>78.9</td>\n",
       "      <td>4.9671</td>\n",
       "      <td>2.0</td>\n",
       "      <td>242.0</td>\n",
       "      <td>17.8</td>\n",
       "      <td>396.90</td>\n",
       "      <td>9.14</td>\n",
       "      <td>21.6</td>\n",
       "    </tr>\n",
       "    <tr>\n",
       "      <th>2</th>\n",
       "      <td>0.02729</td>\n",
       "      <td>0.0</td>\n",
       "      <td>7.07</td>\n",
       "      <td>0.0</td>\n",
       "      <td>0.469</td>\n",
       "      <td>7.185</td>\n",
       "      <td>61.1</td>\n",
       "      <td>4.9671</td>\n",
       "      <td>2.0</td>\n",
       "      <td>242.0</td>\n",
       "      <td>17.8</td>\n",
       "      <td>392.83</td>\n",
       "      <td>4.03</td>\n",
       "      <td>34.7</td>\n",
       "    </tr>\n",
       "    <tr>\n",
       "      <th>3</th>\n",
       "      <td>0.03237</td>\n",
       "      <td>0.0</td>\n",
       "      <td>2.18</td>\n",
       "      <td>0.0</td>\n",
       "      <td>0.458</td>\n",
       "      <td>6.998</td>\n",
       "      <td>45.8</td>\n",
       "      <td>6.0622</td>\n",
       "      <td>3.0</td>\n",
       "      <td>222.0</td>\n",
       "      <td>18.7</td>\n",
       "      <td>394.63</td>\n",
       "      <td>2.94</td>\n",
       "      <td>33.4</td>\n",
       "    </tr>\n",
       "    <tr>\n",
       "      <th>4</th>\n",
       "      <td>0.06905</td>\n",
       "      <td>0.0</td>\n",
       "      <td>2.18</td>\n",
       "      <td>0.0</td>\n",
       "      <td>0.458</td>\n",
       "      <td>7.147</td>\n",
       "      <td>54.2</td>\n",
       "      <td>6.0622</td>\n",
       "      <td>3.0</td>\n",
       "      <td>222.0</td>\n",
       "      <td>18.7</td>\n",
       "      <td>396.90</td>\n",
       "      <td>5.33</td>\n",
       "      <td>36.2</td>\n",
       "    </tr>\n",
       "  </tbody>\n",
       "</table>\n",
       "</div>"
      ],
      "text/plain": [
       "      CRIM    ZN  INDUS  CHAS    NOX     RM   AGE     DIS  RAD    TAX  \\\n",
       "0  0.00632  18.0   2.31   0.0  0.538  6.575  65.2  4.0900  1.0  296.0   \n",
       "1  0.02731   0.0   7.07   0.0  0.469  6.421  78.9  4.9671  2.0  242.0   \n",
       "2  0.02729   0.0   7.07   0.0  0.469  7.185  61.1  4.9671  2.0  242.0   \n",
       "3  0.03237   0.0   2.18   0.0  0.458  6.998  45.8  6.0622  3.0  222.0   \n",
       "4  0.06905   0.0   2.18   0.0  0.458  7.147  54.2  6.0622  3.0  222.0   \n",
       "\n",
       "   PTRATIO       B  LSTAT  target  \n",
       "0     15.3  396.90   4.98    24.0  \n",
       "1     17.8  396.90   9.14    21.6  \n",
       "2     17.8  392.83   4.03    34.7  \n",
       "3     18.7  394.63   2.94    33.4  \n",
       "4     18.7  396.90   5.33    36.2  "
      ]
     },
     "execution_count": 148,
     "metadata": {},
     "output_type": "execute_result"
    }
   ],
   "source": [
    "#there is a standard dataset you can always use for sk learn\n",
    "from sklearn.datasets import load_boston\n",
    "boston = load_boston()\n",
    "\n",
    "#because it is in a dict, we want a dataframe\n",
    "#you can set the columns to be the feature names from the dict\n",
    "#then create a target column from the target column\n",
    "boston_df = pd.DataFrame(boston[\"data\"], columns = boston[\"feature_names\"])\n",
    "boston_df[\"target\"] = pd.Series(boston[\"target\"])\n",
    "boston_df.head()"
   ]
  },
  {
   "cell_type": "markdown",
   "metadata": {},
   "source": [
    "#### Ridge Regression Model"
   ]
  },
  {
   "cell_type": "code",
   "execution_count": 135,
   "metadata": {},
   "outputs": [
    {
     "data": {
      "text/plain": [
       "0.5796111714164923"
      ]
     },
     "execution_count": 135,
     "metadata": {},
     "output_type": "execute_result"
    }
   ],
   "source": [
    "from sklearn.linear_model import Ridge\n",
    "np.random.seed(0)\n",
    "\n",
    "X = boston_df.drop(\"target\", axis=1)\n",
    "y = boston_df[\"target\"]\n",
    "X_train, X_test, y_train, y_test = train_test_split(X, y, test_size=0.2)\n",
    "\n",
    "model = Ridge()\n",
    "model.fit(X_train, y_train)\n",
    "model.score(X_test, y_test)\n",
    "\n",
    "#improve the model by looking at the map again"
   ]
  },
  {
   "cell_type": "markdown",
   "metadata": {},
   "source": [
    "#### Random forest regressor"
   ]
  },
  {
   "cell_type": "code",
   "execution_count": 140,
   "metadata": {},
   "outputs": [
    {
     "data": {
      "text/plain": [
       "0.7574875341278705"
      ]
     },
     "execution_count": 140,
     "metadata": {},
     "output_type": "execute_result"
    }
   ],
   "source": [
    "from sklearn.ensemble import RandomForestRegressor\n",
    "np.random.seed(0)\n",
    "\n",
    "X = boston_df.drop(\"target\", axis=1)\n",
    "y = boston_df[\"target\"]\n",
    "X_train, X_test, y_train, y_test = train_test_split(X, y, test_size=0.2)\n",
    "\n",
    "rf = RandomForestRegressor()\n",
    "rf.fit(X_train, y_train)\n",
    "rf.score(X_test, y_test)\n"
   ]
  },
  {
   "cell_type": "code",
   "execution_count": 142,
   "metadata": {},
   "outputs": [],
   "source": [
    "heart_disease = pd.read_csv(\"../13.1 heart-disease.csv\")"
   ]
  },
  {
   "cell_type": "markdown",
   "metadata": {},
   "source": [
    "#### Linear SVC"
   ]
  },
  {
   "cell_type": "code",
   "execution_count": 144,
   "metadata": {},
   "outputs": [
    {
     "name": "stderr",
     "output_type": "stream",
     "text": [
      "C:\\Users\\noort\\.conda\\envs\\kitsu-katsu\\lib\\site-packages\\sklearn\\svm\\_base.py:1206: ConvergenceWarning: Liblinear failed to converge, increase the number of iterations.\n",
      "  warnings.warn(\n"
     ]
    },
    {
     "data": {
      "text/plain": [
       "0.47540983606557374"
      ]
     },
     "execution_count": 144,
     "metadata": {},
     "output_type": "execute_result"
    }
   ],
   "source": [
    "from sklearn.svm import LinearSVC\n",
    "np.random.seed(9)\n",
    "\n",
    "X = heart_disease.drop(\"target\", axis=1)\n",
    "y = heart_disease[\"target\"]\n",
    "X_train, X_test, y_train, y_test = train_test_split(X, y, test_size=0.2)\n",
    "\n",
    "clf = LinearSVC()\n",
    "clf.fit(X_train, y_train)\n",
    "clf.score(X_test, y_test)\n",
    "\n",
    "#the liblinear warning can be overcome by adding in LinearSVC(max_iter=2000)"
   ]
  },
  {
   "cell_type": "markdown",
   "metadata": {},
   "source": [
    "#### Ensemble classifier / RandomForestClassifier"
   ]
  },
  {
   "cell_type": "code",
   "execution_count": 146,
   "metadata": {},
   "outputs": [
    {
     "data": {
      "text/plain": [
       "0.8032786885245902"
      ]
     },
     "execution_count": 146,
     "metadata": {},
     "output_type": "execute_result"
    }
   ],
   "source": [
    "from sklearn.ensemble import RandomForestClassifier\n",
    "np.random.seed(9)\n",
    "\n",
    "X = heart_disease.drop(\"target\", axis=1)\n",
    "y = heart_disease[\"target\"]\n",
    "X_train, X_test, y_train, y_test = train_test_split(X, y, test_size=0.2)\n",
    "\n",
    "rfc = RandomForestClassifier()\n",
    "rfc.fit(X_train, y_train)\n",
    "rfc.score(X_test, y_test)"
   ]
  },
  {
   "cell_type": "markdown",
   "metadata": {},
   "source": [
    "### 3.2 Fitting model (explanation) and prediction calculation"
   ]
  },
  {
   "cell_type": "markdown",
   "metadata": {},
   "source": [
    "#### Expl.: Fitting model to data"
   ]
  },
  {
   "cell_type": "code",
   "execution_count": 150,
   "metadata": {},
   "outputs": [],
   "source": [
    "# X = features (variables) or data\n",
    "# y = labels, class or target (variable)\n",
    "\n",
    "#model.fit = training the machine learning model\n",
    "#model.score = using the partner the model has\n",
    "\n",
    "#First step in fitting a model, is looking at the features and targets"
   ]
  },
  {
   "cell_type": "markdown",
   "metadata": {},
   "source": [
    "#### Expl.: Make predictions using machine learning models"
   ]
  },
  {
   "cell_type": "code",
   "execution_count": null,
   "metadata": {},
   "outputs": [],
   "source": [
    "#Two main ways to predict using a trained model:\n",
    "#1. predict()\n",
    "#2. predict_proba()"
   ]
  },
  {
   "cell_type": "markdown",
   "metadata": {},
   "source": [
    "##### Expl.: .predict()"
   ]
  },
  {
   "cell_type": "code",
   "execution_count": 151,
   "metadata": {},
   "outputs": [
    {
     "data": {
      "text/plain": [
       "array([1, 0, 1, 0, 0, 1, 1, 0, 1, 1, 0, 1, 1, 0, 1, 1, 1, 1, 1, 1, 1, 1,\n",
       "       1, 1, 0, 1, 1, 1, 1, 1, 1, 1, 1, 0, 0, 1, 1, 1, 1, 1, 0, 0, 1, 0,\n",
       "       1, 1, 1, 0, 1, 0, 0, 1, 1, 1, 1, 1, 0, 1, 1, 1, 0], dtype=int64)"
      ]
     },
     "execution_count": 151,
     "metadata": {},
     "output_type": "execute_result"
    }
   ],
   "source": [
    "#You do the same as with model.score(X_test)\n",
    "#But you get it in the same format as your target (np.array)\n",
    "\n",
    "rfc.predict(X_test)\n",
    "#You need the same amount of dimensions (rows&columns)"
   ]
  },
  {
   "cell_type": "code",
   "execution_count": 152,
   "metadata": {},
   "outputs": [
    {
     "data": {
      "text/plain": [
       "0.8032786885245902"
      ]
     },
     "execution_count": 152,
     "metadata": {},
     "output_type": "execute_result"
    }
   ],
   "source": [
    "#Compare predictions to truth labels to evaluate the model\n",
    "\n",
    "y_preds = rfc.predict(X_test)\n",
    "#Useful to make a different variables for the predictions\n",
    "\n",
    "np.mean(y_preds == y_test)\n",
    "#It's the same as the model.score()\n",
    "#This is possible because of the same format"
   ]
  },
  {
   "cell_type": "code",
   "execution_count": 153,
   "metadata": {},
   "outputs": [
    {
     "data": {
      "text/plain": [
       "0.8032786885245902"
      ]
     },
     "execution_count": 153,
     "metadata": {},
     "output_type": "execute_result"
    }
   ],
   "source": [
    "#.predict() with sklearn metrics\n",
    "\n",
    "from sklearn.metrics import accuracy_score\n",
    "\n",
    "accuracy_score(y_test, y_preds)\n",
    "#Gives the mean\n",
    "#Does the same but in different way"
   ]
  },
  {
   "cell_type": "markdown",
   "metadata": {},
   "source": [
    "##### Expl.: .predict_proba()"
   ]
  },
  {
   "cell_type": "code",
   "execution_count": 155,
   "metadata": {},
   "outputs": [
    {
     "data": {
      "text/plain": [
       "array([[0.26, 0.74],\n",
       "       [0.93, 0.07],\n",
       "       [0.16, 0.84],\n",
       "       [0.95, 0.05],\n",
       "       [0.94, 0.06]])"
      ]
     },
     "execution_count": 155,
     "metadata": {},
     "output_type": "execute_result"
    }
   ],
   "source": [
    "#Returns probabilities of a classification label\n",
    "#It does the same, but it returns something different\n",
    "#Instead of returning the label, it returns the probability of that label being true\n",
    "#One row shows both possiblities (0 and 1) and shows the probability of that 0 (or 1) being true\n",
    "\n",
    "#Use this to see the strength of the prediction, this gives you the possibility to:\n",
    "#See the strength of model\n",
    "#Remove samples with weak probabilities\n",
    "#Look at individual samples to see what makes it strong or weak\n",
    "\n",
    "rfc.predict_proba(X_test[:5]) #Just for show, we only want the first 5\n"
   ]
  },
  {
   "cell_type": "markdown",
   "metadata": {},
   "source": [
    "#### Calculating predictions"
   ]
  },
  {
   "cell_type": "code",
   "execution_count": 158,
   "metadata": {},
   "outputs": [],
   "source": [
    "from sklearn.ensemble import RandomForestRegressor\n",
    "np.random.seed(9)\n",
    "\n",
    "X= boston_df.drop(\"target\", axis=1)\n",
    "y= boston_df[\"target\"]\n",
    "X_train, X_test, y_train, y_test = train_test_split(X, y, test_size=0.2)\n",
    "\n",
    "model = RandomForestRegressor().fit(X_train, y_train) #just a shorter way\n",
    "\n",
    "#Make predictions\n",
    "y_preds = model.predict(X_test)"
   ]
  },
  {
   "cell_type": "code",
   "execution_count": 159,
   "metadata": {},
   "outputs": [
    {
     "data": {
      "text/plain": [
       "(array([21.8  , 13.931, 29.985, 16.501, 19.997, 19.897, 30.007, 34.231,\n",
       "        18.015, 16.507]),\n",
       " array([21.4,  8.4, 33.1, 13.6, 18.5, 23.8, 35.1, 36.2, 17.7, 15.6]))"
      ]
     },
     "execution_count": 159,
     "metadata": {},
     "output_type": "execute_result"
    }
   ],
   "source": [
    "#The predictions the model made and the actual target:\n",
    "y_preds[:10], np.array(y_test[:10])"
   ]
  },
  {
   "cell_type": "code",
   "execution_count": 160,
   "metadata": {},
   "outputs": [
    {
     "data": {
      "text/plain": [
       "2.4057941176470594"
      ]
     },
     "execution_count": 160,
     "metadata": {},
     "output_type": "execute_result"
    }
   ],
   "source": [
    "#Compare the predictions to the truth\n",
    "#Calculates the difference, adds them up and gives the mean of difference\n",
    "from sklearn.metrics import mean_absolute_error\n",
    "mean_absolute_error(y_test, y_preds)"
   ]
  },
  {
   "cell_type": "markdown",
   "metadata": {},
   "source": [
    "### 4.1 Evaluating a classification model"
   ]
  },
  {
   "cell_type": "code",
   "execution_count": 48,
   "metadata": {},
   "outputs": [],
   "source": [
    "#Accuracy: Is a goof measure to start with if all classed are balanced.\n",
    "#Precision and Recall: Become more important when classes are imbalanced.\n",
    "# -If false positive predictions are worse than false negative, aim for higher precision.\n",
    "# -If false negative predictions are worse than false positive, aim for higher recall.\n",
    "#F1-score: Is a combination of precision and recall."
   ]
  },
  {
   "cell_type": "markdown",
   "metadata": {},
   "source": [
    "#### Estimator score method"
   ]
  },
  {
   "cell_type": "code",
   "execution_count": 18,
   "metadata": {},
   "outputs": [],
   "source": [
    "#Making a model to evaluate\n",
    "from sklearn.ensemble import RandomForestClassifier\n",
    "np.random.seed(9)\n",
    "X = heart_disease.drop(\"target\", axis=1)\n",
    "y = heart_disease[\"target\"]\n",
    "X_train, X_test, y_train, y_test = train_test_split(X, y, test_size=0.2)\n",
    "clf = RandomForestClassifier().fit(X_train, y_train)"
   ]
  },
  {
   "cell_type": "code",
   "execution_count": 167,
   "metadata": {},
   "outputs": [
    {
     "data": {
      "text/plain": [
       "0.8032786885245902"
      ]
     },
     "execution_count": 167,
     "metadata": {},
     "output_type": "execute_result"
    }
   ],
   "source": [
    "#.score()\n",
    "#It depends on the model how the score method works\n",
    "clf.score(X_test, y_test)"
   ]
  },
  {
   "cell_type": "markdown",
   "metadata": {},
   "source": [
    "#### The scoring paramater & Accuracy"
   ]
  },
  {
   "cell_type": "code",
   "execution_count": 171,
   "metadata": {},
   "outputs": [
    {
     "data": {
      "text/plain": [
       "array([0.83606557, 0.8852459 , 0.80327869, 0.83333333, 0.73333333])"
      ]
     },
     "execution_count": 171,
     "metadata": {},
     "output_type": "execute_result"
    }
   ],
   "source": [
    "#Cross validations makes different versions of the training and testing data set and gived the score\n",
    "#This avoids luck based on what data is training and what is testing\n",
    "#cv or k-folds = the amount of different versions it uses with training and testing\n",
    "#Change the amount of folds with the parameter cv=...\n",
    "\n",
    "#Import the method\n",
    "from sklearn.model_selection import cross_val_score\n",
    "\n",
    "#Using the method\n",
    "cross_val_score(clf, X, y)"
   ]
  },
  {
   "cell_type": "code",
   "execution_count": 16,
   "metadata": {},
   "outputs": [
    {
     "data": {
      "text/plain": [
       "0.8313661202185791"
      ]
     },
     "execution_count": 16,
     "metadata": {},
     "output_type": "execute_result"
    }
   ],
   "source": [
    "#How to take the mean of the method: Accuracy\n",
    "clf_score_val_score = np.mean(cross_val_score(clf, X, y))\n",
    "clf_score_val_score"
   ]
  },
  {
   "cell_type": "code",
   "execution_count": null,
   "metadata": {},
   "outputs": [],
   "source": [
    "#The default scoring parameter is set to None, meaning\n",
    "#It uses the scoring parameter that best suits the model, same as .score()\n",
    "#This can be changed with scoring=..."
   ]
  },
  {
   "cell_type": "markdown",
   "metadata": {},
   "source": [
    "#### Classification model evaluation metrics"
   ]
  },
  {
   "cell_type": "markdown",
   "metadata": {},
   "source": [
    "##### Area under the receiver operating characteristic curve (AUC/ROC)"
   ]
  },
  {
   "cell_type": "code",
   "execution_count": null,
   "metadata": {},
   "outputs": [],
   "source": [
    "#It compares of a models true positive rate (TPR) versus a false positive rate (FPR)\n",
    "#True positive = model predicts 1 when the truth is 1\n",
    "#False positive = model predicts 1 when the truth is 0\n",
    "#Same goes for the true/false negative"
   ]
  },
  {
   "cell_type": "code",
   "execution_count": 23,
   "metadata": {},
   "outputs": [
    {
     "data": {
      "text/plain": [
       "array([0.        , 0.        , 0.        , 0.        , 0.        ,\n",
       "       0.        , 0.        , 0.        , 0.04347826, 0.04347826,\n",
       "       0.04347826, 0.13043478, 0.13043478, 0.17391304, 0.17391304,\n",
       "       0.17391304, 0.2173913 , 0.2173913 , 0.2173913 , 0.2173913 ,\n",
       "       0.26086957, 0.26086957, 0.30434783, 0.39130435, 0.39130435,\n",
       "       0.43478261, 0.47826087, 0.47826087, 0.60869565, 0.73913043,\n",
       "       0.82608696, 0.91304348, 1.        ])"
      ]
     },
     "execution_count": 23,
     "metadata": {},
     "output_type": "execute_result"
    }
   ],
   "source": [
    "from sklearn.metrics import roc_curve\n",
    "\n",
    "#Make predictions with probabilities\n",
    "clf.fit(X_train, y_train)\n",
    "y_probs = clf.predict_proba(X_test)\n",
    "\n",
    "#Keep the positive classes (because we don't want true/false negatives)\n",
    "y_probs_positive = y_probs[:, 1] #we only the rows with target 1\n",
    "\n",
    "#Calculate fpr, tpr and tresholds\n",
    "fpr, tpr, tresholds = roc_curve(y_test, y_probs_positive)\n",
    "\n",
    "#Check the false positive rates\n",
    "fpr\n"
   ]
  },
  {
   "cell_type": "code",
   "execution_count": 25,
   "metadata": {},
   "outputs": [
    {
     "data": {
      "image/png": "[encoded data removed]",
      "text/plain": [
       "<Figure size 432x288 with 1 Axes>"
      ]
     },
     "metadata": {
      "needs_background": "light"
     },
     "output_type": "display_data"
    }
   ],
   "source": [
    "#Create a function for plotting ROC curves\n",
    "import matplotlib.pyplot as plt\n",
    "\n",
    "def plot_roc_curve(fpr, tpr):\n",
    "    \"\"\"\n",
    "    Plots a ROC curve given the false positve rate (fpr)\n",
    "    and true positive rate (tpr) of a model.\n",
    "    \"\"\"\n",
    "\n",
    "#Plot ROC curve\n",
    "plt.plot(fpr, tpr, color=\"orange\", label=\"ROC\")\n",
    "\n",
    "#Plot line with no predicitve power (baseline)\n",
    "plt.plot([0,1], [0,1], color=\"darkblue\", linestyle=\"--\", label=\"Guessing\")\n",
    "\n",
    "#Customize the plot\n",
    "plt.xlabel(\"False positive rate (fpr)\")\n",
    "plt.ylabel(\"True positive rate (tpr)\")\n",
    "plt.title(\"Receiver operating Charateristic (ROC) Curve\")\n",
    "plt.legend()\n",
    "plt.show()\n",
    "\n",
    "plot_roc_curve(fpr,tpr)"
   ]
  },
  {
   "cell_type": "code",
   "execution_count": 27,
   "metadata": {},
   "outputs": [
    {
     "data": {
      "text/plain": [
       "0.8747139588100687"
      ]
     },
     "execution_count": 27,
     "metadata": {},
     "output_type": "execute_result"
    }
   ],
   "source": [
    "#Get the AUC score\n",
    "from sklearn.metrics import roc_auc_score\n",
    "roc_auc_score(y_test, y_probs_positive)\n",
    "\n",
    "#This is the probability or area under the curve\n",
    "#A 1.0 probability is a perfect curve\n",
    "#You can use the graph or the score the represent the ROC Curve\n"
   ]
  },
  {
   "cell_type": "markdown",
   "metadata": {},
   "source": [
    "##### The confusion matrix"
   ]
  },
  {
   "cell_type": "code",
   "execution_count": 31,
   "metadata": {},
   "outputs": [],
   "source": [
    "#Confusion matrix = a quick way to compare the labels a model predicts and \n",
    "#the acual labels it was supposed to product.\n",
    "#In essence, giving an idea where the model is getting confused\n"
   ]
  },
  {
   "cell_type": "code",
   "execution_count": 32,
   "metadata": {},
   "outputs": [
    {
     "data": {
      "text/plain": [
       "array([[18,  5],\n",
       "       [ 6, 32]], dtype=int64)"
      ]
     },
     "execution_count": 32,
     "metadata": {},
     "output_type": "execute_result"
    }
   ],
   "source": [
    "from sklearn.metrics import confusion_matrix\n",
    "y_preds = clf.predict(X_test)\n",
    "\n",
    "confusion_matrix(y_test, y_preds)"
   ]
  },
  {
   "cell_type": "code",
   "execution_count": 33,
   "metadata": {},
   "outputs": [
    {
     "data": {
      "text/html": [
       "<div>\n",
       "<style scoped>\n",
       "    .dataframe tbody tr th:only-of-type {\n",
       "        vertical-align: middle;\n",
       "    }\n",
       "\n",
       "    .dataframe tbody tr th {\n",
       "        vertical-align: top;\n",
       "    }\n",
       "\n",
       "    .dataframe thead th {\n",
       "        text-align: right;\n",
       "    }\n",
       "</style>\n",
       "<table border=\"1\" class=\"dataframe\">\n",
       "  <thead>\n",
       "    <tr style=\"text-align: right;\">\n",
       "      <th>Predicted Labels</th>\n",
       "      <th>0</th>\n",
       "      <th>1</th>\n",
       "    </tr>\n",
       "    <tr>\n",
       "      <th>Actual label</th>\n",
       "      <th></th>\n",
       "      <th></th>\n",
       "    </tr>\n",
       "  </thead>\n",
       "  <tbody>\n",
       "    <tr>\n",
       "      <th>0</th>\n",
       "      <td>18</td>\n",
       "      <td>5</td>\n",
       "    </tr>\n",
       "    <tr>\n",
       "      <th>1</th>\n",
       "      <td>6</td>\n",
       "      <td>32</td>\n",
       "    </tr>\n",
       "  </tbody>\n",
       "</table>\n",
       "</div>"
      ],
      "text/plain": [
       "Predicted Labels   0   1\n",
       "Actual label            \n",
       "0                 18   5\n",
       "1                  6  32"
      ]
     },
     "execution_count": 33,
     "metadata": {},
     "output_type": "execute_result"
    }
   ],
   "source": [
    "#Visualize matrix with pd.crosstab()\n",
    "#You can cross reference what the model predicted and what the actual labels were.\n",
    "pd.crosstab(y_test, y_preds, rownames=[\"Actual label\"], colnames=[\"Predicted Labels\"])"
   ]
  },
  {
   "cell_type": "code",
   "execution_count": 43,
   "metadata": {},
   "outputs": [
    {
     "data": {
      "image/png": "[encoded data removed]",
      "text/plain": [
       "<Figure size 432x288 with 2 Axes>"
      ]
     },
     "metadata": {},
     "output_type": "display_data"
    }
   ],
   "source": [
    "#Visualize matrix with Seaborn's heatmap()\n",
    "import seaborn as sns\n",
    "\n",
    "#Set the font scale\n",
    "sns.set(font_scale=1.5)\n",
    "\n",
    "#Create a confusion matrix\n",
    "conf_mat = confusion_matrix(y_test, y_preds)\n",
    "\n",
    "#Plot it using Seaborn\n",
    "sns.heatmap(conf_mat);"
   ]
  },
  {
   "cell_type": "code",
   "execution_count": 44,
   "metadata": {},
   "outputs": [
    {
     "data": {
      "image/png": "[encoded data removed]",
      "text/plain": [
       "<Figure size 216x216 with 1 Axes>"
      ]
     },
     "metadata": {},
     "output_type": "display_data"
    }
   ],
   "source": [
    "#Making it a function and customizing\n",
    "def plot_conf_mat(conf_mat):\n",
    "    \"\"\"\n",
    "    Plots a confusion matrix using Seaborn's heatmap().\n",
    "    \"\"\"\n",
    "\n",
    "fig, ax = plt.subplots(figsize=(3,3))\n",
    "ax = sns.heatmap(conf_mat, annot=True, cbar=False) #Annotate the boxes with conf_mat info\n",
    "\n",
    "plt.xlabel(\"True label\")\n",
    "plt.ylabel(\"Predicted label\");\n"
   ]
  },
  {
   "cell_type": "markdown",
   "metadata": {},
   "source": [
    "##### Classification report"
   ]
  },
  {
   "cell_type": "code",
   "execution_count": 47,
   "metadata": {},
   "outputs": [
    {
     "name": "stdout",
     "output_type": "stream",
     "text": [
      "              precision    recall  f1-score   support\n",
      "\n",
      "           0       0.75      0.78      0.77        23\n",
      "           1       0.86      0.84      0.85        38\n",
      "\n",
      "    accuracy                           0.82        61\n",
      "   macro avg       0.81      0.81      0.81        61\n",
      "weighted avg       0.82      0.82      0.82        61\n",
      "\n"
     ]
    },
    {
     "data": {
      "text/html": [
       "<div>\n",
       "<style scoped>\n",
       "    .dataframe tbody tr th:only-of-type {\n",
       "        vertical-align: middle;\n",
       "    }\n",
       "\n",
       "    .dataframe tbody tr th {\n",
       "        vertical-align: top;\n",
       "    }\n",
       "\n",
       "    .dataframe thead th {\n",
       "        text-align: right;\n",
       "    }\n",
       "</style>\n",
       "<table border=\"1\" class=\"dataframe\">\n",
       "  <thead>\n",
       "    <tr style=\"text-align: right;\">\n",
       "      <th></th>\n",
       "      <th>0</th>\n",
       "      <th>1</th>\n",
       "      <th>accuracy</th>\n",
       "      <th>macro avg</th>\n",
       "      <th>weighted avg</th>\n",
       "    </tr>\n",
       "  </thead>\n",
       "  <tbody>\n",
       "    <tr>\n",
       "      <th>precision</th>\n",
       "      <td>0.750000</td>\n",
       "      <td>0.864865</td>\n",
       "      <td>0.819672</td>\n",
       "      <td>0.807432</td>\n",
       "      <td>0.821555</td>\n",
       "    </tr>\n",
       "    <tr>\n",
       "      <th>recall</th>\n",
       "      <td>0.782609</td>\n",
       "      <td>0.842105</td>\n",
       "      <td>0.819672</td>\n",
       "      <td>0.812357</td>\n",
       "      <td>0.819672</td>\n",
       "    </tr>\n",
       "    <tr>\n",
       "      <th>f1-score</th>\n",
       "      <td>0.765957</td>\n",
       "      <td>0.853333</td>\n",
       "      <td>0.819672</td>\n",
       "      <td>0.809645</td>\n",
       "      <td>0.820388</td>\n",
       "    </tr>\n",
       "    <tr>\n",
       "      <th>support</th>\n",
       "      <td>23.000000</td>\n",
       "      <td>38.000000</td>\n",
       "      <td>0.819672</td>\n",
       "      <td>61.000000</td>\n",
       "      <td>61.000000</td>\n",
       "    </tr>\n",
       "  </tbody>\n",
       "</table>\n",
       "</div>"
      ],
      "text/plain": [
       "                   0          1  accuracy  macro avg  weighted avg\n",
       "precision   0.750000   0.864865  0.819672   0.807432      0.821555\n",
       "recall      0.782609   0.842105  0.819672   0.812357      0.819672\n",
       "f1-score    0.765957   0.853333  0.819672   0.809645      0.820388\n",
       "support    23.000000  38.000000  0.819672  61.000000     61.000000"
      ]
     },
     "execution_count": 47,
     "metadata": {},
     "output_type": "execute_result"
    }
   ],
   "source": [
    "#Import\n",
    "from sklearn.metrics import classification_report\n",
    "print(classification_report(y_test, y_preds))\n",
    "\n",
    "#Can also do it like this\n",
    "pd.DataFrame(classification_report(y_test, y_preds, output_dict=True))"
   ]
  },
  {
   "cell_type": "code",
   "execution_count": null,
   "metadata": {},
   "outputs": [],
   "source": [
    "#Precision and recall become more valuable when the ratio for 0 and 1 is out of balance (100/1)\n"
   ]
  },
  {
   "cell_type": "markdown",
   "metadata": {},
   "source": [
    "### 4.2 Evaluating a regression model"
   ]
  },
  {
   "cell_type": "code",
   "execution_count": 64,
   "metadata": {},
   "outputs": [],
   "source": [
    "#3 most common:\n",
    "#R^2 or coefficient of determination (you want to maximize this one)\n",
    "#Mean absolute error (MAE) (you want to minimize this one)\n",
    "#Mean squared error (MSE) (also minimize, and most likely to use)"
   ]
  },
  {
   "cell_type": "markdown",
   "metadata": {},
   "source": [
    "#### R^2"
   ]
  },
  {
   "cell_type": "code",
   "execution_count": null,
   "metadata": {},
   "outputs": [],
   "source": [
    "#Compares the models predictions to the mean of the targets\n",
    "#A value of 1.0 is the highest possible"
   ]
  },
  {
   "cell_type": "code",
   "execution_count": 52,
   "metadata": {},
   "outputs": [],
   "source": [
    "#Getting the data first\n",
    "from sklearn.ensemble import RandomForestRegressor\n",
    "np.random.seed(9)\n",
    "from sklearn.datasets import load_boston\n",
    "boston = load_boston()\n",
    "boston_df = pd.DataFrame(boston[\"data\"], columns = boston[\"feature_names\"])\n",
    "boston_df[\"target\"] = pd.Series(boston[\"target\"])\n",
    "X = boston_df.drop(\"target\", axis=1)\n",
    "y = boston_df[\"target\"]\n",
    "X_train, X_test, y_train, y_test = train_test_split(X, y, test_size=0.2)\n",
    "model = RandomForestRegressor()\n",
    "model.fit(X_train, y_train);"
   ]
  },
  {
   "cell_type": "code",
   "execution_count": 55,
   "metadata": {},
   "outputs": [
    {
     "data": {
      "text/plain": [
       "0.0"
      ]
     },
     "execution_count": 55,
     "metadata": {},
     "output_type": "execute_result"
    }
   ],
   "source": [
    "#Import the metric\n",
    "from sklearn.metrics import r2_score\n",
    "\n",
    "#Fill an array with y_test mean\n",
    "y_test_mean = np.full(len(y_test), y_test.mean())\n",
    "\n",
    "#Comparing to the mean\n",
    "r2_score(y_test, y_test_mean)"
   ]
  },
  {
   "cell_type": "markdown",
   "metadata": {},
   "source": [
    "#### Mean absolute error (MAE)"
   ]
  },
  {
   "cell_type": "code",
   "execution_count": 62,
   "metadata": {},
   "outputs": [],
   "source": [
    "#It is the average of the absolute difference between predictions and actual values\n",
    "#It gives an idea of how wrong the model's predictions are\n",
    "#The actual value is inside the range of the predicted value -MAE and +MAE.\n",
    "\n",
    "#Use this: When being 10,000 is twice as bad as being 5,000 off."
   ]
  },
  {
   "cell_type": "code",
   "execution_count": 58,
   "metadata": {},
   "outputs": [
    {
     "data": {
      "text/plain": [
       "2.4057941176470594"
      ]
     },
     "execution_count": 58,
     "metadata": {},
     "output_type": "execute_result"
    }
   ],
   "source": [
    "#Getting the MAE\n",
    "from sklearn.metrics import mean_absolute_error\n",
    "y_preds = model.predict(X_test)\n",
    "mae = mean_absolute_error(y_test, y_preds)\n",
    "mae"
   ]
  },
  {
   "cell_type": "code",
   "execution_count": 61,
   "metadata": {},
   "outputs": [
    {
     "data": {
      "text/html": [
       "<div>\n",
       "<style scoped>\n",
       "    .dataframe tbody tr th:only-of-type {\n",
       "        vertical-align: middle;\n",
       "    }\n",
       "\n",
       "    .dataframe tbody tr th {\n",
       "        vertical-align: top;\n",
       "    }\n",
       "\n",
       "    .dataframe thead th {\n",
       "        text-align: right;\n",
       "    }\n",
       "</style>\n",
       "<table border=\"1\" class=\"dataframe\">\n",
       "  <thead>\n",
       "    <tr style=\"text-align: right;\">\n",
       "      <th></th>\n",
       "      <th>actual values</th>\n",
       "      <th>predicted values</th>\n",
       "      <th>differences</th>\n",
       "    </tr>\n",
       "  </thead>\n",
       "  <tbody>\n",
       "    <tr>\n",
       "      <th>464</th>\n",
       "      <td>21.4</td>\n",
       "      <td>21.800</td>\n",
       "      <td>0.400</td>\n",
       "    </tr>\n",
       "    <tr>\n",
       "      <th>419</th>\n",
       "      <td>8.4</td>\n",
       "      <td>13.931</td>\n",
       "      <td>5.531</td>\n",
       "    </tr>\n",
       "    <tr>\n",
       "      <th>277</th>\n",
       "      <td>33.1</td>\n",
       "      <td>29.985</td>\n",
       "      <td>-3.115</td>\n",
       "    </tr>\n",
       "    <tr>\n",
       "      <th>491</th>\n",
       "      <td>13.6</td>\n",
       "      <td>16.501</td>\n",
       "      <td>2.901</td>\n",
       "    </tr>\n",
       "    <tr>\n",
       "      <th>337</th>\n",
       "      <td>18.5</td>\n",
       "      <td>19.997</td>\n",
       "      <td>1.497</td>\n",
       "    </tr>\n",
       "    <tr>\n",
       "      <th>...</th>\n",
       "      <td>...</td>\n",
       "      <td>...</td>\n",
       "      <td>...</td>\n",
       "    </tr>\n",
       "    <tr>\n",
       "      <th>34</th>\n",
       "      <td>13.5</td>\n",
       "      <td>14.844</td>\n",
       "      <td>1.344</td>\n",
       "    </tr>\n",
       "    <tr>\n",
       "      <th>335</th>\n",
       "      <td>21.1</td>\n",
       "      <td>20.578</td>\n",
       "      <td>-0.522</td>\n",
       "    </tr>\n",
       "    <tr>\n",
       "      <th>159</th>\n",
       "      <td>23.3</td>\n",
       "      <td>28.018</td>\n",
       "      <td>4.718</td>\n",
       "    </tr>\n",
       "    <tr>\n",
       "      <th>89</th>\n",
       "      <td>28.7</td>\n",
       "      <td>33.959</td>\n",
       "      <td>5.259</td>\n",
       "    </tr>\n",
       "    <tr>\n",
       "      <th>216</th>\n",
       "      <td>23.3</td>\n",
       "      <td>21.493</td>\n",
       "      <td>-1.807</td>\n",
       "    </tr>\n",
       "  </tbody>\n",
       "</table>\n",
       "<p>102 rows × 3 columns</p>\n",
       "</div>"
      ],
      "text/plain": [
       "     actual values  predicted values  differences\n",
       "464           21.4            21.800        0.400\n",
       "419            8.4            13.931        5.531\n",
       "277           33.1            29.985       -3.115\n",
       "491           13.6            16.501        2.901\n",
       "337           18.5            19.997        1.497\n",
       "..             ...               ...          ...\n",
       "34            13.5            14.844        1.344\n",
       "335           21.1            20.578       -0.522\n",
       "159           23.3            28.018        4.718\n",
       "89            28.7            33.959        5.259\n",
       "216           23.3            21.493       -1.807\n",
       "\n",
       "[102 rows x 3 columns]"
      ]
     },
     "execution_count": 61,
     "metadata": {},
     "output_type": "execute_result"
    }
   ],
   "source": [
    "\n",
    "#Visualizing MAE\n",
    "df = pd.DataFrame(data={\"actual values\": y_test, \"predicted values\": y_preds})\n",
    "df[\"differences\"] = df[\"predicted values\"] - df[\"actual values\"]\n",
    "df"
   ]
  },
  {
   "cell_type": "markdown",
   "metadata": {},
   "source": [
    "#### Mean squared error (MSE)"
   ]
  },
  {
   "cell_type": "code",
   "execution_count": null,
   "metadata": {},
   "outputs": [],
   "source": [
    "#It squares the mean absolute error (MAE) and takes the average\n",
    "#Gives a better indication of how far off your model's predictions are on average.\n",
    "#This method amplifies larger differences\n",
    "\n",
    "#Use this: When being 10,000 off is more than twice as bad as being 5,000 off."
   ]
  },
  {
   "cell_type": "code",
   "execution_count": 63,
   "metadata": {},
   "outputs": [],
   "source": [
    "#Getting the MSE\n",
    "from sklearn.metrics import mean_squared_error\n",
    "mse = mean_squared_error(y_test, y_preds)"
   ]
  },
  {
   "cell_type": "markdown",
   "metadata": {},
   "source": [
    "### 4.3 Evaluating based on scoring parameter and metric functions"
   ]
  },
  {
   "cell_type": "markdown",
   "metadata": {},
   "source": [
    "#### Scoring parameter: Classification model"
   ]
  },
  {
   "cell_type": "code",
   "execution_count": 8,
   "metadata": {},
   "outputs": [],
   "source": [
    "#Importing\n",
    "from sklearn.model_selection import cross_val_score\n",
    "from sklearn.ensemble import RandomForestClassifier\n",
    "import numpy as np\n",
    "X = heart_disease.drop(\"target\", axis=1)\n",
    "y= heart_disease[\"target\"]\n",
    "clf = RandomForestClassifier()"
   ]
  },
  {
   "cell_type": "code",
   "execution_count": 18,
   "metadata": {},
   "outputs": [
    {
     "name": "stdout",
     "output_type": "stream",
     "text": [
      "The cross-validated accuracy is: 82.16%\n"
     ]
    }
   ],
   "source": [
    "#Get the cross val score\n",
    "np.random.seed(9)\n",
    "cv_acc = cross_val_score(clf, X, y) #scoring parameter=None\n",
    "print(f\"The cross-validated accuracy is: {np.mean(cv_acc)*100:.2f}%\") "
   ]
  },
  {
   "cell_type": "code",
   "execution_count": 24,
   "metadata": {},
   "outputs": [
    {
     "name": "stdout",
     "output_type": "stream",
     "text": [
      "The cross-validated accuracy is: 82.16%\n"
     ]
    }
   ],
   "source": [
    "#Set the scoring parameter to accuracy\n",
    "np.random.seed(9)\n",
    "cv_acc = cross_val_score(clf, X, y, scoring=\"accuracy\")\n",
    "print(f\"The cross-validated accuracy is: {np.mean(cv_acc)*100:.2f}%\") "
   ]
  },
  {
   "cell_type": "code",
   "execution_count": 26,
   "metadata": {},
   "outputs": [
    {
     "name": "stdout",
     "output_type": "stream",
     "text": [
      "The cross-validated precision is: 84.65%\n"
     ]
    }
   ],
   "source": [
    "#Get precision\n",
    "cv_precision = cross_val_score(clf, X, y, scoring=\"precision\")\n",
    "print(f\"The cross-validated precision is: {np.mean(cv_precision)*100:.2f}%\") "
   ]
  },
  {
   "cell_type": "code",
   "execution_count": 27,
   "metadata": {},
   "outputs": [
    {
     "name": "stdout",
     "output_type": "stream",
     "text": [
      "The cross-validated recall is: 85.45%\n"
     ]
    }
   ],
   "source": [
    "#Get recall\n",
    "cv_recall = cross_val_score(clf, X, y, scoring=\"recall\")\n",
    "print(f\"The cross-validated recall is: {np.mean(cv_recall)*100:.2f}%\") "
   ]
  },
  {
   "cell_type": "code",
   "execution_count": 28,
   "metadata": {},
   "outputs": [
    {
     "name": "stdout",
     "output_type": "stream",
     "text": [
      "The cross-validated precision and recall combined is: 84.97%\n"
     ]
    }
   ],
   "source": [
    "#Get f1 (combination of precision and recall)\n",
    "cv_f1 = cross_val_score(clf, X, y, scoring=\"f1\")\n",
    "print(f\"The cross-validated precision and recall combined is: {np.mean(cv_f1)*100:.2f}%\") "
   ]
  },
  {
   "cell_type": "markdown",
   "metadata": {},
   "source": [
    "#### Scoring parameter: Regression model"
   ]
  },
  {
   "cell_type": "code",
   "execution_count": 32,
   "metadata": {},
   "outputs": [],
   "source": [
    "#Importing\n",
    "from sklearn.model_selection import cross_val_score\n",
    "from sklearn.ensemble import RandomForestRegressor\n",
    "#from sklearn import train_test_split\n",
    "X = boston_df.drop(\"target\", axis=1)\n",
    "y = boston_df[\"target\"]\n",
    "#X_train, X_test, y_train, y_test = train_test_split(X, y, test_size=0.2)\n",
    "\n",
    "model = RandomForestRegressor()\n"
   ]
  },
  {
   "cell_type": "code",
   "execution_count": 36,
   "metadata": {},
   "outputs": [
    {
     "name": "stdout",
     "output_type": "stream",
     "text": [
      "The cross-validated score is: 62.61%\n"
     ]
    }
   ],
   "source": [
    "#Default score is R^2\n",
    "np.random.seed(9)\n",
    "cv_r2 = cross_val_score(model, X, y)\n",
    "print(f\"The cross-validated score is: {np.mean(cv_r2)*100:.2f}%\") "
   ]
  },
  {
   "cell_type": "code",
   "execution_count": 48,
   "metadata": {},
   "outputs": [
    {
     "data": {
      "text/plain": [
       "-3.0217500485342654"
      ]
     },
     "execution_count": 48,
     "metadata": {},
     "output_type": "execute_result"
    }
   ],
   "source": [
    "#Get the mean absolute error (MAE)\n",
    "cv_mea = cross_val_score(model, X, y, scoring=\"neg_mean_absolute_error\")\n",
    "np.mean(cv_mea)\n",
    "\n",
    "#All scorer objects follow the convention that higher return values are better than lower return values.\n",
    "#This is the reason why we type 'neg_'"
   ]
  },
  {
   "cell_type": "code",
   "execution_count": 49,
   "metadata": {},
   "outputs": [
    {
     "data": {
      "text/plain": [
       "-21.958411695476606"
      ]
     },
     "execution_count": 49,
     "metadata": {},
     "output_type": "execute_result"
    }
   ],
   "source": [
    "#Get the mean squared arror (MSE)\n",
    "cv_mse = cross_val_score(model, X, y, scoring=\"neg_mean_squared_error\")\n",
    "np.mean(cv_mse)"
   ]
  },
  {
   "cell_type": "markdown",
   "metadata": {},
   "source": [
    "#### Metric functions: Classification model"
   ]
  },
  {
   "cell_type": "code",
   "execution_count": 53,
   "metadata": {},
   "outputs": [
    {
     "name": "stdout",
     "output_type": "stream",
     "text": [
      "Classifier metrics on the test set.\n",
      "Accuracy: 80.33%\n",
      "Precision: 86.11%\n",
      "Recall: 81.58%\n",
      "F1: 83.78%\n"
     ]
    }
   ],
   "source": [
    "#Importing\n",
    "from sklearn.metrics import accuracy_score, precision_score, recall_score, f1_score\n",
    "from sklearn.ensemble import RandomForestClassifier\n",
    "from sklearn.model_selection import train_test_split\n",
    "\n",
    "#Data\n",
    "np.random.seed(9)\n",
    "X = heart_disease.drop(\"target\", axis=1)\n",
    "y = heart_disease[\"target\"]\n",
    "X_train, X_test, y_train, y_test = train_test_split(X, y, test_size=0.2)\n",
    "\n",
    "#Model\n",
    "clf = RandomForestClassifier()\n",
    "clf.fit(X_train, y_train)\n",
    "\n",
    "#Make predictions\n",
    "y_preds = clf.predict(X_test)\n",
    "\n",
    "#Communicate the evaluation of the classifier\n",
    "print(\"Classifier metrics on the test set.\")\n",
    "print(f\"Accuracy: {accuracy_score(y_test, y_preds)*100:.2f}%\")\n",
    "print(f\"Precision: {precision_score(y_test, y_preds)*100:.2f}%\")\n",
    "print(f\"Recall: {recall_score(y_test, y_preds)*100:.2f}%\")\n",
    "print(f\"F1: {f1_score(y_test, y_preds)*100:.2f}%\")"
   ]
  },
  {
   "cell_type": "markdown",
   "metadata": {},
   "source": [
    "#### Metric functions: Regression model"
   ]
  },
  {
   "cell_type": "code",
   "execution_count": 61,
   "metadata": {},
   "outputs": [
    {
     "name": "stdout",
     "output_type": "stream",
     "text": [
      "Regression model metrics on the test set\n",
      "The R^2 score: 0.88\n",
      "The MAE score: 2.41\n",
      "The MSE score: 12.23\n"
     ]
    }
   ],
   "source": [
    "#Importing\n",
    "from sklearn.metrics import r2_score, mean_squared_error, mean_absolute_error\n",
    "from sklearn.ensemble import RandomForestRegressor\n",
    "from sklearn.model_selection import train_test_split\n",
    "np.random.seed(9)\n",
    "\n",
    "#Data\n",
    "X = boston_df.drop(\"target\", axis=1)\n",
    "y = boston_df[\"target\"]\n",
    "X_train, X_test, y_train, y_test = train_test_split(X, y, test_size=0.2)\n",
    "\n",
    "#Model and fitting\n",
    "model = RandomForestRegressor()\n",
    "model.fit(X_train, y_train)\n",
    "\n",
    "#Make predictions\n",
    "y_preds = model.predict(X_test)\n",
    "\n",
    "#Comunicate the evaluation of the model\n",
    "print(\"Regression model metrics on the test set\")\n",
    "print(f\"The R^2 score: {r2_score(y_test, y_preds):.2f}\")\n",
    "print(f\"The MAE score: {mean_absolute_error(y_test, y_preds):.2f}\")\n",
    "print(f\"The MSE score: {mean_squared_error(y_test, y_preds):.2f}\")"
   ]
  },
  {
   "cell_type": "markdown",
   "metadata": {},
   "source": [
    "### 5. Improving a model with hyperparameters"
   ]
  },
  {
   "cell_type": "code",
   "execution_count": null,
   "metadata": {},
   "outputs": [],
   "source": [
    "#First predictions = baseline predictions\n",
    "#First model = baseline model\n",
    "#Parameters = model finds patterns in data\n",
    "#Hyperparameters = settings on a model to be adjusted\n",
    "\n",
    "#Improving from a data perspective:\n",
    "# -Collecting more data.\n",
    "# -Improving the data (example: more features for each sample).\n",
    "\n",
    "#Improving from a model perspective:\n",
    "# -Choose a different (more complex) model.\n",
    "# -Improve the model (example: improving the hyperparameters)."
   ]
  },
  {
   "cell_type": "markdown",
   "metadata": {},
   "source": [
    "#### Different hyperparameters (explanation)"
   ]
  },
  {
   "cell_type": "code",
   "execution_count": null,
   "metadata": {},
   "outputs": [],
   "source": [
    "#Three ways to adjust:\n",
    "#1. By hand\n",
    "#2. Randomly with RandomSearchCV\n",
    "#3. Exhaustively with GridSearchCV"
   ]
  },
  {
   "cell_type": "code",
   "execution_count": 62,
   "metadata": {},
   "outputs": [
    {
     "data": {
      "text/plain": [
       "{'bootstrap': True,\n",
       " 'ccp_alpha': 0.0,\n",
       " 'class_weight': None,\n",
       " 'criterion': 'gini',\n",
       " 'max_depth': None,\n",
       " 'max_features': 'auto',\n",
       " 'max_leaf_nodes': None,\n",
       " 'max_samples': None,\n",
       " 'min_impurity_decrease': 0.0,\n",
       " 'min_samples_leaf': 1,\n",
       " 'min_samples_split': 2,\n",
       " 'min_weight_fraction_leaf': 0.0,\n",
       " 'n_estimators': 100,\n",
       " 'n_jobs': None,\n",
       " 'oob_score': False,\n",
       " 'random_state': None,\n",
       " 'verbose': 0,\n",
       " 'warm_start': False}"
      ]
     },
     "execution_count": 62,
     "metadata": {},
     "output_type": "execute_result"
    }
   ],
   "source": [
    "from sklearn.ensemble import RandomForestClassifier\n",
    "clf = RandomForestClassifier()\n",
    "\n",
    "#Check the hyperparameters\n",
    "clf.get_params()\n",
    "\n",
    "#Look at more information online: parameters randomdorestclassifier documentation"
   ]
  },
  {
   "cell_type": "markdown",
   "metadata": {},
   "source": [
    "#### Adjust by hand"
   ]
  },
  {
   "cell_type": "code",
   "execution_count": 65,
   "metadata": {},
   "outputs": [],
   "source": [
    "#Making three sets: Training, validation and test\n",
    "#Adjust the folowing; max_depth, max_features, min_samples_leaf, min_samples_split, n_estimators\n",
    "#These are based on the documententation of RandomForest\n",
    "\n",
    "#Make function to save writing too much code\n",
    "def evaluate_preds(y_true, y_preds):\n",
    "    \"\"\"\n",
    "    Performs evaluation comparison on y_true vs. y_pred labels, on a classification model.\n",
    "    \"\"\"\n",
    "    accuracy = accuracy_score(y_true, y_preds)\n",
    "    precision = precision_score(y_true, y_preds)\n",
    "    recall = recall_score(y_true, y_preds)\n",
    "    f1 = f1_score(y_true, y_preds)\n",
    "    metric_dict = {\"accuracy\": round(accuracy, 2), \n",
    "                    \"precision\": round(precision, 2), \n",
    "                    \"recall\": round(recall, 2),\n",
    "                    \"f1\":round(f1,2)}\n",
    "    print(f\"Accuracy: {accuracy*100:.2f}%\")\n",
    "    print(f\"Precision: {precision:.2f}.\")\n",
    "    print(f\"Recall: {recall:.2f}.\")\n",
    "    print(f\"F1 score: {f1:.2f}.\")\n",
    "    return metric_dict\n"
   ]
  },
  {
   "cell_type": "code",
   "execution_count": 64,
   "metadata": {},
   "outputs": [
    {
     "data": {
      "text/plain": [
       "(212, 45, 46)"
      ]
     },
     "execution_count": 64,
     "metadata": {},
     "output_type": "execute_result"
    }
   ],
   "source": [
    "#Manually splitting our data in three\n",
    "from sklearn.ensemble import RandomForestClassifier\n",
    "np.random.seed(9)\n",
    "\n",
    "#First, shuffle the data\n",
    "heart_disease_shuffled = heart_disease.sample(frac=1)\n",
    "\n",
    "#Split into X and y\n",
    "X = heart_disease_shuffled.drop(\"target\", axis=1)\n",
    "y = heart_disease_shuffled[\"target\"]\n",
    "\n",
    "#Split data into validation and test\n",
    "train_split = round(0.7 * len(heart_disease_shuffled)) #70% of data\n",
    "valid_split = round(train_split + 0.15 * len(heart_disease_shuffled)) #15% of data\n",
    "X_train, y_train = X[:train_split], y[:train_split]\n",
    "X_valid, y_valid = X[train_split:valid_split], y[train_split:valid_split]\n",
    "X_test, y_test = X[valid_split:], y[:valid_split]\n",
    "\n",
    "len(X_train), len(X_valid), len(X_test)"
   ]
  },
  {
   "cell_type": "code",
   "execution_count": 68,
   "metadata": {},
   "outputs": [
    {
     "name": "stdout",
     "output_type": "stream",
     "text": [
      "Accuracy: 75.56%\n",
      "Precision: 0.68.\n",
      "Recall: 0.85.\n",
      "F1 score: 0.76.\n"
     ]
    }
   ],
   "source": [
    "#Fitting model\n",
    "clf = RandomForestClassifier()\n",
    "clf.fit(X_train, y_train)\n",
    "\n",
    "#Predictions on validation split\n",
    "y_preds = clf.predict(X_valid)\n",
    "\n",
    "#Evaluate the classifier on validation set\n",
    "baseline_metrics = evaluate_preds(y_valid, y_preds)\n",
    "baseline_metrics;"
   ]
  },
  {
   "cell_type": "code",
   "execution_count": 67,
   "metadata": {},
   "outputs": [
    {
     "name": "stdout",
     "output_type": "stream",
     "text": [
      "Accuracy: 77.78%\n",
      "Precision: 0.69.\n",
      "Recall: 0.90.\n",
      "F1 score: 0.78.\n"
     ]
    }
   ],
   "source": [
    "#Create a second classifier with hyperparameters\n",
    "clf_2 = RandomForestClassifier(max_depth=10) #This depends on the documentation\n",
    "clf_2.fit(X_train, y_train)\n",
    "y_preds_2 = clf_2.predict(X_valid)\n",
    "clf_2_metrics = evaluate_preds(y_valid, y_preds_2)"
   ]
  },
  {
   "cell_type": "markdown",
   "metadata": {},
   "source": [
    "#### Randomly adjust with RandomSearchCV"
   ]
  },
  {
   "cell_type": "code",
   "execution_count": 72,
   "metadata": {},
   "outputs": [
    {
     "name": "stdout",
     "output_type": "stream",
     "text": [
      "Fitting 5 folds for each of 10 candidates, totalling 50 fits\n",
      "[CV] END max_depth=5, max_features=sqrt, min_samples_leaf=1, min_samples_split=4, n_estimators=10; total time=   5.1s\n",
      "[CV] END max_depth=5, max_features=sqrt, min_samples_leaf=1, min_samples_split=4, n_estimators=10; total time=   0.0s\n",
      "[CV] END max_depth=5, max_features=sqrt, min_samples_leaf=1, min_samples_split=4, n_estimators=10; total time=   0.0s\n",
      "[CV] END max_depth=5, max_features=sqrt, min_samples_leaf=1, min_samples_split=4, n_estimators=10; total time=   0.0s\n",
      "[CV] END max_depth=5, max_features=sqrt, min_samples_leaf=1, min_samples_split=4, n_estimators=10; total time=   0.0s\n",
      "[CV] END max_depth=30, max_features=sqrt, min_samples_leaf=1, min_samples_split=6, n_estimators=1200; total time=   2.1s\n",
      "[CV] END max_depth=30, max_features=sqrt, min_samples_leaf=1, min_samples_split=6, n_estimators=1200; total time=   2.2s\n",
      "[CV] END max_depth=30, max_features=sqrt, min_samples_leaf=1, min_samples_split=6, n_estimators=1200; total time=   2.2s\n",
      "[CV] END max_depth=30, max_features=sqrt, min_samples_leaf=1, min_samples_split=6, n_estimators=1200; total time=   2.2s\n",
      "[CV] END max_depth=30, max_features=sqrt, min_samples_leaf=1, min_samples_split=6, n_estimators=1200; total time=   2.1s\n",
      "[CV] END max_depth=30, max_features=auto, min_samples_leaf=4, min_samples_split=4, n_estimators=500; total time=   0.9s\n",
      "[CV] END max_depth=30, max_features=auto, min_samples_leaf=4, min_samples_split=4, n_estimators=500; total time=   1.0s\n",
      "[CV] END max_depth=30, max_features=auto, min_samples_leaf=4, min_samples_split=4, n_estimators=500; total time=   0.9s\n",
      "[CV] END max_depth=30, max_features=auto, min_samples_leaf=4, min_samples_split=4, n_estimators=500; total time=   0.9s\n",
      "[CV] END max_depth=30, max_features=auto, min_samples_leaf=4, min_samples_split=4, n_estimators=500; total time=   0.9s\n",
      "[CV] END max_depth=30, max_features=auto, min_samples_leaf=4, min_samples_split=4, n_estimators=10; total time=   0.0s\n",
      "[CV] END max_depth=30, max_features=auto, min_samples_leaf=4, min_samples_split=4, n_estimators=10; total time=   0.0s\n",
      "[CV] END max_depth=30, max_features=auto, min_samples_leaf=4, min_samples_split=4, n_estimators=10; total time=   0.0s\n",
      "[CV] END max_depth=30, max_features=auto, min_samples_leaf=4, min_samples_split=4, n_estimators=10; total time=   0.0s\n",
      "[CV] END max_depth=30, max_features=auto, min_samples_leaf=4, min_samples_split=4, n_estimators=10; total time=   0.0s\n",
      "[CV] END max_depth=30, max_features=sqrt, min_samples_leaf=2, min_samples_split=2, n_estimators=1200; total time=   2.2s\n",
      "[CV] END max_depth=30, max_features=sqrt, min_samples_leaf=2, min_samples_split=2, n_estimators=1200; total time=   2.8s\n",
      "[CV] END max_depth=30, max_features=sqrt, min_samples_leaf=2, min_samples_split=2, n_estimators=1200; total time=   2.7s\n",
      "[CV] END max_depth=30, max_features=sqrt, min_samples_leaf=2, min_samples_split=2, n_estimators=1200; total time=   3.2s\n",
      "[CV] END max_depth=30, max_features=sqrt, min_samples_leaf=2, min_samples_split=2, n_estimators=1200; total time=   2.1s\n",
      "[CV] END max_depth=10, max_features=sqrt, min_samples_leaf=2, min_samples_split=2, n_estimators=1200; total time=   2.2s\n",
      "[CV] END max_depth=10, max_features=sqrt, min_samples_leaf=2, min_samples_split=2, n_estimators=1200; total time=   2.2s\n",
      "[CV] END max_depth=10, max_features=sqrt, min_samples_leaf=2, min_samples_split=2, n_estimators=1200; total time=   2.1s\n",
      "[CV] END max_depth=10, max_features=sqrt, min_samples_leaf=2, min_samples_split=2, n_estimators=1200; total time=   2.2s\n",
      "[CV] END max_depth=10, max_features=sqrt, min_samples_leaf=2, min_samples_split=2, n_estimators=1200; total time=   2.1s\n",
      "[CV] END max_depth=None, max_features=sqrt, min_samples_leaf=4, min_samples_split=6, n_estimators=1000; total time=   1.8s\n",
      "[CV] END max_depth=None, max_features=sqrt, min_samples_leaf=4, min_samples_split=6, n_estimators=1000; total time=   1.7s\n",
      "[CV] END max_depth=None, max_features=sqrt, min_samples_leaf=4, min_samples_split=6, n_estimators=1000; total time=   1.7s\n",
      "[CV] END max_depth=None, max_features=sqrt, min_samples_leaf=4, min_samples_split=6, n_estimators=1000; total time=   1.9s\n",
      "[CV] END max_depth=None, max_features=sqrt, min_samples_leaf=4, min_samples_split=6, n_estimators=1000; total time=   1.7s\n",
      "[CV] END max_depth=10, max_features=auto, min_samples_leaf=2, min_samples_split=6, n_estimators=1200; total time=   2.2s\n",
      "[CV] END max_depth=10, max_features=auto, min_samples_leaf=2, min_samples_split=6, n_estimators=1200; total time=   2.3s\n",
      "[CV] END max_depth=10, max_features=auto, min_samples_leaf=2, min_samples_split=6, n_estimators=1200; total time=   2.1s\n",
      "[CV] END max_depth=10, max_features=auto, min_samples_leaf=2, min_samples_split=6, n_estimators=1200; total time=   2.7s\n",
      "[CV] END max_depth=10, max_features=auto, min_samples_leaf=2, min_samples_split=6, n_estimators=1200; total time=   2.0s\n",
      "[CV] END max_depth=20, max_features=sqrt, min_samples_leaf=2, min_samples_split=2, n_estimators=1200; total time=   2.5s\n",
      "[CV] END max_depth=20, max_features=sqrt, min_samples_leaf=2, min_samples_split=2, n_estimators=1200; total time=   2.2s\n",
      "[CV] END max_depth=20, max_features=sqrt, min_samples_leaf=2, min_samples_split=2, n_estimators=1200; total time=   2.2s\n",
      "[CV] END max_depth=20, max_features=sqrt, min_samples_leaf=2, min_samples_split=2, n_estimators=1200; total time=   2.0s\n",
      "[CV] END max_depth=20, max_features=sqrt, min_samples_leaf=2, min_samples_split=2, n_estimators=1200; total time=   2.2s\n",
      "[CV] END max_depth=None, max_features=sqrt, min_samples_leaf=1, min_samples_split=6, n_estimators=200; total time=   0.3s\n",
      "[CV] END max_depth=None, max_features=sqrt, min_samples_leaf=1, min_samples_split=6, n_estimators=200; total time=   0.3s\n",
      "[CV] END max_depth=None, max_features=sqrt, min_samples_leaf=1, min_samples_split=6, n_estimators=200; total time=   0.3s\n",
      "[CV] END max_depth=None, max_features=sqrt, min_samples_leaf=1, min_samples_split=6, n_estimators=200; total time=   0.3s\n",
      "[CV] END max_depth=None, max_features=sqrt, min_samples_leaf=1, min_samples_split=6, n_estimators=200; total time=   0.3s\n"
     ]
    }
   ],
   "source": [
    "#Import\n",
    "from sklearn.model_selection import RandomizedSearchCV\n",
    "\n",
    "#Create a dict of hyperparameters to adjust based on documentation\n",
    "grid = {\"n_estimators\": [10, 100, 200, 500, 1000, 1200],\n",
    "        \"max_depth\": [None, 5, 10, 20, 30],\n",
    "        \"max_features\": [\"auto\", \"sqrt\"],\n",
    "        \"min_samples_split\": [2, 4, 6],\n",
    "        \"min_samples_leaf\": [1, 2, 4]}\n",
    "\n",
    "#Split the data\n",
    "np.random.seed(9)\n",
    "X = heart_disease_shuffled.drop(\"target\", axis= 1)\n",
    "y = heart_disease_shuffled[\"target\"]\n",
    "X_train, X_test, y_train, y_test = train_test_split(X, y, test_size=0.2)\n",
    "\n",
    "#Model\n",
    "clf = RandomForestClassifier(n_jobs=-1) #adjust how of our computerprocesser we want to dedicate to model (-1=all)\n",
    "\n",
    "#Setup RandomizedSearchCV\n",
    "rs_clf = RandomizedSearchCV(estimator=clf,\n",
    "                            param_distributions=grid,\n",
    "                            n_iter=10, #amount of randomized grids/models to use\n",
    "                            cv=5,\n",
    "                            verbose=2)\n",
    "\n",
    "#Fit the rs_clf\n",
    "#This will automatically cross validate (making the validation on it's own)\n",
    "rs_clf.fit(X_train, y_train);"
   ]
  },
  {
   "cell_type": "code",
   "execution_count": 73,
   "metadata": {},
   "outputs": [
    {
     "data": {
      "text/plain": [
       "{'n_estimators': 1200,\n",
       " 'min_samples_split': 6,\n",
       " 'min_samples_leaf': 2,\n",
       " 'max_features': 'auto',\n",
       " 'max_depth': 10}"
      ]
     },
     "execution_count": 73,
     "metadata": {},
     "output_type": "execute_result"
    }
   ],
   "source": [
    "#Look at the best combination/results\n",
    "rs_clf.best_params_"
   ]
  },
  {
   "cell_type": "code",
   "execution_count": 74,
   "metadata": {},
   "outputs": [
    {
     "name": "stdout",
     "output_type": "stream",
     "text": [
      "Accuracy: 77.05%\n",
      "Precision: 0.81.\n",
      "Recall: 0.71.\n",
      "F1 score: 0.76.\n"
     ]
    }
   ],
   "source": [
    "#Make predictions with the best hyperparameters\n",
    "rs_y_preds = rs_clf.predict(X_test)\n",
    "\n",
    "#Evaluate the prediction\n",
    "rs_metrics = evaluate_preds(y_test, rs_y_preds)"
   ]
  },
  {
   "cell_type": "markdown",
   "metadata": {},
   "source": [
    "#### Adjusting with GridSearchCV"
   ]
  },
  {
   "cell_type": "code",
   "execution_count": 76,
   "metadata": {},
   "outputs": [
    {
     "name": "stdout",
     "output_type": "stream",
     "text": [
      "Fitting 5 folds for each of 108 candidates, totalling 540 fits\n",
      "[CV] END max_depth=8, max_features=auto, min_samples_leaf=2, min_samples_split=5, n_estimators=1200; total time=   6.3s\n",
      "[CV] END max_depth=8, max_features=auto, min_samples_leaf=2, min_samples_split=5, n_estimators=1200; total time=   2.5s\n",
      "[CV] END max_depth=8, max_features=auto, min_samples_leaf=2, min_samples_split=5, n_estimators=1200; total time=   2.7s\n",
      "[CV] END max_depth=8, max_features=auto, min_samples_leaf=2, min_samples_split=5, n_estimators=1200; total time=   2.8s\n",
      "[CV] END max_depth=8, max_features=auto, min_samples_leaf=2, min_samples_split=5, n_estimators=1200; total time=   2.7s\n",
      "[CV] END max_depth=8, max_features=auto, min_samples_leaf=2, min_samples_split=5, n_estimators=1500; total time=   3.3s\n",
      "[CV] END max_depth=8, max_features=auto, min_samples_leaf=2, min_samples_split=5, n_estimators=1500; total time=   3.3s\n",
      "[CV] END max_depth=8, max_features=auto, min_samples_leaf=2, min_samples_split=5, n_estimators=1500; total time=   2.7s\n",
      "[CV] END max_depth=8, max_features=auto, min_samples_leaf=2, min_samples_split=5, n_estimators=1500; total time=   2.5s\n",
      "[CV] END max_depth=8, max_features=auto, min_samples_leaf=2, min_samples_split=5, n_estimators=1500; total time=   2.4s\n",
      "[CV] END max_depth=8, max_features=auto, min_samples_leaf=2, min_samples_split=5, n_estimators=2000; total time=   3.1s\n",
      "[CV] END max_depth=8, max_features=auto, min_samples_leaf=2, min_samples_split=5, n_estimators=2000; total time=   3.1s\n",
      "[CV] END max_depth=8, max_features=auto, min_samples_leaf=2, min_samples_split=5, n_estimators=2000; total time=   3.1s\n",
      "[CV] END max_depth=8, max_features=auto, min_samples_leaf=2, min_samples_split=5, n_estimators=2000; total time=   3.2s\n",
      "[CV] END max_depth=8, max_features=auto, min_samples_leaf=2, min_samples_split=5, n_estimators=2000; total time=   3.1s\n",
      "[CV] END max_depth=8, max_features=auto, min_samples_leaf=2, min_samples_split=6, n_estimators=1200; total time=   2.0s\n",
      "[CV] END max_depth=8, max_features=auto, min_samples_leaf=2, min_samples_split=6, n_estimators=1200; total time=   1.9s\n",
      "[CV] END max_depth=8, max_features=auto, min_samples_leaf=2, min_samples_split=6, n_estimators=1200; total time=   1.9s\n",
      "[CV] END max_depth=8, max_features=auto, min_samples_leaf=2, min_samples_split=6, n_estimators=1200; total time=   1.9s\n",
      "[CV] END max_depth=8, max_features=auto, min_samples_leaf=2, min_samples_split=6, n_estimators=1200; total time=   1.9s\n",
      "[CV] END max_depth=8, max_features=auto, min_samples_leaf=2, min_samples_split=6, n_estimators=1500; total time=   2.4s\n",
      "[CV] END max_depth=8, max_features=auto, min_samples_leaf=2, min_samples_split=6, n_estimators=1500; total time=   2.3s\n",
      "[CV] END max_depth=8, max_features=auto, min_samples_leaf=2, min_samples_split=6, n_estimators=1500; total time=   2.3s\n",
      "[CV] END max_depth=8, max_features=auto, min_samples_leaf=2, min_samples_split=6, n_estimators=1500; total time=   2.3s\n",
      "[CV] END max_depth=8, max_features=auto, min_samples_leaf=2, min_samples_split=6, n_estimators=1500; total time=   2.5s\n",
      "[CV] END max_depth=8, max_features=auto, min_samples_leaf=2, min_samples_split=6, n_estimators=2000; total time=   3.1s\n",
      "[CV] END max_depth=8, max_features=auto, min_samples_leaf=2, min_samples_split=6, n_estimators=2000; total time=   3.1s\n",
      "[CV] END max_depth=8, max_features=auto, min_samples_leaf=2, min_samples_split=6, n_estimators=2000; total time=   3.1s\n",
      "[CV] END max_depth=8, max_features=auto, min_samples_leaf=2, min_samples_split=6, n_estimators=2000; total time=   3.1s\n",
      "[CV] END max_depth=8, max_features=auto, min_samples_leaf=2, min_samples_split=6, n_estimators=2000; total time=   3.1s\n",
      "[CV] END max_depth=8, max_features=auto, min_samples_leaf=2, min_samples_split=8, n_estimators=1200; total time=   1.9s\n",
      "[CV] END max_depth=8, max_features=auto, min_samples_leaf=2, min_samples_split=8, n_estimators=1200; total time=   1.9s\n",
      "[CV] END max_depth=8, max_features=auto, min_samples_leaf=2, min_samples_split=8, n_estimators=1200; total time=   1.9s\n",
      "[CV] END max_depth=8, max_features=auto, min_samples_leaf=2, min_samples_split=8, n_estimators=1200; total time=   1.8s\n",
      "[CV] END max_depth=8, max_features=auto, min_samples_leaf=2, min_samples_split=8, n_estimators=1200; total time=   1.9s\n",
      "[CV] END max_depth=8, max_features=auto, min_samples_leaf=2, min_samples_split=8, n_estimators=1500; total time=   2.3s\n",
      "[CV] END max_depth=8, max_features=auto, min_samples_leaf=2, min_samples_split=8, n_estimators=1500; total time=   2.3s\n",
      "[CV] END max_depth=8, max_features=auto, min_samples_leaf=2, min_samples_split=8, n_estimators=1500; total time=   2.3s\n",
      "[CV] END max_depth=8, max_features=auto, min_samples_leaf=2, min_samples_split=8, n_estimators=1500; total time=   2.4s\n",
      "[CV] END max_depth=8, max_features=auto, min_samples_leaf=2, min_samples_split=8, n_estimators=1500; total time=   2.3s\n",
      "[CV] END max_depth=8, max_features=auto, min_samples_leaf=2, min_samples_split=8, n_estimators=2000; total time=   3.2s\n",
      "[CV] END max_depth=8, max_features=auto, min_samples_leaf=2, min_samples_split=8, n_estimators=2000; total time=   3.4s\n",
      "[CV] END max_depth=8, max_features=auto, min_samples_leaf=2, min_samples_split=8, n_estimators=2000; total time=   3.1s\n",
      "[CV] END max_depth=8, max_features=auto, min_samples_leaf=2, min_samples_split=8, n_estimators=2000; total time=   3.1s\n",
      "[CV] END max_depth=8, max_features=auto, min_samples_leaf=2, min_samples_split=8, n_estimators=2000; total time=   3.1s\n",
      "[CV] END max_depth=8, max_features=auto, min_samples_leaf=3, min_samples_split=5, n_estimators=1200; total time=   1.9s\n",
      "[CV] END max_depth=8, max_features=auto, min_samples_leaf=3, min_samples_split=5, n_estimators=1200; total time=   1.8s\n",
      "[CV] END max_depth=8, max_features=auto, min_samples_leaf=3, min_samples_split=5, n_estimators=1200; total time=   1.9s\n",
      "[CV] END max_depth=8, max_features=auto, min_samples_leaf=3, min_samples_split=5, n_estimators=1200; total time=   1.8s\n",
      "[CV] END max_depth=8, max_features=auto, min_samples_leaf=3, min_samples_split=5, n_estimators=1200; total time=   2.0s\n",
      "[CV] END max_depth=8, max_features=auto, min_samples_leaf=3, min_samples_split=5, n_estimators=1500; total time=   2.4s\n",
      "[CV] END max_depth=8, max_features=auto, min_samples_leaf=3, min_samples_split=5, n_estimators=1500; total time=   2.4s\n",
      "[CV] END max_depth=8, max_features=auto, min_samples_leaf=3, min_samples_split=5, n_estimators=1500; total time=   2.3s\n",
      "[CV] END max_depth=8, max_features=auto, min_samples_leaf=3, min_samples_split=5, n_estimators=1500; total time=   2.3s\n",
      "[CV] END max_depth=8, max_features=auto, min_samples_leaf=3, min_samples_split=5, n_estimators=1500; total time=   2.3s\n",
      "[CV] END max_depth=8, max_features=auto, min_samples_leaf=3, min_samples_split=5, n_estimators=2000; total time=   3.1s\n",
      "[CV] END max_depth=8, max_features=auto, min_samples_leaf=3, min_samples_split=5, n_estimators=2000; total time=   3.0s\n",
      "[CV] END max_depth=8, max_features=auto, min_samples_leaf=3, min_samples_split=5, n_estimators=2000; total time=   3.1s\n",
      "[CV] END max_depth=8, max_features=auto, min_samples_leaf=3, min_samples_split=5, n_estimators=2000; total time=   3.2s\n",
      "[CV] END max_depth=8, max_features=auto, min_samples_leaf=3, min_samples_split=5, n_estimators=2000; total time=   4.0s\n",
      "[CV] END max_depth=8, max_features=auto, min_samples_leaf=3, min_samples_split=6, n_estimators=1200; total time=   2.0s\n",
      "[CV] END max_depth=8, max_features=auto, min_samples_leaf=3, min_samples_split=6, n_estimators=1200; total time=   2.0s\n",
      "[CV] END max_depth=8, max_features=auto, min_samples_leaf=3, min_samples_split=6, n_estimators=1200; total time=   1.9s\n",
      "[CV] END max_depth=8, max_features=auto, min_samples_leaf=3, min_samples_split=6, n_estimators=1200; total time=   1.9s\n",
      "[CV] END max_depth=8, max_features=auto, min_samples_leaf=3, min_samples_split=6, n_estimators=1200; total time=   1.9s\n",
      "[CV] END max_depth=8, max_features=auto, min_samples_leaf=3, min_samples_split=6, n_estimators=1500; total time=   2.4s\n",
      "[CV] END max_depth=8, max_features=auto, min_samples_leaf=3, min_samples_split=6, n_estimators=1500; total time=   2.4s\n",
      "[CV] END max_depth=8, max_features=auto, min_samples_leaf=3, min_samples_split=6, n_estimators=1500; total time=   2.4s\n",
      "[CV] END max_depth=8, max_features=auto, min_samples_leaf=3, min_samples_split=6, n_estimators=1500; total time=   2.5s\n",
      "[CV] END max_depth=8, max_features=auto, min_samples_leaf=3, min_samples_split=6, n_estimators=1500; total time=   2.5s\n",
      "[CV] END max_depth=8, max_features=auto, min_samples_leaf=3, min_samples_split=6, n_estimators=2000; total time=   3.2s\n",
      "[CV] END max_depth=8, max_features=auto, min_samples_leaf=3, min_samples_split=6, n_estimators=2000; total time=   3.1s\n",
      "[CV] END max_depth=8, max_features=auto, min_samples_leaf=3, min_samples_split=6, n_estimators=2000; total time=   3.1s\n",
      "[CV] END max_depth=8, max_features=auto, min_samples_leaf=3, min_samples_split=6, n_estimators=2000; total time=   3.0s\n",
      "[CV] END max_depth=8, max_features=auto, min_samples_leaf=3, min_samples_split=6, n_estimators=2000; total time=   3.1s\n",
      "[CV] END max_depth=8, max_features=auto, min_samples_leaf=3, min_samples_split=8, n_estimators=1200; total time=   1.9s\n",
      "[CV] END max_depth=8, max_features=auto, min_samples_leaf=3, min_samples_split=8, n_estimators=1200; total time=   1.8s\n",
      "[CV] END max_depth=8, max_features=auto, min_samples_leaf=3, min_samples_split=8, n_estimators=1200; total time=   2.0s\n",
      "[CV] END max_depth=8, max_features=auto, min_samples_leaf=3, min_samples_split=8, n_estimators=1200; total time=   2.1s\n",
      "[CV] END max_depth=8, max_features=auto, min_samples_leaf=3, min_samples_split=8, n_estimators=1200; total time=   1.9s\n",
      "[CV] END max_depth=8, max_features=auto, min_samples_leaf=3, min_samples_split=8, n_estimators=1500; total time=   2.3s\n",
      "[CV] END max_depth=8, max_features=auto, min_samples_leaf=3, min_samples_split=8, n_estimators=1500; total time=   2.3s\n",
      "[CV] END max_depth=8, max_features=auto, min_samples_leaf=3, min_samples_split=8, n_estimators=1500; total time=   2.3s\n",
      "[CV] END max_depth=8, max_features=auto, min_samples_leaf=3, min_samples_split=8, n_estimators=1500; total time=   2.3s\n",
      "[CV] END max_depth=8, max_features=auto, min_samples_leaf=3, min_samples_split=8, n_estimators=1500; total time=   2.4s\n",
      "[CV] END max_depth=8, max_features=auto, min_samples_leaf=3, min_samples_split=8, n_estimators=2000; total time=   3.0s\n",
      "[CV] END max_depth=8, max_features=auto, min_samples_leaf=3, min_samples_split=8, n_estimators=2000; total time=   3.0s\n",
      "[CV] END max_depth=8, max_features=auto, min_samples_leaf=3, min_samples_split=8, n_estimators=2000; total time=   3.3s\n",
      "[CV] END max_depth=8, max_features=auto, min_samples_leaf=3, min_samples_split=8, n_estimators=2000; total time=   3.1s\n",
      "[CV] END max_depth=8, max_features=auto, min_samples_leaf=3, min_samples_split=8, n_estimators=2000; total time=   3.2s\n",
      "[CV] END max_depth=8, max_features=sqrt, min_samples_leaf=2, min_samples_split=5, n_estimators=1200; total time=   1.8s\n",
      "[CV] END max_depth=8, max_features=sqrt, min_samples_leaf=2, min_samples_split=5, n_estimators=1200; total time=   2.1s\n",
      "[CV] END max_depth=8, max_features=sqrt, min_samples_leaf=2, min_samples_split=5, n_estimators=1200; total time=   3.5s\n",
      "[CV] END max_depth=8, max_features=sqrt, min_samples_leaf=2, min_samples_split=5, n_estimators=1200; total time=   3.3s\n",
      "[CV] END max_depth=8, max_features=sqrt, min_samples_leaf=2, min_samples_split=5, n_estimators=1200; total time=   2.1s\n",
      "[CV] END max_depth=8, max_features=sqrt, min_samples_leaf=2, min_samples_split=5, n_estimators=1500; total time=   2.4s\n",
      "[CV] END max_depth=8, max_features=sqrt, min_samples_leaf=2, min_samples_split=5, n_estimators=1500; total time=   2.4s\n",
      "[CV] END max_depth=8, max_features=sqrt, min_samples_leaf=2, min_samples_split=5, n_estimators=1500; total time=   2.4s\n",
      "[CV] END max_depth=8, max_features=sqrt, min_samples_leaf=2, min_samples_split=5, n_estimators=1500; total time=   3.2s\n",
      "[CV] END max_depth=8, max_features=sqrt, min_samples_leaf=2, min_samples_split=5, n_estimators=1500; total time=   2.3s\n",
      "[CV] END max_depth=8, max_features=sqrt, min_samples_leaf=2, min_samples_split=5, n_estimators=2000; total time=   3.1s\n",
      "[CV] END max_depth=8, max_features=sqrt, min_samples_leaf=2, min_samples_split=5, n_estimators=2000; total time=   3.0s\n",
      "[CV] END max_depth=8, max_features=sqrt, min_samples_leaf=2, min_samples_split=5, n_estimators=2000; total time=   3.1s\n",
      "[CV] END max_depth=8, max_features=sqrt, min_samples_leaf=2, min_samples_split=5, n_estimators=2000; total time=   3.2s\n",
      "[CV] END max_depth=8, max_features=sqrt, min_samples_leaf=2, min_samples_split=5, n_estimators=2000; total time=   3.0s\n",
      "[CV] END max_depth=8, max_features=sqrt, min_samples_leaf=2, min_samples_split=6, n_estimators=1200; total time=   2.0s\n",
      "[CV] END max_depth=8, max_features=sqrt, min_samples_leaf=2, min_samples_split=6, n_estimators=1200; total time=   1.9s\n",
      "[CV] END max_depth=8, max_features=sqrt, min_samples_leaf=2, min_samples_split=6, n_estimators=1200; total time=   1.9s\n",
      "[CV] END max_depth=8, max_features=sqrt, min_samples_leaf=2, min_samples_split=6, n_estimators=1200; total time=   1.9s\n",
      "[CV] END max_depth=8, max_features=sqrt, min_samples_leaf=2, min_samples_split=6, n_estimators=1200; total time=   1.8s\n",
      "[CV] END max_depth=8, max_features=sqrt, min_samples_leaf=2, min_samples_split=6, n_estimators=1500; total time=   2.6s\n",
      "[CV] END max_depth=8, max_features=sqrt, min_samples_leaf=2, min_samples_split=6, n_estimators=1500; total time=   2.3s\n",
      "[CV] END max_depth=8, max_features=sqrt, min_samples_leaf=2, min_samples_split=6, n_estimators=1500; total time=   2.5s\n",
      "[CV] END max_depth=8, max_features=sqrt, min_samples_leaf=2, min_samples_split=6, n_estimators=1500; total time=   2.3s\n",
      "[CV] END max_depth=8, max_features=sqrt, min_samples_leaf=2, min_samples_split=6, n_estimators=1500; total time=   2.4s\n",
      "[CV] END max_depth=8, max_features=sqrt, min_samples_leaf=2, min_samples_split=6, n_estimators=2000; total time=   3.1s\n",
      "[CV] END max_depth=8, max_features=sqrt, min_samples_leaf=2, min_samples_split=6, n_estimators=2000; total time=   3.2s\n",
      "[CV] END max_depth=8, max_features=sqrt, min_samples_leaf=2, min_samples_split=6, n_estimators=2000; total time=   3.4s\n",
      "[CV] END max_depth=8, max_features=sqrt, min_samples_leaf=2, min_samples_split=6, n_estimators=2000; total time=   3.2s\n",
      "[CV] END max_depth=8, max_features=sqrt, min_samples_leaf=2, min_samples_split=6, n_estimators=2000; total time=   3.6s\n",
      "[CV] END max_depth=8, max_features=sqrt, min_samples_leaf=2, min_samples_split=8, n_estimators=1200; total time=   2.2s\n",
      "[CV] END max_depth=8, max_features=sqrt, min_samples_leaf=2, min_samples_split=8, n_estimators=1200; total time=   2.4s\n",
      "[CV] END max_depth=8, max_features=sqrt, min_samples_leaf=2, min_samples_split=8, n_estimators=1200; total time=   2.1s\n",
      "[CV] END max_depth=8, max_features=sqrt, min_samples_leaf=2, min_samples_split=8, n_estimators=1200; total time=   2.6s\n",
      "[CV] END max_depth=8, max_features=sqrt, min_samples_leaf=2, min_samples_split=8, n_estimators=1200; total time=   2.3s\n",
      "[CV] END max_depth=8, max_features=sqrt, min_samples_leaf=2, min_samples_split=8, n_estimators=1500; total time=   2.6s\n",
      "[CV] END max_depth=8, max_features=sqrt, min_samples_leaf=2, min_samples_split=8, n_estimators=1500; total time=   2.3s\n",
      "[CV] END max_depth=8, max_features=sqrt, min_samples_leaf=2, min_samples_split=8, n_estimators=1500; total time=   2.3s\n",
      "[CV] END max_depth=8, max_features=sqrt, min_samples_leaf=2, min_samples_split=8, n_estimators=1500; total time=   2.7s\n",
      "[CV] END max_depth=8, max_features=sqrt, min_samples_leaf=2, min_samples_split=8, n_estimators=1500; total time=   2.4s\n",
      "[CV] END max_depth=8, max_features=sqrt, min_samples_leaf=2, min_samples_split=8, n_estimators=2000; total time=   3.1s\n",
      "[CV] END max_depth=8, max_features=sqrt, min_samples_leaf=2, min_samples_split=8, n_estimators=2000; total time=   3.0s\n",
      "[CV] END max_depth=8, max_features=sqrt, min_samples_leaf=2, min_samples_split=8, n_estimators=2000; total time=   3.0s\n",
      "[CV] END max_depth=8, max_features=sqrt, min_samples_leaf=2, min_samples_split=8, n_estimators=2000; total time=   3.1s\n",
      "[CV] END max_depth=8, max_features=sqrt, min_samples_leaf=2, min_samples_split=8, n_estimators=2000; total time=   3.0s\n",
      "[CV] END max_depth=8, max_features=sqrt, min_samples_leaf=3, min_samples_split=5, n_estimators=1200; total time=   1.8s\n",
      "[CV] END max_depth=8, max_features=sqrt, min_samples_leaf=3, min_samples_split=5, n_estimators=1200; total time=   2.1s\n",
      "[CV] END max_depth=8, max_features=sqrt, min_samples_leaf=3, min_samples_split=5, n_estimators=1200; total time=   2.0s\n",
      "[CV] END max_depth=8, max_features=sqrt, min_samples_leaf=3, min_samples_split=5, n_estimators=1200; total time=   2.0s\n",
      "[CV] END max_depth=8, max_features=sqrt, min_samples_leaf=3, min_samples_split=5, n_estimators=1200; total time=   1.9s\n",
      "[CV] END max_depth=8, max_features=sqrt, min_samples_leaf=3, min_samples_split=5, n_estimators=1500; total time=   2.3s\n",
      "[CV] END max_depth=8, max_features=sqrt, min_samples_leaf=3, min_samples_split=5, n_estimators=1500; total time=   2.3s\n",
      "[CV] END max_depth=8, max_features=sqrt, min_samples_leaf=3, min_samples_split=5, n_estimators=1500; total time=   2.4s\n",
      "[CV] END max_depth=8, max_features=sqrt, min_samples_leaf=3, min_samples_split=5, n_estimators=1500; total time=   2.3s\n",
      "[CV] END max_depth=8, max_features=sqrt, min_samples_leaf=3, min_samples_split=5, n_estimators=1500; total time=   2.3s\n",
      "[CV] END max_depth=8, max_features=sqrt, min_samples_leaf=3, min_samples_split=5, n_estimators=2000; total time=   3.0s\n",
      "[CV] END max_depth=8, max_features=sqrt, min_samples_leaf=3, min_samples_split=5, n_estimators=2000; total time=   3.3s\n",
      "[CV] END max_depth=8, max_features=sqrt, min_samples_leaf=3, min_samples_split=5, n_estimators=2000; total time=   3.1s\n",
      "[CV] END max_depth=8, max_features=sqrt, min_samples_leaf=3, min_samples_split=5, n_estimators=2000; total time=   3.1s\n",
      "[CV] END max_depth=8, max_features=sqrt, min_samples_leaf=3, min_samples_split=5, n_estimators=2000; total time=   3.0s\n",
      "[CV] END max_depth=8, max_features=sqrt, min_samples_leaf=3, min_samples_split=6, n_estimators=1200; total time=   1.9s\n",
      "[CV] END max_depth=8, max_features=sqrt, min_samples_leaf=3, min_samples_split=6, n_estimators=1200; total time=   1.8s\n",
      "[CV] END max_depth=8, max_features=sqrt, min_samples_leaf=3, min_samples_split=6, n_estimators=1200; total time=   1.9s\n",
      "[CV] END max_depth=8, max_features=sqrt, min_samples_leaf=3, min_samples_split=6, n_estimators=1200; total time=   1.8s\n",
      "[CV] END max_depth=8, max_features=sqrt, min_samples_leaf=3, min_samples_split=6, n_estimators=1200; total time=   1.9s\n",
      "[CV] END max_depth=8, max_features=sqrt, min_samples_leaf=3, min_samples_split=6, n_estimators=1500; total time=   2.3s\n",
      "[CV] END max_depth=8, max_features=sqrt, min_samples_leaf=3, min_samples_split=6, n_estimators=1500; total time=   2.2s\n",
      "[CV] END max_depth=8, max_features=sqrt, min_samples_leaf=3, min_samples_split=6, n_estimators=1500; total time=   2.4s\n",
      "[CV] END max_depth=8, max_features=sqrt, min_samples_leaf=3, min_samples_split=6, n_estimators=1500; total time=   2.3s\n",
      "[CV] END max_depth=8, max_features=sqrt, min_samples_leaf=3, min_samples_split=6, n_estimators=1500; total time=   2.3s\n",
      "[CV] END max_depth=8, max_features=sqrt, min_samples_leaf=3, min_samples_split=6, n_estimators=2000; total time=   3.2s\n",
      "[CV] END max_depth=8, max_features=sqrt, min_samples_leaf=3, min_samples_split=6, n_estimators=2000; total time=   3.0s\n",
      "[CV] END max_depth=8, max_features=sqrt, min_samples_leaf=3, min_samples_split=6, n_estimators=2000; total time=   3.0s\n",
      "[CV] END max_depth=8, max_features=sqrt, min_samples_leaf=3, min_samples_split=6, n_estimators=2000; total time=   3.0s\n",
      "[CV] END max_depth=8, max_features=sqrt, min_samples_leaf=3, min_samples_split=6, n_estimators=2000; total time=   3.1s\n",
      "[CV] END max_depth=8, max_features=sqrt, min_samples_leaf=3, min_samples_split=8, n_estimators=1200; total time=   1.8s\n",
      "[CV] END max_depth=8, max_features=sqrt, min_samples_leaf=3, min_samples_split=8, n_estimators=1200; total time=   2.1s\n",
      "[CV] END max_depth=8, max_features=sqrt, min_samples_leaf=3, min_samples_split=8, n_estimators=1200; total time=   2.0s\n",
      "[CV] END max_depth=8, max_features=sqrt, min_samples_leaf=3, min_samples_split=8, n_estimators=1200; total time=   1.9s\n",
      "[CV] END max_depth=8, max_features=sqrt, min_samples_leaf=3, min_samples_split=8, n_estimators=1200; total time=   2.0s\n",
      "[CV] END max_depth=8, max_features=sqrt, min_samples_leaf=3, min_samples_split=8, n_estimators=1500; total time=   2.3s\n",
      "[CV] END max_depth=8, max_features=sqrt, min_samples_leaf=3, min_samples_split=8, n_estimators=1500; total time=   2.4s\n",
      "[CV] END max_depth=8, max_features=sqrt, min_samples_leaf=3, min_samples_split=8, n_estimators=1500; total time=   2.3s\n",
      "[CV] END max_depth=8, max_features=sqrt, min_samples_leaf=3, min_samples_split=8, n_estimators=1500; total time=   2.3s\n",
      "[CV] END max_depth=8, max_features=sqrt, min_samples_leaf=3, min_samples_split=8, n_estimators=1500; total time=   2.2s\n",
      "[CV] END max_depth=8, max_features=sqrt, min_samples_leaf=3, min_samples_split=8, n_estimators=2000; total time=   3.3s\n",
      "[CV] END max_depth=8, max_features=sqrt, min_samples_leaf=3, min_samples_split=8, n_estimators=2000; total time=   3.1s\n",
      "[CV] END max_depth=8, max_features=sqrt, min_samples_leaf=3, min_samples_split=8, n_estimators=2000; total time=   3.0s\n",
      "[CV] END max_depth=8, max_features=sqrt, min_samples_leaf=3, min_samples_split=8, n_estimators=2000; total time=   3.3s\n",
      "[CV] END max_depth=8, max_features=sqrt, min_samples_leaf=3, min_samples_split=8, n_estimators=2000; total time=   3.0s\n",
      "[CV] END max_depth=10, max_features=auto, min_samples_leaf=2, min_samples_split=5, n_estimators=1200; total time=   1.9s\n",
      "[CV] END max_depth=10, max_features=auto, min_samples_leaf=2, min_samples_split=5, n_estimators=1200; total time=   1.8s\n",
      "[CV] END max_depth=10, max_features=auto, min_samples_leaf=2, min_samples_split=5, n_estimators=1200; total time=   1.9s\n",
      "[CV] END max_depth=10, max_features=auto, min_samples_leaf=2, min_samples_split=5, n_estimators=1200; total time=   2.5s\n",
      "[CV] END max_depth=10, max_features=auto, min_samples_leaf=2, min_samples_split=5, n_estimators=1200; total time=   1.8s\n",
      "[CV] END max_depth=10, max_features=auto, min_samples_leaf=2, min_samples_split=5, n_estimators=1500; total time=   2.5s\n",
      "[CV] END max_depth=10, max_features=auto, min_samples_leaf=2, min_samples_split=5, n_estimators=1500; total time=   2.3s\n",
      "[CV] END max_depth=10, max_features=auto, min_samples_leaf=2, min_samples_split=5, n_estimators=1500; total time=   2.5s\n",
      "[CV] END max_depth=10, max_features=auto, min_samples_leaf=2, min_samples_split=5, n_estimators=1500; total time=   2.4s\n",
      "[CV] END max_depth=10, max_features=auto, min_samples_leaf=2, min_samples_split=5, n_estimators=1500; total time=   2.5s\n",
      "[CV] END max_depth=10, max_features=auto, min_samples_leaf=2, min_samples_split=5, n_estimators=2000; total time=   3.2s\n",
      "[CV] END max_depth=10, max_features=auto, min_samples_leaf=2, min_samples_split=5, n_estimators=2000; total time=   3.2s\n",
      "[CV] END max_depth=10, max_features=auto, min_samples_leaf=2, min_samples_split=5, n_estimators=2000; total time=   3.1s\n",
      "[CV] END max_depth=10, max_features=auto, min_samples_leaf=2, min_samples_split=5, n_estimators=2000; total time=   3.0s\n",
      "[CV] END max_depth=10, max_features=auto, min_samples_leaf=2, min_samples_split=5, n_estimators=2000; total time=   3.0s\n",
      "[CV] END max_depth=10, max_features=auto, min_samples_leaf=2, min_samples_split=6, n_estimators=1200; total time=   1.9s\n",
      "[CV] END max_depth=10, max_features=auto, min_samples_leaf=2, min_samples_split=6, n_estimators=1200; total time=   1.8s\n",
      "[CV] END max_depth=10, max_features=auto, min_samples_leaf=2, min_samples_split=6, n_estimators=1200; total time=   1.8s\n",
      "[CV] END max_depth=10, max_features=auto, min_samples_leaf=2, min_samples_split=6, n_estimators=1200; total time=   1.8s\n",
      "[CV] END max_depth=10, max_features=auto, min_samples_leaf=2, min_samples_split=6, n_estimators=1200; total time=   1.8s\n",
      "[CV] END max_depth=10, max_features=auto, min_samples_leaf=2, min_samples_split=6, n_estimators=1500; total time=   2.3s\n",
      "[CV] END max_depth=10, max_features=auto, min_samples_leaf=2, min_samples_split=6, n_estimators=1500; total time=   2.3s\n",
      "[CV] END max_depth=10, max_features=auto, min_samples_leaf=2, min_samples_split=6, n_estimators=1500; total time=   2.3s\n",
      "[CV] END max_depth=10, max_features=auto, min_samples_leaf=2, min_samples_split=6, n_estimators=1500; total time=   2.3s\n",
      "[CV] END max_depth=10, max_features=auto, min_samples_leaf=2, min_samples_split=6, n_estimators=1500; total time=   2.3s\n",
      "[CV] END max_depth=10, max_features=auto, min_samples_leaf=2, min_samples_split=6, n_estimators=2000; total time=   3.0s\n",
      "[CV] END max_depth=10, max_features=auto, min_samples_leaf=2, min_samples_split=6, n_estimators=2000; total time=   3.1s\n",
      "[CV] END max_depth=10, max_features=auto, min_samples_leaf=2, min_samples_split=6, n_estimators=2000; total time=   3.0s\n",
      "[CV] END max_depth=10, max_features=auto, min_samples_leaf=2, min_samples_split=6, n_estimators=2000; total time=   3.0s\n",
      "[CV] END max_depth=10, max_features=auto, min_samples_leaf=2, min_samples_split=6, n_estimators=2000; total time=   3.0s\n",
      "[CV] END max_depth=10, max_features=auto, min_samples_leaf=2, min_samples_split=8, n_estimators=1200; total time=   1.8s\n",
      "[CV] END max_depth=10, max_features=auto, min_samples_leaf=2, min_samples_split=8, n_estimators=1200; total time=   1.8s\n",
      "[CV] END max_depth=10, max_features=auto, min_samples_leaf=2, min_samples_split=8, n_estimators=1200; total time=   1.9s\n",
      "[CV] END max_depth=10, max_features=auto, min_samples_leaf=2, min_samples_split=8, n_estimators=1200; total time=   1.9s\n",
      "[CV] END max_depth=10, max_features=auto, min_samples_leaf=2, min_samples_split=8, n_estimators=1200; total time=   1.8s\n",
      "[CV] END max_depth=10, max_features=auto, min_samples_leaf=2, min_samples_split=8, n_estimators=1500; total time=   2.3s\n",
      "[CV] END max_depth=10, max_features=auto, min_samples_leaf=2, min_samples_split=8, n_estimators=1500; total time=   2.6s\n",
      "[CV] END max_depth=10, max_features=auto, min_samples_leaf=2, min_samples_split=8, n_estimators=1500; total time=   2.7s\n",
      "[CV] END max_depth=10, max_features=auto, min_samples_leaf=2, min_samples_split=8, n_estimators=1500; total time=   2.4s\n",
      "[CV] END max_depth=10, max_features=auto, min_samples_leaf=2, min_samples_split=8, n_estimators=1500; total time=   2.3s\n",
      "[CV] END max_depth=10, max_features=auto, min_samples_leaf=2, min_samples_split=8, n_estimators=2000; total time=   3.1s\n",
      "[CV] END max_depth=10, max_features=auto, min_samples_leaf=2, min_samples_split=8, n_estimators=2000; total time=   3.0s\n",
      "[CV] END max_depth=10, max_features=auto, min_samples_leaf=2, min_samples_split=8, n_estimators=2000; total time=   3.1s\n",
      "[CV] END max_depth=10, max_features=auto, min_samples_leaf=2, min_samples_split=8, n_estimators=2000; total time=   3.0s\n",
      "[CV] END max_depth=10, max_features=auto, min_samples_leaf=2, min_samples_split=8, n_estimators=2000; total time=   3.1s\n",
      "[CV] END max_depth=10, max_features=auto, min_samples_leaf=3, min_samples_split=5, n_estimators=1200; total time=   1.9s\n",
      "[CV] END max_depth=10, max_features=auto, min_samples_leaf=3, min_samples_split=5, n_estimators=1200; total time=   1.8s\n",
      "[CV] END max_depth=10, max_features=auto, min_samples_leaf=3, min_samples_split=5, n_estimators=1200; total time=   1.9s\n",
      "[CV] END max_depth=10, max_features=auto, min_samples_leaf=3, min_samples_split=5, n_estimators=1200; total time=   1.9s\n",
      "[CV] END max_depth=10, max_features=auto, min_samples_leaf=3, min_samples_split=5, n_estimators=1200; total time=   1.9s\n",
      "[CV] END max_depth=10, max_features=auto, min_samples_leaf=3, min_samples_split=5, n_estimators=1500; total time=   2.4s\n",
      "[CV] END max_depth=10, max_features=auto, min_samples_leaf=3, min_samples_split=5, n_estimators=1500; total time=   2.3s\n",
      "[CV] END max_depth=10, max_features=auto, min_samples_leaf=3, min_samples_split=5, n_estimators=1500; total time=   2.4s\n",
      "[CV] END max_depth=10, max_features=auto, min_samples_leaf=3, min_samples_split=5, n_estimators=1500; total time=   2.4s\n",
      "[CV] END max_depth=10, max_features=auto, min_samples_leaf=3, min_samples_split=5, n_estimators=1500; total time=   2.4s\n",
      "[CV] END max_depth=10, max_features=auto, min_samples_leaf=3, min_samples_split=5, n_estimators=2000; total time=   3.0s\n",
      "[CV] END max_depth=10, max_features=auto, min_samples_leaf=3, min_samples_split=5, n_estimators=2000; total time=   3.1s\n",
      "[CV] END max_depth=10, max_features=auto, min_samples_leaf=3, min_samples_split=5, n_estimators=2000; total time=   3.1s\n",
      "[CV] END max_depth=10, max_features=auto, min_samples_leaf=3, min_samples_split=5, n_estimators=2000; total time=   3.1s\n",
      "[CV] END max_depth=10, max_features=auto, min_samples_leaf=3, min_samples_split=5, n_estimators=2000; total time=   3.0s\n",
      "[CV] END max_depth=10, max_features=auto, min_samples_leaf=3, min_samples_split=6, n_estimators=1200; total time=   1.8s\n",
      "[CV] END max_depth=10, max_features=auto, min_samples_leaf=3, min_samples_split=6, n_estimators=1200; total time=   1.9s\n",
      "[CV] END max_depth=10, max_features=auto, min_samples_leaf=3, min_samples_split=6, n_estimators=1200; total time=   1.8s\n",
      "[CV] END max_depth=10, max_features=auto, min_samples_leaf=3, min_samples_split=6, n_estimators=1200; total time=   1.8s\n",
      "[CV] END max_depth=10, max_features=auto, min_samples_leaf=3, min_samples_split=6, n_estimators=1200; total time=   1.9s\n",
      "[CV] END max_depth=10, max_features=auto, min_samples_leaf=3, min_samples_split=6, n_estimators=1500; total time=   2.3s\n",
      "[CV] END max_depth=10, max_features=auto, min_samples_leaf=3, min_samples_split=6, n_estimators=1500; total time=   2.3s\n",
      "[CV] END max_depth=10, max_features=auto, min_samples_leaf=3, min_samples_split=6, n_estimators=1500; total time=   2.4s\n",
      "[CV] END max_depth=10, max_features=auto, min_samples_leaf=3, min_samples_split=6, n_estimators=1500; total time=   2.3s\n",
      "[CV] END max_depth=10, max_features=auto, min_samples_leaf=3, min_samples_split=6, n_estimators=1500; total time=   3.3s\n",
      "[CV] END max_depth=10, max_features=auto, min_samples_leaf=3, min_samples_split=6, n_estimators=2000; total time=   3.3s\n",
      "[CV] END max_depth=10, max_features=auto, min_samples_leaf=3, min_samples_split=6, n_estimators=2000; total time=   3.1s\n",
      "[CV] END max_depth=10, max_features=auto, min_samples_leaf=3, min_samples_split=6, n_estimators=2000; total time=   3.0s\n",
      "[CV] END max_depth=10, max_features=auto, min_samples_leaf=3, min_samples_split=6, n_estimators=2000; total time=   3.1s\n",
      "[CV] END max_depth=10, max_features=auto, min_samples_leaf=3, min_samples_split=6, n_estimators=2000; total time=   3.2s\n",
      "[CV] END max_depth=10, max_features=auto, min_samples_leaf=3, min_samples_split=8, n_estimators=1200; total time=   1.9s\n",
      "[CV] END max_depth=10, max_features=auto, min_samples_leaf=3, min_samples_split=8, n_estimators=1200; total time=   1.8s\n",
      "[CV] END max_depth=10, max_features=auto, min_samples_leaf=3, min_samples_split=8, n_estimators=1200; total time=   1.9s\n",
      "[CV] END max_depth=10, max_features=auto, min_samples_leaf=3, min_samples_split=8, n_estimators=1200; total time=   1.8s\n",
      "[CV] END max_depth=10, max_features=auto, min_samples_leaf=3, min_samples_split=8, n_estimators=1200; total time=   2.0s\n",
      "[CV] END max_depth=10, max_features=auto, min_samples_leaf=3, min_samples_split=8, n_estimators=1500; total time=   2.3s\n",
      "[CV] END max_depth=10, max_features=auto, min_samples_leaf=3, min_samples_split=8, n_estimators=1500; total time=   2.4s\n",
      "[CV] END max_depth=10, max_features=auto, min_samples_leaf=3, min_samples_split=8, n_estimators=1500; total time=   2.3s\n",
      "[CV] END max_depth=10, max_features=auto, min_samples_leaf=3, min_samples_split=8, n_estimators=1500; total time=   2.4s\n",
      "[CV] END max_depth=10, max_features=auto, min_samples_leaf=3, min_samples_split=8, n_estimators=1500; total time=   2.3s\n",
      "[CV] END max_depth=10, max_features=auto, min_samples_leaf=3, min_samples_split=8, n_estimators=2000; total time=   3.1s\n",
      "[CV] END max_depth=10, max_features=auto, min_samples_leaf=3, min_samples_split=8, n_estimators=2000; total time=   2.9s\n",
      "[CV] END max_depth=10, max_features=auto, min_samples_leaf=3, min_samples_split=8, n_estimators=2000; total time=   3.0s\n",
      "[CV] END max_depth=10, max_features=auto, min_samples_leaf=3, min_samples_split=8, n_estimators=2000; total time=   3.1s\n",
      "[CV] END max_depth=10, max_features=auto, min_samples_leaf=3, min_samples_split=8, n_estimators=2000; total time=   3.0s\n",
      "[CV] END max_depth=10, max_features=sqrt, min_samples_leaf=2, min_samples_split=5, n_estimators=1200; total time=   1.9s\n",
      "[CV] END max_depth=10, max_features=sqrt, min_samples_leaf=2, min_samples_split=5, n_estimators=1200; total time=   1.8s\n",
      "[CV] END max_depth=10, max_features=sqrt, min_samples_leaf=2, min_samples_split=5, n_estimators=1200; total time=   1.8s\n",
      "[CV] END max_depth=10, max_features=sqrt, min_samples_leaf=2, min_samples_split=5, n_estimators=1200; total time=   2.0s\n",
      "[CV] END max_depth=10, max_features=sqrt, min_samples_leaf=2, min_samples_split=5, n_estimators=1200; total time=   1.8s\n",
      "[CV] END max_depth=10, max_features=sqrt, min_samples_leaf=2, min_samples_split=5, n_estimators=1500; total time=   2.4s\n",
      "[CV] END max_depth=10, max_features=sqrt, min_samples_leaf=2, min_samples_split=5, n_estimators=1500; total time=   2.3s\n",
      "[CV] END max_depth=10, max_features=sqrt, min_samples_leaf=2, min_samples_split=5, n_estimators=1500; total time=   2.4s\n",
      "[CV] END max_depth=10, max_features=sqrt, min_samples_leaf=2, min_samples_split=5, n_estimators=1500; total time=   2.2s\n",
      "[CV] END max_depth=10, max_features=sqrt, min_samples_leaf=2, min_samples_split=5, n_estimators=1500; total time=   2.4s\n",
      "[CV] END max_depth=10, max_features=sqrt, min_samples_leaf=2, min_samples_split=5, n_estimators=2000; total time=   3.0s\n",
      "[CV] END max_depth=10, max_features=sqrt, min_samples_leaf=2, min_samples_split=5, n_estimators=2000; total time=   3.1s\n",
      "[CV] END max_depth=10, max_features=sqrt, min_samples_leaf=2, min_samples_split=5, n_estimators=2000; total time=   3.0s\n",
      "[CV] END max_depth=10, max_features=sqrt, min_samples_leaf=2, min_samples_split=5, n_estimators=2000; total time=   3.1s\n",
      "[CV] END max_depth=10, max_features=sqrt, min_samples_leaf=2, min_samples_split=5, n_estimators=2000; total time=   3.1s\n",
      "[CV] END max_depth=10, max_features=sqrt, min_samples_leaf=2, min_samples_split=6, n_estimators=1200; total time=   1.8s\n",
      "[CV] END max_depth=10, max_features=sqrt, min_samples_leaf=2, min_samples_split=6, n_estimators=1200; total time=   1.8s\n",
      "[CV] END max_depth=10, max_features=sqrt, min_samples_leaf=2, min_samples_split=6, n_estimators=1200; total time=   1.9s\n",
      "[CV] END max_depth=10, max_features=sqrt, min_samples_leaf=2, min_samples_split=6, n_estimators=1200; total time=   1.8s\n",
      "[CV] END max_depth=10, max_features=sqrt, min_samples_leaf=2, min_samples_split=6, n_estimators=1200; total time=   1.9s\n",
      "[CV] END max_depth=10, max_features=sqrt, min_samples_leaf=2, min_samples_split=6, n_estimators=1500; total time=   2.2s\n",
      "[CV] END max_depth=10, max_features=sqrt, min_samples_leaf=2, min_samples_split=6, n_estimators=1500; total time=   2.4s\n",
      "[CV] END max_depth=10, max_features=sqrt, min_samples_leaf=2, min_samples_split=6, n_estimators=1500; total time=   2.3s\n",
      "[CV] END max_depth=10, max_features=sqrt, min_samples_leaf=2, min_samples_split=6, n_estimators=1500; total time=   2.3s\n",
      "[CV] END max_depth=10, max_features=sqrt, min_samples_leaf=2, min_samples_split=6, n_estimators=1500; total time=   2.3s\n",
      "[CV] END max_depth=10, max_features=sqrt, min_samples_leaf=2, min_samples_split=6, n_estimators=2000; total time=   3.1s\n",
      "[CV] END max_depth=10, max_features=sqrt, min_samples_leaf=2, min_samples_split=6, n_estimators=2000; total time=   3.0s\n",
      "[CV] END max_depth=10, max_features=sqrt, min_samples_leaf=2, min_samples_split=6, n_estimators=2000; total time=   3.1s\n",
      "[CV] END max_depth=10, max_features=sqrt, min_samples_leaf=2, min_samples_split=6, n_estimators=2000; total time=   3.1s\n",
      "[CV] END max_depth=10, max_features=sqrt, min_samples_leaf=2, min_samples_split=6, n_estimators=2000; total time=   2.9s\n",
      "[CV] END max_depth=10, max_features=sqrt, min_samples_leaf=2, min_samples_split=8, n_estimators=1200; total time=   1.9s\n",
      "[CV] END max_depth=10, max_features=sqrt, min_samples_leaf=2, min_samples_split=8, n_estimators=1200; total time=   1.8s\n",
      "[CV] END max_depth=10, max_features=sqrt, min_samples_leaf=2, min_samples_split=8, n_estimators=1200; total time=   1.8s\n",
      "[CV] END max_depth=10, max_features=sqrt, min_samples_leaf=2, min_samples_split=8, n_estimators=1200; total time=   1.9s\n",
      "[CV] END max_depth=10, max_features=sqrt, min_samples_leaf=2, min_samples_split=8, n_estimators=1200; total time=   1.8s\n",
      "[CV] END max_depth=10, max_features=sqrt, min_samples_leaf=2, min_samples_split=8, n_estimators=1500; total time=   2.3s\n",
      "[CV] END max_depth=10, max_features=sqrt, min_samples_leaf=2, min_samples_split=8, n_estimators=1500; total time=   2.2s\n",
      "[CV] END max_depth=10, max_features=sqrt, min_samples_leaf=2, min_samples_split=8, n_estimators=1500; total time=   2.5s\n",
      "[CV] END max_depth=10, max_features=sqrt, min_samples_leaf=2, min_samples_split=8, n_estimators=1500; total time=   2.2s\n",
      "[CV] END max_depth=10, max_features=sqrt, min_samples_leaf=2, min_samples_split=8, n_estimators=1500; total time=   2.4s\n",
      "[CV] END max_depth=10, max_features=sqrt, min_samples_leaf=2, min_samples_split=8, n_estimators=2000; total time=   3.6s\n",
      "[CV] END max_depth=10, max_features=sqrt, min_samples_leaf=2, min_samples_split=8, n_estimators=2000; total time=   3.2s\n",
      "[CV] END max_depth=10, max_features=sqrt, min_samples_leaf=2, min_samples_split=8, n_estimators=2000; total time=   3.1s\n",
      "[CV] END max_depth=10, max_features=sqrt, min_samples_leaf=2, min_samples_split=8, n_estimators=2000; total time=   2.9s\n",
      "[CV] END max_depth=10, max_features=sqrt, min_samples_leaf=2, min_samples_split=8, n_estimators=2000; total time=   3.1s\n",
      "[CV] END max_depth=10, max_features=sqrt, min_samples_leaf=3, min_samples_split=5, n_estimators=1200; total time=   1.9s\n",
      "[CV] END max_depth=10, max_features=sqrt, min_samples_leaf=3, min_samples_split=5, n_estimators=1200; total time=   1.9s\n",
      "[CV] END max_depth=10, max_features=sqrt, min_samples_leaf=3, min_samples_split=5, n_estimators=1200; total time=   1.8s\n",
      "[CV] END max_depth=10, max_features=sqrt, min_samples_leaf=3, min_samples_split=5, n_estimators=1200; total time=   1.9s\n",
      "[CV] END max_depth=10, max_features=sqrt, min_samples_leaf=3, min_samples_split=5, n_estimators=1200; total time=   1.8s\n",
      "[CV] END max_depth=10, max_features=sqrt, min_samples_leaf=3, min_samples_split=5, n_estimators=1500; total time=   2.3s\n",
      "[CV] END max_depth=10, max_features=sqrt, min_samples_leaf=3, min_samples_split=5, n_estimators=1500; total time=   2.3s\n",
      "[CV] END max_depth=10, max_features=sqrt, min_samples_leaf=3, min_samples_split=5, n_estimators=1500; total time=   2.2s\n",
      "[CV] END max_depth=10, max_features=sqrt, min_samples_leaf=3, min_samples_split=5, n_estimators=1500; total time=   2.3s\n",
      "[CV] END max_depth=10, max_features=sqrt, min_samples_leaf=3, min_samples_split=5, n_estimators=1500; total time=   2.3s\n",
      "[CV] END max_depth=10, max_features=sqrt, min_samples_leaf=3, min_samples_split=5, n_estimators=2000; total time=   3.1s\n",
      "[CV] END max_depth=10, max_features=sqrt, min_samples_leaf=3, min_samples_split=5, n_estimators=2000; total time=   2.9s\n",
      "[CV] END max_depth=10, max_features=sqrt, min_samples_leaf=3, min_samples_split=5, n_estimators=2000; total time=   3.2s\n",
      "[CV] END max_depth=10, max_features=sqrt, min_samples_leaf=3, min_samples_split=5, n_estimators=2000; total time=   3.1s\n",
      "[CV] END max_depth=10, max_features=sqrt, min_samples_leaf=3, min_samples_split=5, n_estimators=2000; total time=   2.9s\n",
      "[CV] END max_depth=10, max_features=sqrt, min_samples_leaf=3, min_samples_split=6, n_estimators=1200; total time=   1.9s\n",
      "[CV] END max_depth=10, max_features=sqrt, min_samples_leaf=3, min_samples_split=6, n_estimators=1200; total time=   1.8s\n",
      "[CV] END max_depth=10, max_features=sqrt, min_samples_leaf=3, min_samples_split=6, n_estimators=1200; total time=   2.0s\n",
      "[CV] END max_depth=10, max_features=sqrt, min_samples_leaf=3, min_samples_split=6, n_estimators=1200; total time=   2.3s\n",
      "[CV] END max_depth=10, max_features=sqrt, min_samples_leaf=3, min_samples_split=6, n_estimators=1200; total time=   2.6s\n",
      "[CV] END max_depth=10, max_features=sqrt, min_samples_leaf=3, min_samples_split=6, n_estimators=1500; total time=   2.6s\n",
      "[CV] END max_depth=10, max_features=sqrt, min_samples_leaf=3, min_samples_split=6, n_estimators=1500; total time=   2.4s\n",
      "[CV] END max_depth=10, max_features=sqrt, min_samples_leaf=3, min_samples_split=6, n_estimators=1500; total time=   2.2s\n",
      "[CV] END max_depth=10, max_features=sqrt, min_samples_leaf=3, min_samples_split=6, n_estimators=1500; total time=   2.5s\n",
      "[CV] END max_depth=10, max_features=sqrt, min_samples_leaf=3, min_samples_split=6, n_estimators=1500; total time=   2.3s\n",
      "[CV] END max_depth=10, max_features=sqrt, min_samples_leaf=3, min_samples_split=6, n_estimators=2000; total time=   3.1s\n",
      "[CV] END max_depth=10, max_features=sqrt, min_samples_leaf=3, min_samples_split=6, n_estimators=2000; total time=   3.0s\n",
      "[CV] END max_depth=10, max_features=sqrt, min_samples_leaf=3, min_samples_split=6, n_estimators=2000; total time=   3.0s\n",
      "[CV] END max_depth=10, max_features=sqrt, min_samples_leaf=3, min_samples_split=6, n_estimators=2000; total time=   3.1s\n",
      "[CV] END max_depth=10, max_features=sqrt, min_samples_leaf=3, min_samples_split=6, n_estimators=2000; total time=   3.0s\n",
      "[CV] END max_depth=10, max_features=sqrt, min_samples_leaf=3, min_samples_split=8, n_estimators=1200; total time=   1.8s\n",
      "[CV] END max_depth=10, max_features=sqrt, min_samples_leaf=3, min_samples_split=8, n_estimators=1200; total time=   1.6s\n",
      "[CV] END max_depth=10, max_features=sqrt, min_samples_leaf=3, min_samples_split=8, n_estimators=1200; total time=   1.6s\n",
      "[CV] END max_depth=10, max_features=sqrt, min_samples_leaf=3, min_samples_split=8, n_estimators=1200; total time=   1.7s\n",
      "[CV] END max_depth=10, max_features=sqrt, min_samples_leaf=3, min_samples_split=8, n_estimators=1200; total time=   1.4s\n",
      "[CV] END max_depth=10, max_features=sqrt, min_samples_leaf=3, min_samples_split=8, n_estimators=1500; total time=   2.0s\n",
      "[CV] END max_depth=10, max_features=sqrt, min_samples_leaf=3, min_samples_split=8, n_estimators=1500; total time=   1.9s\n",
      "[CV] END max_depth=10, max_features=sqrt, min_samples_leaf=3, min_samples_split=8, n_estimators=1500; total time=   1.6s\n",
      "[CV] END max_depth=10, max_features=sqrt, min_samples_leaf=3, min_samples_split=8, n_estimators=1500; total time=   1.6s\n",
      "[CV] END max_depth=10, max_features=sqrt, min_samples_leaf=3, min_samples_split=8, n_estimators=1500; total time=   1.7s\n",
      "[CV] END max_depth=10, max_features=sqrt, min_samples_leaf=3, min_samples_split=8, n_estimators=2000; total time=   2.2s\n",
      "[CV] END max_depth=10, max_features=sqrt, min_samples_leaf=3, min_samples_split=8, n_estimators=2000; total time=   2.2s\n",
      "[CV] END max_depth=10, max_features=sqrt, min_samples_leaf=3, min_samples_split=8, n_estimators=2000; total time=   2.2s\n",
      "[CV] END max_depth=10, max_features=sqrt, min_samples_leaf=3, min_samples_split=8, n_estimators=2000; total time=   2.2s\n",
      "[CV] END max_depth=10, max_features=sqrt, min_samples_leaf=3, min_samples_split=8, n_estimators=2000; total time=   2.3s\n",
      "[CV] END max_depth=14, max_features=auto, min_samples_leaf=2, min_samples_split=5, n_estimators=1200; total time=   1.3s\n",
      "[CV] END max_depth=14, max_features=auto, min_samples_leaf=2, min_samples_split=5, n_estimators=1200; total time=   1.3s\n",
      "[CV] END max_depth=14, max_features=auto, min_samples_leaf=2, min_samples_split=5, n_estimators=1200; total time=   1.3s\n",
      "[CV] END max_depth=14, max_features=auto, min_samples_leaf=2, min_samples_split=5, n_estimators=1200; total time=   1.3s\n",
      "[CV] END max_depth=14, max_features=auto, min_samples_leaf=2, min_samples_split=5, n_estimators=1200; total time=   1.4s\n",
      "[CV] END max_depth=14, max_features=auto, min_samples_leaf=2, min_samples_split=5, n_estimators=1500; total time=   1.6s\n",
      "[CV] END max_depth=14, max_features=auto, min_samples_leaf=2, min_samples_split=5, n_estimators=1500; total time=   1.7s\n",
      "[CV] END max_depth=14, max_features=auto, min_samples_leaf=2, min_samples_split=5, n_estimators=1500; total time=   1.7s\n",
      "[CV] END max_depth=14, max_features=auto, min_samples_leaf=2, min_samples_split=5, n_estimators=1500; total time=   1.6s\n",
      "[CV] END max_depth=14, max_features=auto, min_samples_leaf=2, min_samples_split=5, n_estimators=1500; total time=   1.6s\n",
      "[CV] END max_depth=14, max_features=auto, min_samples_leaf=2, min_samples_split=5, n_estimators=2000; total time=   2.3s\n",
      "[CV] END max_depth=14, max_features=auto, min_samples_leaf=2, min_samples_split=5, n_estimators=2000; total time=   2.2s\n",
      "[CV] END max_depth=14, max_features=auto, min_samples_leaf=2, min_samples_split=5, n_estimators=2000; total time=   2.2s\n",
      "[CV] END max_depth=14, max_features=auto, min_samples_leaf=2, min_samples_split=5, n_estimators=2000; total time=   2.3s\n",
      "[CV] END max_depth=14, max_features=auto, min_samples_leaf=2, min_samples_split=5, n_estimators=2000; total time=   2.2s\n",
      "[CV] END max_depth=14, max_features=auto, min_samples_leaf=2, min_samples_split=6, n_estimators=1200; total time=   1.3s\n",
      "[CV] END max_depth=14, max_features=auto, min_samples_leaf=2, min_samples_split=6, n_estimators=1200; total time=   1.4s\n",
      "[CV] END max_depth=14, max_features=auto, min_samples_leaf=2, min_samples_split=6, n_estimators=1200; total time=   1.4s\n",
      "[CV] END max_depth=14, max_features=auto, min_samples_leaf=2, min_samples_split=6, n_estimators=1200; total time=   1.4s\n",
      "[CV] END max_depth=14, max_features=auto, min_samples_leaf=2, min_samples_split=6, n_estimators=1200; total time=   1.3s\n",
      "[CV] END max_depth=14, max_features=auto, min_samples_leaf=2, min_samples_split=6, n_estimators=1500; total time=   1.7s\n",
      "[CV] END max_depth=14, max_features=auto, min_samples_leaf=2, min_samples_split=6, n_estimators=1500; total time=   2.1s\n",
      "[CV] END max_depth=14, max_features=auto, min_samples_leaf=2, min_samples_split=6, n_estimators=1500; total time=   1.8s\n",
      "[CV] END max_depth=14, max_features=auto, min_samples_leaf=2, min_samples_split=6, n_estimators=1500; total time=   1.8s\n",
      "[CV] END max_depth=14, max_features=auto, min_samples_leaf=2, min_samples_split=6, n_estimators=1500; total time=   1.7s\n",
      "[CV] END max_depth=14, max_features=auto, min_samples_leaf=2, min_samples_split=6, n_estimators=2000; total time=   2.3s\n",
      "[CV] END max_depth=14, max_features=auto, min_samples_leaf=2, min_samples_split=6, n_estimators=2000; total time=   2.3s\n",
      "[CV] END max_depth=14, max_features=auto, min_samples_leaf=2, min_samples_split=6, n_estimators=2000; total time=   2.4s\n",
      "[CV] END max_depth=14, max_features=auto, min_samples_leaf=2, min_samples_split=6, n_estimators=2000; total time=   2.3s\n",
      "[CV] END max_depth=14, max_features=auto, min_samples_leaf=2, min_samples_split=6, n_estimators=2000; total time=   2.1s\n",
      "[CV] END max_depth=14, max_features=auto, min_samples_leaf=2, min_samples_split=8, n_estimators=1200; total time=   1.3s\n",
      "[CV] END max_depth=14, max_features=auto, min_samples_leaf=2, min_samples_split=8, n_estimators=1200; total time=   1.3s\n",
      "[CV] END max_depth=14, max_features=auto, min_samples_leaf=2, min_samples_split=8, n_estimators=1200; total time=   1.3s\n",
      "[CV] END max_depth=14, max_features=auto, min_samples_leaf=2, min_samples_split=8, n_estimators=1200; total time=   1.4s\n",
      "[CV] END max_depth=14, max_features=auto, min_samples_leaf=2, min_samples_split=8, n_estimators=1200; total time=   1.3s\n",
      "[CV] END max_depth=14, max_features=auto, min_samples_leaf=2, min_samples_split=8, n_estimators=1500; total time=   1.6s\n",
      "[CV] END max_depth=14, max_features=auto, min_samples_leaf=2, min_samples_split=8, n_estimators=1500; total time=   1.7s\n",
      "[CV] END max_depth=14, max_features=auto, min_samples_leaf=2, min_samples_split=8, n_estimators=1500; total time=   1.6s\n",
      "[CV] END max_depth=14, max_features=auto, min_samples_leaf=2, min_samples_split=8, n_estimators=1500; total time=   1.8s\n",
      "[CV] END max_depth=14, max_features=auto, min_samples_leaf=2, min_samples_split=8, n_estimators=1500; total time=   1.7s\n",
      "[CV] END max_depth=14, max_features=auto, min_samples_leaf=2, min_samples_split=8, n_estimators=2000; total time=   2.2s\n",
      "[CV] END max_depth=14, max_features=auto, min_samples_leaf=2, min_samples_split=8, n_estimators=2000; total time=   2.3s\n",
      "[CV] END max_depth=14, max_features=auto, min_samples_leaf=2, min_samples_split=8, n_estimators=2000; total time=   2.2s\n",
      "[CV] END max_depth=14, max_features=auto, min_samples_leaf=2, min_samples_split=8, n_estimators=2000; total time=   2.3s\n",
      "[CV] END max_depth=14, max_features=auto, min_samples_leaf=2, min_samples_split=8, n_estimators=2000; total time=   2.2s\n",
      "[CV] END max_depth=14, max_features=auto, min_samples_leaf=3, min_samples_split=5, n_estimators=1200; total time=   1.3s\n",
      "[CV] END max_depth=14, max_features=auto, min_samples_leaf=3, min_samples_split=5, n_estimators=1200; total time=   1.3s\n",
      "[CV] END max_depth=14, max_features=auto, min_samples_leaf=3, min_samples_split=5, n_estimators=1200; total time=   1.3s\n",
      "[CV] END max_depth=14, max_features=auto, min_samples_leaf=3, min_samples_split=5, n_estimators=1200; total time=   1.3s\n",
      "[CV] END max_depth=14, max_features=auto, min_samples_leaf=3, min_samples_split=5, n_estimators=1200; total time=   1.3s\n",
      "[CV] END max_depth=14, max_features=auto, min_samples_leaf=3, min_samples_split=5, n_estimators=1500; total time=   1.6s\n",
      "[CV] END max_depth=14, max_features=auto, min_samples_leaf=3, min_samples_split=5, n_estimators=1500; total time=   1.7s\n",
      "[CV] END max_depth=14, max_features=auto, min_samples_leaf=3, min_samples_split=5, n_estimators=1500; total time=   1.6s\n",
      "[CV] END max_depth=14, max_features=auto, min_samples_leaf=3, min_samples_split=5, n_estimators=1500; total time=   1.7s\n",
      "[CV] END max_depth=14, max_features=auto, min_samples_leaf=3, min_samples_split=5, n_estimators=1500; total time=   1.6s\n",
      "[CV] END max_depth=14, max_features=auto, min_samples_leaf=3, min_samples_split=5, n_estimators=2000; total time=   2.2s\n",
      "[CV] END max_depth=14, max_features=auto, min_samples_leaf=3, min_samples_split=5, n_estimators=2000; total time=   2.2s\n",
      "[CV] END max_depth=14, max_features=auto, min_samples_leaf=3, min_samples_split=5, n_estimators=2000; total time=   2.2s\n",
      "[CV] END max_depth=14, max_features=auto, min_samples_leaf=3, min_samples_split=5, n_estimators=2000; total time=   2.2s\n",
      "[CV] END max_depth=14, max_features=auto, min_samples_leaf=3, min_samples_split=5, n_estimators=2000; total time=   2.1s\n",
      "[CV] END max_depth=14, max_features=auto, min_samples_leaf=3, min_samples_split=6, n_estimators=1200; total time=   1.4s\n",
      "[CV] END max_depth=14, max_features=auto, min_samples_leaf=3, min_samples_split=6, n_estimators=1200; total time=   1.3s\n",
      "[CV] END max_depth=14, max_features=auto, min_samples_leaf=3, min_samples_split=6, n_estimators=1200; total time=   1.3s\n",
      "[CV] END max_depth=14, max_features=auto, min_samples_leaf=3, min_samples_split=6, n_estimators=1200; total time=   1.3s\n",
      "[CV] END max_depth=14, max_features=auto, min_samples_leaf=3, min_samples_split=6, n_estimators=1200; total time=   1.3s\n",
      "[CV] END max_depth=14, max_features=auto, min_samples_leaf=3, min_samples_split=6, n_estimators=1500; total time=   1.6s\n",
      "[CV] END max_depth=14, max_features=auto, min_samples_leaf=3, min_samples_split=6, n_estimators=1500; total time=   1.6s\n",
      "[CV] END max_depth=14, max_features=auto, min_samples_leaf=3, min_samples_split=6, n_estimators=1500; total time=   1.7s\n",
      "[CV] END max_depth=14, max_features=auto, min_samples_leaf=3, min_samples_split=6, n_estimators=1500; total time=   1.6s\n",
      "[CV] END max_depth=14, max_features=auto, min_samples_leaf=3, min_samples_split=6, n_estimators=1500; total time=   1.7s\n",
      "[CV] END max_depth=14, max_features=auto, min_samples_leaf=3, min_samples_split=6, n_estimators=2000; total time=   2.2s\n",
      "[CV] END max_depth=14, max_features=auto, min_samples_leaf=3, min_samples_split=6, n_estimators=2000; total time=   2.2s\n",
      "[CV] END max_depth=14, max_features=auto, min_samples_leaf=3, min_samples_split=6, n_estimators=2000; total time=   2.2s\n",
      "[CV] END max_depth=14, max_features=auto, min_samples_leaf=3, min_samples_split=6, n_estimators=2000; total time=   2.1s\n",
      "[CV] END max_depth=14, max_features=auto, min_samples_leaf=3, min_samples_split=6, n_estimators=2000; total time=   2.2s\n",
      "[CV] END max_depth=14, max_features=auto, min_samples_leaf=3, min_samples_split=8, n_estimators=1200; total time=   1.4s\n",
      "[CV] END max_depth=14, max_features=auto, min_samples_leaf=3, min_samples_split=8, n_estimators=1200; total time=   1.3s\n",
      "[CV] END max_depth=14, max_features=auto, min_samples_leaf=3, min_samples_split=8, n_estimators=1200; total time=   1.3s\n",
      "[CV] END max_depth=14, max_features=auto, min_samples_leaf=3, min_samples_split=8, n_estimators=1200; total time=   1.4s\n",
      "[CV] END max_depth=14, max_features=auto, min_samples_leaf=3, min_samples_split=8, n_estimators=1200; total time=   1.3s\n",
      "[CV] END max_depth=14, max_features=auto, min_samples_leaf=3, min_samples_split=8, n_estimators=1500; total time=   1.7s\n",
      "[CV] END max_depth=14, max_features=auto, min_samples_leaf=3, min_samples_split=8, n_estimators=1500; total time=   1.6s\n",
      "[CV] END max_depth=14, max_features=auto, min_samples_leaf=3, min_samples_split=8, n_estimators=1500; total time=   1.6s\n",
      "[CV] END max_depth=14, max_features=auto, min_samples_leaf=3, min_samples_split=8, n_estimators=1500; total time=   1.7s\n",
      "[CV] END max_depth=14, max_features=auto, min_samples_leaf=3, min_samples_split=8, n_estimators=1500; total time=   1.6s\n",
      "[CV] END max_depth=14, max_features=auto, min_samples_leaf=3, min_samples_split=8, n_estimators=2000; total time=   2.3s\n",
      "[CV] END max_depth=14, max_features=auto, min_samples_leaf=3, min_samples_split=8, n_estimators=2000; total time=   2.3s\n",
      "[CV] END max_depth=14, max_features=auto, min_samples_leaf=3, min_samples_split=8, n_estimators=2000; total time=   2.3s\n",
      "[CV] END max_depth=14, max_features=auto, min_samples_leaf=3, min_samples_split=8, n_estimators=2000; total time=   2.3s\n",
      "[CV] END max_depth=14, max_features=auto, min_samples_leaf=3, min_samples_split=8, n_estimators=2000; total time=   2.2s\n",
      "[CV] END max_depth=14, max_features=sqrt, min_samples_leaf=2, min_samples_split=5, n_estimators=1200; total time=   1.4s\n",
      "[CV] END max_depth=14, max_features=sqrt, min_samples_leaf=2, min_samples_split=5, n_estimators=1200; total time=   1.3s\n",
      "[CV] END max_depth=14, max_features=sqrt, min_samples_leaf=2, min_samples_split=5, n_estimators=1200; total time=   1.3s\n",
      "[CV] END max_depth=14, max_features=sqrt, min_samples_leaf=2, min_samples_split=5, n_estimators=1200; total time=   1.4s\n",
      "[CV] END max_depth=14, max_features=sqrt, min_samples_leaf=2, min_samples_split=5, n_estimators=1200; total time=   1.3s\n",
      "[CV] END max_depth=14, max_features=sqrt, min_samples_leaf=2, min_samples_split=5, n_estimators=1500; total time=   1.6s\n",
      "[CV] END max_depth=14, max_features=sqrt, min_samples_leaf=2, min_samples_split=5, n_estimators=1500; total time=   1.6s\n",
      "[CV] END max_depth=14, max_features=sqrt, min_samples_leaf=2, min_samples_split=5, n_estimators=1500; total time=   1.8s\n",
      "[CV] END max_depth=14, max_features=sqrt, min_samples_leaf=2, min_samples_split=5, n_estimators=1500; total time=   1.8s\n",
      "[CV] END max_depth=14, max_features=sqrt, min_samples_leaf=2, min_samples_split=5, n_estimators=1500; total time=   1.7s\n",
      "[CV] END max_depth=14, max_features=sqrt, min_samples_leaf=2, min_samples_split=5, n_estimators=2000; total time=   2.3s\n",
      "[CV] END max_depth=14, max_features=sqrt, min_samples_leaf=2, min_samples_split=5, n_estimators=2000; total time=   2.2s\n",
      "[CV] END max_depth=14, max_features=sqrt, min_samples_leaf=2, min_samples_split=5, n_estimators=2000; total time=   2.2s\n",
      "[CV] END max_depth=14, max_features=sqrt, min_samples_leaf=2, min_samples_split=5, n_estimators=2000; total time=   2.3s\n",
      "[CV] END max_depth=14, max_features=sqrt, min_samples_leaf=2, min_samples_split=5, n_estimators=2000; total time=   2.2s\n",
      "[CV] END max_depth=14, max_features=sqrt, min_samples_leaf=2, min_samples_split=6, n_estimators=1200; total time=   1.3s\n",
      "[CV] END max_depth=14, max_features=sqrt, min_samples_leaf=2, min_samples_split=6, n_estimators=1200; total time=   1.3s\n",
      "[CV] END max_depth=14, max_features=sqrt, min_samples_leaf=2, min_samples_split=6, n_estimators=1200; total time=   1.3s\n",
      "[CV] END max_depth=14, max_features=sqrt, min_samples_leaf=2, min_samples_split=6, n_estimators=1200; total time=   1.3s\n",
      "[CV] END max_depth=14, max_features=sqrt, min_samples_leaf=2, min_samples_split=6, n_estimators=1200; total time=   1.3s\n",
      "[CV] END max_depth=14, max_features=sqrt, min_samples_leaf=2, min_samples_split=6, n_estimators=1500; total time=   2.2s\n",
      "[CV] END max_depth=14, max_features=sqrt, min_samples_leaf=2, min_samples_split=6, n_estimators=1500; total time=   1.6s\n",
      "[CV] END max_depth=14, max_features=sqrt, min_samples_leaf=2, min_samples_split=6, n_estimators=1500; total time=   1.6s\n",
      "[CV] END max_depth=14, max_features=sqrt, min_samples_leaf=2, min_samples_split=6, n_estimators=1500; total time=   1.6s\n",
      "[CV] END max_depth=14, max_features=sqrt, min_samples_leaf=2, min_samples_split=6, n_estimators=1500; total time=   1.6s\n",
      "[CV] END max_depth=14, max_features=sqrt, min_samples_leaf=2, min_samples_split=6, n_estimators=2000; total time=   2.3s\n",
      "[CV] END max_depth=14, max_features=sqrt, min_samples_leaf=2, min_samples_split=6, n_estimators=2000; total time=   2.1s\n",
      "[CV] END max_depth=14, max_features=sqrt, min_samples_leaf=2, min_samples_split=6, n_estimators=2000; total time=   2.3s\n",
      "[CV] END max_depth=14, max_features=sqrt, min_samples_leaf=2, min_samples_split=6, n_estimators=2000; total time=   2.2s\n",
      "[CV] END max_depth=14, max_features=sqrt, min_samples_leaf=2, min_samples_split=6, n_estimators=2000; total time=   2.2s\n",
      "[CV] END max_depth=14, max_features=sqrt, min_samples_leaf=2, min_samples_split=8, n_estimators=1200; total time=   1.3s\n",
      "[CV] END max_depth=14, max_features=sqrt, min_samples_leaf=2, min_samples_split=8, n_estimators=1200; total time=   1.3s\n",
      "[CV] END max_depth=14, max_features=sqrt, min_samples_leaf=2, min_samples_split=8, n_estimators=1200; total time=   1.3s\n",
      "[CV] END max_depth=14, max_features=sqrt, min_samples_leaf=2, min_samples_split=8, n_estimators=1200; total time=   1.3s\n",
      "[CV] END max_depth=14, max_features=sqrt, min_samples_leaf=2, min_samples_split=8, n_estimators=1200; total time=   1.3s\n",
      "[CV] END max_depth=14, max_features=sqrt, min_samples_leaf=2, min_samples_split=8, n_estimators=1500; total time=   1.6s\n",
      "[CV] END max_depth=14, max_features=sqrt, min_samples_leaf=2, min_samples_split=8, n_estimators=1500; total time=   1.7s\n",
      "[CV] END max_depth=14, max_features=sqrt, min_samples_leaf=2, min_samples_split=8, n_estimators=1500; total time=   1.7s\n",
      "[CV] END max_depth=14, max_features=sqrt, min_samples_leaf=2, min_samples_split=8, n_estimators=1500; total time=   1.6s\n",
      "[CV] END max_depth=14, max_features=sqrt, min_samples_leaf=2, min_samples_split=8, n_estimators=1500; total time=   1.7s\n",
      "[CV] END max_depth=14, max_features=sqrt, min_samples_leaf=2, min_samples_split=8, n_estimators=2000; total time=   2.2s\n",
      "[CV] END max_depth=14, max_features=sqrt, min_samples_leaf=2, min_samples_split=8, n_estimators=2000; total time=   2.2s\n",
      "[CV] END max_depth=14, max_features=sqrt, min_samples_leaf=2, min_samples_split=8, n_estimators=2000; total time=   2.1s\n",
      "[CV] END max_depth=14, max_features=sqrt, min_samples_leaf=2, min_samples_split=8, n_estimators=2000; total time=   2.3s\n",
      "[CV] END max_depth=14, max_features=sqrt, min_samples_leaf=2, min_samples_split=8, n_estimators=2000; total time=   2.2s\n",
      "[CV] END max_depth=14, max_features=sqrt, min_samples_leaf=3, min_samples_split=5, n_estimators=1200; total time=   1.3s\n",
      "[CV] END max_depth=14, max_features=sqrt, min_samples_leaf=3, min_samples_split=5, n_estimators=1200; total time=   1.4s\n",
      "[CV] END max_depth=14, max_features=sqrt, min_samples_leaf=3, min_samples_split=5, n_estimators=1200; total time=   1.3s\n",
      "[CV] END max_depth=14, max_features=sqrt, min_samples_leaf=3, min_samples_split=5, n_estimators=1200; total time=   1.3s\n",
      "[CV] END max_depth=14, max_features=sqrt, min_samples_leaf=3, min_samples_split=5, n_estimators=1200; total time=   1.3s\n",
      "[CV] END max_depth=14, max_features=sqrt, min_samples_leaf=3, min_samples_split=5, n_estimators=1500; total time=   1.7s\n",
      "[CV] END max_depth=14, max_features=sqrt, min_samples_leaf=3, min_samples_split=5, n_estimators=1500; total time=   1.6s\n",
      "[CV] END max_depth=14, max_features=sqrt, min_samples_leaf=3, min_samples_split=5, n_estimators=1500; total time=   1.6s\n",
      "[CV] END max_depth=14, max_features=sqrt, min_samples_leaf=3, min_samples_split=5, n_estimators=1500; total time=   1.7s\n",
      "[CV] END max_depth=14, max_features=sqrt, min_samples_leaf=3, min_samples_split=5, n_estimators=1500; total time=   1.6s\n",
      "[CV] END max_depth=14, max_features=sqrt, min_samples_leaf=3, min_samples_split=5, n_estimators=2000; total time=   2.3s\n",
      "[CV] END max_depth=14, max_features=sqrt, min_samples_leaf=3, min_samples_split=5, n_estimators=2000; total time=   2.1s\n",
      "[CV] END max_depth=14, max_features=sqrt, min_samples_leaf=3, min_samples_split=5, n_estimators=2000; total time=   2.2s\n",
      "[CV] END max_depth=14, max_features=sqrt, min_samples_leaf=3, min_samples_split=5, n_estimators=2000; total time=   2.3s\n",
      "[CV] END max_depth=14, max_features=sqrt, min_samples_leaf=3, min_samples_split=5, n_estimators=2000; total time=   2.2s\n",
      "[CV] END max_depth=14, max_features=sqrt, min_samples_leaf=3, min_samples_split=6, n_estimators=1200; total time=   1.4s\n",
      "[CV] END max_depth=14, max_features=sqrt, min_samples_leaf=3, min_samples_split=6, n_estimators=1200; total time=   1.4s\n",
      "[CV] END max_depth=14, max_features=sqrt, min_samples_leaf=3, min_samples_split=6, n_estimators=1200; total time=   1.3s\n",
      "[CV] END max_depth=14, max_features=sqrt, min_samples_leaf=3, min_samples_split=6, n_estimators=1200; total time=   1.4s\n",
      "[CV] END max_depth=14, max_features=sqrt, min_samples_leaf=3, min_samples_split=6, n_estimators=1200; total time=   1.3s\n",
      "[CV] END max_depth=14, max_features=sqrt, min_samples_leaf=3, min_samples_split=6, n_estimators=1500; total time=   1.6s\n",
      "[CV] END max_depth=14, max_features=sqrt, min_samples_leaf=3, min_samples_split=6, n_estimators=1500; total time=   1.6s\n",
      "[CV] END max_depth=14, max_features=sqrt, min_samples_leaf=3, min_samples_split=6, n_estimators=1500; total time=   1.6s\n",
      "[CV] END max_depth=14, max_features=sqrt, min_samples_leaf=3, min_samples_split=6, n_estimators=1500; total time=   1.6s\n",
      "[CV] END max_depth=14, max_features=sqrt, min_samples_leaf=3, min_samples_split=6, n_estimators=1500; total time=   1.7s\n",
      "[CV] END max_depth=14, max_features=sqrt, min_samples_leaf=3, min_samples_split=6, n_estimators=2000; total time=   2.2s\n",
      "[CV] END max_depth=14, max_features=sqrt, min_samples_leaf=3, min_samples_split=6, n_estimators=2000; total time=   2.3s\n",
      "[CV] END max_depth=14, max_features=sqrt, min_samples_leaf=3, min_samples_split=6, n_estimators=2000; total time=   2.2s\n",
      "[CV] END max_depth=14, max_features=sqrt, min_samples_leaf=3, min_samples_split=6, n_estimators=2000; total time=   2.2s\n",
      "[CV] END max_depth=14, max_features=sqrt, min_samples_leaf=3, min_samples_split=6, n_estimators=2000; total time=   2.2s\n",
      "[CV] END max_depth=14, max_features=sqrt, min_samples_leaf=3, min_samples_split=8, n_estimators=1200; total time=   1.3s\n",
      "[CV] END max_depth=14, max_features=sqrt, min_samples_leaf=3, min_samples_split=8, n_estimators=1200; total time=   1.4s\n",
      "[CV] END max_depth=14, max_features=sqrt, min_samples_leaf=3, min_samples_split=8, n_estimators=1200; total time=   1.3s\n",
      "[CV] END max_depth=14, max_features=sqrt, min_samples_leaf=3, min_samples_split=8, n_estimators=1200; total time=   1.3s\n",
      "[CV] END max_depth=14, max_features=sqrt, min_samples_leaf=3, min_samples_split=8, n_estimators=1200; total time=   1.4s\n",
      "[CV] END max_depth=14, max_features=sqrt, min_samples_leaf=3, min_samples_split=8, n_estimators=1500; total time=   1.7s\n",
      "[CV] END max_depth=14, max_features=sqrt, min_samples_leaf=3, min_samples_split=8, n_estimators=1500; total time=   1.6s\n",
      "[CV] END max_depth=14, max_features=sqrt, min_samples_leaf=3, min_samples_split=8, n_estimators=1500; total time=   1.6s\n",
      "[CV] END max_depth=14, max_features=sqrt, min_samples_leaf=3, min_samples_split=8, n_estimators=1500; total time=   1.7s\n",
      "[CV] END max_depth=14, max_features=sqrt, min_samples_leaf=3, min_samples_split=8, n_estimators=1500; total time=   1.6s\n",
      "[CV] END max_depth=14, max_features=sqrt, min_samples_leaf=3, min_samples_split=8, n_estimators=2000; total time=   2.2s\n",
      "[CV] END max_depth=14, max_features=sqrt, min_samples_leaf=3, min_samples_split=8, n_estimators=2000; total time=   2.1s\n",
      "[CV] END max_depth=14, max_features=sqrt, min_samples_leaf=3, min_samples_split=8, n_estimators=2000; total time=   2.2s\n",
      "[CV] END max_depth=14, max_features=sqrt, min_samples_leaf=3, min_samples_split=8, n_estimators=2000; total time=   2.1s\n",
      "[CV] END max_depth=14, max_features=sqrt, min_samples_leaf=3, min_samples_split=8, n_estimators=2000; total time=   2.2s\n"
     ]
    }
   ],
   "source": [
    "#Take the best params and use them to influence the grid\n",
    "#Try to reduce the possible amount of combinations\n",
    "grid_2 = {\"n_estimators\": [1200, 1500, 2000],\n",
    "        \"max_depth\": [8, 10, 14],\n",
    "        \"max_features\": [\"auto\", \"sqrt\"],\n",
    "        \"min_samples_split\": [5, 6, 8],\n",
    "        \"min_samples_leaf\": [2, 3]}\n",
    "\n",
    "#Import\n",
    "from sklearn.model_selection import GridSearchCV\n",
    "\n",
    "#Reusing the code from above to get the data and fit the model\n",
    "np.random.seed(9)\n",
    "X = heart_disease_shuffled.drop(\"target\", axis= 1)\n",
    "y = heart_disease_shuffled[\"target\"]\n",
    "X_train, X_test, y_train, y_test = train_test_split(X, y, test_size=0.2)\n",
    "\n",
    "clf = RandomForestClassifier(n_jobs=-1) \n",
    "\n",
    "#This needs to change slightly accoridng to the grid search\n",
    "gs_clf = GridSearchCV(estimator=clf,\n",
    "                            param_grid=grid_2,\n",
    "                            cv=5,\n",
    "                            verbose=2)\n",
    "\n",
    "gs_clf.fit(X_train, y_train);"
   ]
  },
  {
   "cell_type": "code",
   "execution_count": 77,
   "metadata": {},
   "outputs": [
    {
     "data": {
      "text/plain": [
       "{'max_depth': 10,\n",
       " 'max_features': 'auto',\n",
       " 'min_samples_leaf': 3,\n",
       " 'min_samples_split': 5,\n",
       " 'n_estimators': 1500}"
      ]
     },
     "execution_count": 77,
     "metadata": {},
     "output_type": "execute_result"
    }
   ],
   "source": [
    "#Get the best results\n",
    "gs_clf.best_params_"
   ]
  },
  {
   "cell_type": "code",
   "execution_count": 85,
   "metadata": {},
   "outputs": [
    {
     "name": "stdout",
     "output_type": "stream",
     "text": [
      "Accuracy: 77.05%\n",
      "Precision: 0.81.\n",
      "Recall: 0.71.\n",
      "F1 score: 0.76.\n"
     ]
    }
   ],
   "source": [
    "gs_y_preds = gs_clf.predict(X_test)\n",
    "\n",
    "#Evaluate the predictions\n",
    "gs_metrics = evaluate_preds(y_test, gs_y_preds)\n"
   ]
  },
  {
   "cell_type": "code",
   "execution_count": 91,
   "metadata": {},
   "outputs": [
    {
     "data": {
      "image/png": "[encoded data removed]",
      "text/plain": [
       "<Figure size 720x432 with 1 Axes>"
      ]
     },
     "metadata": {
      "needs_background": "light"
     },
     "output_type": "display_data"
    }
   ],
   "source": [
    "#Compare the different models metrics\n",
    "comp_metrics = pd.DataFrame({\"baseline\": baseline_metrics,\n",
    "                            \"clf_2\": clf_2_metrics,\n",
    "                            \"random search\": rs_metrics,\n",
    "                            \"grid search\": gs_metrics})\n",
    "\n",
    "comp_metrics.plot.bar(figsize=(10,6));"
   ]
  },
  {
   "cell_type": "markdown",
   "metadata": {},
   "source": [
    "### 6. Saving and loading the model"
   ]
  },
  {
   "cell_type": "code",
   "execution_count": 93,
   "metadata": {},
   "outputs": [],
   "source": [
    "#Two ways of saving and loading models:\n",
    "#1. With pythons pickle module\n",
    "#2. With the joblib module"
   ]
  },
  {
   "cell_type": "markdown",
   "metadata": {},
   "source": [
    "##### Pickle module"
   ]
  },
  {
   "cell_type": "code",
   "execution_count": 92,
   "metadata": {},
   "outputs": [],
   "source": [
    "#Import\n",
    "import pickle"
   ]
  },
  {
   "cell_type": "code",
   "execution_count": null,
   "metadata": {},
   "outputs": [],
   "source": [
    "#Save model\n",
    "pickle.dump(gs_clf, open(\"gs_random_forest_model_1.pkl\", \"wb\")) #wb for: write binary\n",
    "\n",
    "#Load model\n",
    "loaded_pickle_model = pickle.load(open(\"gs_random_forest_model_1.pkl\", \"rb\")) #rb for: read binary\n"
   ]
  },
  {
   "cell_type": "markdown",
   "metadata": {},
   "source": [
    "##### Joblib module"
   ]
  },
  {
   "cell_type": "code",
   "execution_count": 94,
   "metadata": {},
   "outputs": [],
   "source": [
    "#More efficient for larger models\n",
    "\n",
    "#Import\n",
    "from joblib import dump, load"
   ]
  },
  {
   "cell_type": "code",
   "execution_count": null,
   "metadata": {},
   "outputs": [],
   "source": [
    "#Save model to file\n",
    "dump(gs_clf, filenmae=\"gs_random_forest_model_2.joblib\")\n",
    "\n",
    "#Load models file\n",
    "loaded_job_model = load(filename=\"gs_random_random_forst_model_2.joblib\")"
   ]
  },
  {
   "cell_type": "markdown",
   "metadata": {},
   "source": [
    "### 7. Pipeline workflow"
   ]
  },
  {
   "cell_type": "markdown",
   "metadata": {},
   "source": [
    "#### Pipeline (building data for model)"
   ]
  },
  {
   "cell_type": "code",
   "execution_count": 97,
   "metadata": {},
   "outputs": [
    {
     "data": {
      "text/plain": [
       "(Make              object\n",
       " Colour            object\n",
       " Odometer (KM)    float64\n",
       " Doors            float64\n",
       " Price            float64\n",
       " dtype: object,\n",
       " Make             49\n",
       " Colour           50\n",
       " Odometer (KM)    50\n",
       " Doors            50\n",
       " Price            50\n",
       " dtype: int64)"
      ]
     },
     "execution_count": 97,
     "metadata": {},
     "output_type": "execute_result"
    }
   ],
   "source": [
    "#Importing and checking the data\n",
    "import pandas as pd\n",
    "data = pd.read_csv(\"../car-sales-extended-missing-data.csv\")\n",
    "data.dtypes, data.isna().sum()"
   ]
  },
  {
   "cell_type": "code",
   "execution_count": 102,
   "metadata": {},
   "outputs": [
    {
     "data": {
      "text/plain": [
       "0.32675658770525595"
      ]
     },
     "execution_count": 102,
     "metadata": {},
     "output_type": "execute_result"
    }
   ],
   "source": [
    "#Pipeline = Follows a list of steps, every step is a tuple with a name and actions.\n",
    "\n",
    "#Steps: Fill missing data, convert data to numbers, build a model\n",
    "\n",
    "#Getting data ready\n",
    "from sklearn.compose import ColumnTransformer\n",
    "from sklearn.pipeline import Pipeline\n",
    "from sklearn.impute import SimpleImputer\n",
    "from sklearn.preprocessing import OneHotEncoder\n",
    "\n",
    "#Modelling\n",
    "from sklearn.ensemble import RandomForestRegressor\n",
    "from sklearn.model_selection import train_test_split, GridSearchCV\n",
    "\n",
    "#Setup random seed\n",
    "import numpy as np\n",
    "np.random.seed(9)\n",
    "\n",
    "#Getting rid of missing target labels\n",
    "data.dropna(subset=[\"Price\"], inplace=True)\n",
    "\n",
    "#Define different features and transformer pipeline\n",
    "categorical_features = [\"Make\", \"Colour\"]\n",
    "categorical_transformer = Pipeline(steps=[\n",
    "                        (\"imputer\", SimpleImputer(strategy=\"constant\", fill_value=\"missing\")),\n",
    "                        (\"onehot\", OneHotEncoder(handle_unknown=\"ignore\"))])\n",
    "\n",
    "door_features = [\"Doors\"]\n",
    "door_transformer = Pipeline(steps=[\n",
    "                            (\"imputer\", SimpleImputer(strategy=\"constant\", fill_value=4))])\n",
    "\n",
    "numeric_features = [\"Odometer (KM)\"]\n",
    "numeric_transformer = Pipeline(steps=[\n",
    "                                (\"imputer\", SimpleImputer(strategy=\"mean\"))])\n",
    "\n",
    "#Setup preprocessing steps (fill missing values, then convert to numbers)\n",
    "preprocessor = ColumnTransformer(\n",
    "                                transformers=[\n",
    "                                    (\"cat\", categorical_transformer, categorical_features),\n",
    "                                    (\"door\", door_transformer, door_features),\n",
    "                                    (\"num\", numeric_transformer, numeric_features)])\n",
    "\n",
    "#Create a preprocessing and modelling pipeline\n",
    "model = Pipeline(steps=[(\"preprocessor\", preprocessor),\n",
    "                        (\"model\", RandomForestRegressor())])\n",
    "\n",
    "#Split data\n",
    "X = data.drop(\"Price\", axis= 1)\n",
    "y = data[\"Price\"]\n",
    "X_train, X_test, y_train, y_test = train_test_split(X, y, test_size=0.2)\n",
    "\n",
    "#Fit and score the model\n",
    "model.fit(X_train, y_train)\n",
    "model.score(X_test, y_test)"
   ]
  },
  {
   "cell_type": "markdown",
   "metadata": {},
   "source": [
    "#### Improving model with pipeline"
   ]
  },
  {
   "cell_type": "code",
   "execution_count": 107,
   "metadata": {},
   "outputs": [
    {
     "name": "stdout",
     "output_type": "stream",
     "text": [
      "Fitting 5 folds for each of 16 candidates, totalling 80 fits\n",
      "[CV] END model__max_depth=None, model__max_features=auto, model__min_samples_split=2, model__n_estimators=150, preprocessor__num__imputer__strategy=mean; total time=   1.2s\n",
      "[CV] END model__max_depth=None, model__max_features=auto, model__min_samples_split=2, model__n_estimators=150, preprocessor__num__imputer__strategy=mean; total time=   0.7s\n",
      "[CV] END model__max_depth=None, model__max_features=auto, model__min_samples_split=2, model__n_estimators=150, preprocessor__num__imputer__strategy=mean; total time=   0.8s\n",
      "[CV] END model__max_depth=None, model__max_features=auto, model__min_samples_split=2, model__n_estimators=150, preprocessor__num__imputer__strategy=mean; total time=   0.9s\n",
      "[CV] END model__max_depth=None, model__max_features=auto, model__min_samples_split=2, model__n_estimators=150, preprocessor__num__imputer__strategy=mean; total time=   1.1s\n",
      "[CV] END model__max_depth=None, model__max_features=auto, model__min_samples_split=2, model__n_estimators=150, preprocessor__num__imputer__strategy=median; total time=   1.0s\n",
      "[CV] END model__max_depth=None, model__max_features=auto, model__min_samples_split=2, model__n_estimators=150, preprocessor__num__imputer__strategy=median; total time=   1.0s\n",
      "[CV] END model__max_depth=None, model__max_features=auto, model__min_samples_split=2, model__n_estimators=150, preprocessor__num__imputer__strategy=median; total time=   0.9s\n",
      "[CV] END model__max_depth=None, model__max_features=auto, model__min_samples_split=2, model__n_estimators=150, preprocessor__num__imputer__strategy=median; total time=   0.9s\n",
      "[CV] END model__max_depth=None, model__max_features=auto, model__min_samples_split=2, model__n_estimators=150, preprocessor__num__imputer__strategy=median; total time=   1.0s\n",
      "[CV] END model__max_depth=None, model__max_features=auto, model__min_samples_split=2, model__n_estimators=1000, preprocessor__num__imputer__strategy=mean; total time=   5.5s\n",
      "[CV] END model__max_depth=None, model__max_features=auto, model__min_samples_split=2, model__n_estimators=1000, preprocessor__num__imputer__strategy=mean; total time=   4.9s\n",
      "[CV] END model__max_depth=None, model__max_features=auto, model__min_samples_split=2, model__n_estimators=1000, preprocessor__num__imputer__strategy=mean; total time=   3.6s\n",
      "[CV] END model__max_depth=None, model__max_features=auto, model__min_samples_split=2, model__n_estimators=1000, preprocessor__num__imputer__strategy=mean; total time=   3.7s\n",
      "[CV] END model__max_depth=None, model__max_features=auto, model__min_samples_split=2, model__n_estimators=1000, preprocessor__num__imputer__strategy=mean; total time=   3.7s\n",
      "[CV] END model__max_depth=None, model__max_features=auto, model__min_samples_split=2, model__n_estimators=1000, preprocessor__num__imputer__strategy=median; total time=   3.6s\n",
      "[CV] END model__max_depth=None, model__max_features=auto, model__min_samples_split=2, model__n_estimators=1000, preprocessor__num__imputer__strategy=median; total time=   3.8s\n",
      "[CV] END model__max_depth=None, model__max_features=auto, model__min_samples_split=2, model__n_estimators=1000, preprocessor__num__imputer__strategy=median; total time=   5.1s\n",
      "[CV] END model__max_depth=None, model__max_features=auto, model__min_samples_split=2, model__n_estimators=1000, preprocessor__num__imputer__strategy=median; total time=   7.7s\n",
      "[CV] END model__max_depth=None, model__max_features=auto, model__min_samples_split=2, model__n_estimators=1000, preprocessor__num__imputer__strategy=median; total time=   4.8s\n",
      "[CV] END model__max_depth=None, model__max_features=auto, model__min_samples_split=4, model__n_estimators=150, preprocessor__num__imputer__strategy=mean; total time=   0.6s\n",
      "[CV] END model__max_depth=None, model__max_features=auto, model__min_samples_split=4, model__n_estimators=150, preprocessor__num__imputer__strategy=mean; total time=   0.6s\n",
      "[CV] END model__max_depth=None, model__max_features=auto, model__min_samples_split=4, model__n_estimators=150, preprocessor__num__imputer__strategy=mean; total time=   0.7s\n",
      "[CV] END model__max_depth=None, model__max_features=auto, model__min_samples_split=4, model__n_estimators=150, preprocessor__num__imputer__strategy=mean; total time=   0.9s\n",
      "[CV] END model__max_depth=None, model__max_features=auto, model__min_samples_split=4, model__n_estimators=150, preprocessor__num__imputer__strategy=mean; total time=   0.9s\n",
      "[CV] END model__max_depth=None, model__max_features=auto, model__min_samples_split=4, model__n_estimators=150, preprocessor__num__imputer__strategy=median; total time=   0.7s\n",
      "[CV] END model__max_depth=None, model__max_features=auto, model__min_samples_split=4, model__n_estimators=150, preprocessor__num__imputer__strategy=median; total time=   0.7s\n",
      "[CV] END model__max_depth=None, model__max_features=auto, model__min_samples_split=4, model__n_estimators=150, preprocessor__num__imputer__strategy=median; total time=   0.7s\n",
      "[CV] END model__max_depth=None, model__max_features=auto, model__min_samples_split=4, model__n_estimators=150, preprocessor__num__imputer__strategy=median; total time=   0.6s\n",
      "[CV] END model__max_depth=None, model__max_features=auto, model__min_samples_split=4, model__n_estimators=150, preprocessor__num__imputer__strategy=median; total time=   0.7s\n",
      "[CV] END model__max_depth=None, model__max_features=auto, model__min_samples_split=4, model__n_estimators=1000, preprocessor__num__imputer__strategy=mean; total time=   3.9s\n",
      "[CV] END model__max_depth=None, model__max_features=auto, model__min_samples_split=4, model__n_estimators=1000, preprocessor__num__imputer__strategy=mean; total time=   3.6s\n",
      "[CV] END model__max_depth=None, model__max_features=auto, model__min_samples_split=4, model__n_estimators=1000, preprocessor__num__imputer__strategy=mean; total time=   9.5s\n",
      "[CV] END model__max_depth=None, model__max_features=auto, model__min_samples_split=4, model__n_estimators=1000, preprocessor__num__imputer__strategy=mean; total time=   6.1s\n",
      "[CV] END model__max_depth=None, model__max_features=auto, model__min_samples_split=4, model__n_estimators=1000, preprocessor__num__imputer__strategy=mean; total time=   6.2s\n",
      "[CV] END model__max_depth=None, model__max_features=auto, model__min_samples_split=4, model__n_estimators=1000, preprocessor__num__imputer__strategy=median; total time=   5.0s\n",
      "[CV] END model__max_depth=None, model__max_features=auto, model__min_samples_split=4, model__n_estimators=1000, preprocessor__num__imputer__strategy=median; total time=   3.5s\n",
      "[CV] END model__max_depth=None, model__max_features=auto, model__min_samples_split=4, model__n_estimators=1000, preprocessor__num__imputer__strategy=median; total time=   2.6s\n",
      "[CV] END model__max_depth=None, model__max_features=auto, model__min_samples_split=4, model__n_estimators=1000, preprocessor__num__imputer__strategy=median; total time=   2.6s\n",
      "[CV] END model__max_depth=None, model__max_features=auto, model__min_samples_split=4, model__n_estimators=1000, preprocessor__num__imputer__strategy=median; total time=   2.6s\n",
      "[CV] END model__max_depth=5, model__max_features=auto, model__min_samples_split=2, model__n_estimators=150, preprocessor__num__imputer__strategy=mean; total time=   0.2s\n",
      "[CV] END model__max_depth=5, model__max_features=auto, model__min_samples_split=2, model__n_estimators=150, preprocessor__num__imputer__strategy=mean; total time=   0.2s\n",
      "[CV] END model__max_depth=5, model__max_features=auto, model__min_samples_split=2, model__n_estimators=150, preprocessor__num__imputer__strategy=mean; total time=   0.3s\n",
      "[CV] END model__max_depth=5, model__max_features=auto, model__min_samples_split=2, model__n_estimators=150, preprocessor__num__imputer__strategy=mean; total time=   0.2s\n",
      "[CV] END model__max_depth=5, model__max_features=auto, model__min_samples_split=2, model__n_estimators=150, preprocessor__num__imputer__strategy=mean; total time=   0.3s\n",
      "[CV] END model__max_depth=5, model__max_features=auto, model__min_samples_split=2, model__n_estimators=150, preprocessor__num__imputer__strategy=median; total time=   0.2s\n",
      "[CV] END model__max_depth=5, model__max_features=auto, model__min_samples_split=2, model__n_estimators=150, preprocessor__num__imputer__strategy=median; total time=   0.2s\n",
      "[CV] END model__max_depth=5, model__max_features=auto, model__min_samples_split=2, model__n_estimators=150, preprocessor__num__imputer__strategy=median; total time=   0.2s\n",
      "[CV] END model__max_depth=5, model__max_features=auto, model__min_samples_split=2, model__n_estimators=150, preprocessor__num__imputer__strategy=median; total time=   0.2s\n",
      "[CV] END model__max_depth=5, model__max_features=auto, model__min_samples_split=2, model__n_estimators=150, preprocessor__num__imputer__strategy=median; total time=   0.2s\n",
      "[CV] END model__max_depth=5, model__max_features=auto, model__min_samples_split=2, model__n_estimators=1000, preprocessor__num__imputer__strategy=mean; total time=   1.9s\n",
      "[CV] END model__max_depth=5, model__max_features=auto, model__min_samples_split=2, model__n_estimators=1000, preprocessor__num__imputer__strategy=mean; total time=   1.8s\n",
      "[CV] END model__max_depth=5, model__max_features=auto, model__min_samples_split=2, model__n_estimators=1000, preprocessor__num__imputer__strategy=mean; total time=   1.9s\n",
      "[CV] END model__max_depth=5, model__max_features=auto, model__min_samples_split=2, model__n_estimators=1000, preprocessor__num__imputer__strategy=mean; total time=   1.8s\n",
      "[CV] END model__max_depth=5, model__max_features=auto, model__min_samples_split=2, model__n_estimators=1000, preprocessor__num__imputer__strategy=mean; total time=   1.9s\n",
      "[CV] END model__max_depth=5, model__max_features=auto, model__min_samples_split=2, model__n_estimators=1000, preprocessor__num__imputer__strategy=median; total time=   1.9s\n",
      "[CV] END model__max_depth=5, model__max_features=auto, model__min_samples_split=2, model__n_estimators=1000, preprocessor__num__imputer__strategy=median; total time=   1.8s\n",
      "[CV] END model__max_depth=5, model__max_features=auto, model__min_samples_split=2, model__n_estimators=1000, preprocessor__num__imputer__strategy=median; total time=   1.9s\n",
      "[CV] END model__max_depth=5, model__max_features=auto, model__min_samples_split=2, model__n_estimators=1000, preprocessor__num__imputer__strategy=median; total time=   1.8s\n",
      "[CV] END model__max_depth=5, model__max_features=auto, model__min_samples_split=2, model__n_estimators=1000, preprocessor__num__imputer__strategy=median; total time=   1.9s\n",
      "[CV] END model__max_depth=5, model__max_features=auto, model__min_samples_split=4, model__n_estimators=150, preprocessor__num__imputer__strategy=mean; total time=   0.2s\n",
      "[CV] END model__max_depth=5, model__max_features=auto, model__min_samples_split=4, model__n_estimators=150, preprocessor__num__imputer__strategy=mean; total time=   0.3s\n",
      "[CV] END model__max_depth=5, model__max_features=auto, model__min_samples_split=4, model__n_estimators=150, preprocessor__num__imputer__strategy=mean; total time=   0.2s\n",
      "[CV] END model__max_depth=5, model__max_features=auto, model__min_samples_split=4, model__n_estimators=150, preprocessor__num__imputer__strategy=mean; total time=   0.2s\n",
      "[CV] END model__max_depth=5, model__max_features=auto, model__min_samples_split=4, model__n_estimators=150, preprocessor__num__imputer__strategy=mean; total time=   0.2s\n",
      "[CV] END model__max_depth=5, model__max_features=auto, model__min_samples_split=4, model__n_estimators=150, preprocessor__num__imputer__strategy=median; total time=   0.2s\n",
      "[CV] END model__max_depth=5, model__max_features=auto, model__min_samples_split=4, model__n_estimators=150, preprocessor__num__imputer__strategy=median; total time=   0.2s\n",
      "[CV] END model__max_depth=5, model__max_features=auto, model__min_samples_split=4, model__n_estimators=150, preprocessor__num__imputer__strategy=median; total time=   0.2s\n",
      "[CV] END model__max_depth=5, model__max_features=auto, model__min_samples_split=4, model__n_estimators=150, preprocessor__num__imputer__strategy=median; total time=   0.2s\n",
      "[CV] END model__max_depth=5, model__max_features=auto, model__min_samples_split=4, model__n_estimators=150, preprocessor__num__imputer__strategy=median; total time=   0.2s\n",
      "[CV] END model__max_depth=5, model__max_features=auto, model__min_samples_split=4, model__n_estimators=1000, preprocessor__num__imputer__strategy=mean; total time=   2.0s\n",
      "[CV] END model__max_depth=5, model__max_features=auto, model__min_samples_split=4, model__n_estimators=1000, preprocessor__num__imputer__strategy=mean; total time=   1.8s\n",
      "[CV] END model__max_depth=5, model__max_features=auto, model__min_samples_split=4, model__n_estimators=1000, preprocessor__num__imputer__strategy=mean; total time=   1.9s\n",
      "[CV] END model__max_depth=5, model__max_features=auto, model__min_samples_split=4, model__n_estimators=1000, preprocessor__num__imputer__strategy=mean; total time=   2.5s\n",
      "[CV] END model__max_depth=5, model__max_features=auto, model__min_samples_split=4, model__n_estimators=1000, preprocessor__num__imputer__strategy=mean; total time=   1.9s\n",
      "[CV] END model__max_depth=5, model__max_features=auto, model__min_samples_split=4, model__n_estimators=1000, preprocessor__num__imputer__strategy=median; total time=   2.0s\n",
      "[CV] END model__max_depth=5, model__max_features=auto, model__min_samples_split=4, model__n_estimators=1000, preprocessor__num__imputer__strategy=median; total time=   1.8s\n",
      "[CV] END model__max_depth=5, model__max_features=auto, model__min_samples_split=4, model__n_estimators=1000, preprocessor__num__imputer__strategy=median; total time=   1.9s\n",
      "[CV] END model__max_depth=5, model__max_features=auto, model__min_samples_split=4, model__n_estimators=1000, preprocessor__num__imputer__strategy=median; total time=   1.8s\n",
      "[CV] END model__max_depth=5, model__max_features=auto, model__min_samples_split=4, model__n_estimators=1000, preprocessor__num__imputer__strategy=median; total time=   1.9s\n"
     ]
    },
    {
     "data": {
      "text/plain": [
       "GridSearchCV(cv=5,\n",
       "             estimator=Pipeline(steps=[('preprocessor',\n",
       "                                        ColumnTransformer(transformers=[('cat',\n",
       "                                                                         Pipeline(steps=[('imputer',\n",
       "                                                                                          SimpleImputer(fill_value='missing',\n",
       "                                                                                                        strategy='constant')),\n",
       "                                                                                         ('onehot',\n",
       "                                                                                          OneHotEncoder(handle_unknown='ignore'))]),\n",
       "                                                                         ['Make',\n",
       "                                                                          'Colour']),\n",
       "                                                                        ('door',\n",
       "                                                                         Pipeline(steps=[('imputer',\n",
       "                                                                                          SimpleImputer(fill_value=4,\n",
       "                                                                                                        strategy='constant'))]),\n",
       "                                                                         ['Doors']),\n",
       "                                                                        ('num',\n",
       "                                                                         Pipeline(steps=[('imputer',\n",
       "                                                                                          SimpleImputer())]),\n",
       "                                                                         ['Odometer '\n",
       "                                                                          '(KM)'])])),\n",
       "                                       ('model', RandomForestRegressor())]),\n",
       "             param_grid={'model__max_depth': [None, 5],\n",
       "                         'model__max_features': ['auto'],\n",
       "                         'model__min_samples_split': [2, 4],\n",
       "                         'model__n_estimators': [150, 1000],\n",
       "                         'preprocessor__num__imputer__strategy': ['mean',\n",
       "                                                                  'median']},\n",
       "             verbose=2)"
      ]
     },
     "execution_count": 107,
     "metadata": {},
     "output_type": "execute_result"
    }
   ],
   "source": [
    "#Using GridSearchCV with our regression Pipeline\n",
    "from sklearn.model_selection import GridSearchCV\n",
    "\n",
    "pipe_grid = {\n",
    "    \"preprocessor__num__imputer__strategy\": [\"mean\", \"median\"],\n",
    "    \"model__n_estimators\": [150,1000],\n",
    "    \"model__max_depth\": [None, 5],\n",
    "    \"model__max_features\": [\"auto\"],\n",
    "    \"model__min_samples_split\": [2, 4]\n",
    "}\n",
    "\n",
    "#Uses the names of the pipelines above\n",
    "#This excesses: The strategy of the attribute imputer of the num step in the preprocessor.\n",
    "#And changes the mean to median\n",
    "#The amount of underscores reflects the amount of steps to go back\n",
    "\n",
    "gs_model = GridSearchCV(model, pipe_grid, cv=5, verbose=2)\n",
    "gs_model.fit(X_train, y_train)"
   ]
  },
  {
   "cell_type": "code",
   "execution_count": 108,
   "metadata": {},
   "outputs": [
    {
     "data": {
      "text/plain": [
       "0.401120388736638"
      ]
     },
     "execution_count": 108,
     "metadata": {},
     "output_type": "execute_result"
    }
   ],
   "source": [
    "gs_model.score(X_test, y_test)"
   ]
  }
 ],
 "metadata": {
  "interpreter": {
   "hash": "796abcebddf95ce5efce941183e7b441ff687eee87794f9feab7a056a8390717"
  },
  "kernelspec": {
   "display_name": "Python 3.9.7 64-bit ('kitsu-katsu': conda)",
   "language": "python",
   "name": "python3"
  },
  "language_info": {
   "codemirror_mode": {
    "name": "ipython",
    "version": 3
   },
   "file_extension": ".py",
   "mimetype": "text/x-python",
   "name": "python",
   "nbconvert_exporter": "python",
   "pygments_lexer": "ipython3",
   "version": "3.9.7"
  },
  "orig_nbformat": 4
 },
 "nbformat": 4,
 "nbformat_minor": 2
}

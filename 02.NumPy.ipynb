{
 "cells": [
  {
   "cell_type": "markdown",
   "metadata": {},
   "source": [
    "## NumPy"
   ]
  },
  {
   "cell_type": "code",
   "execution_count": 1,
   "metadata": {},
   "outputs": [],
   "source": [
    "import numpy as np"
   ]
  },
  {
   "cell_type": "markdown",
   "metadata": {},
   "source": [
    "### Arrays, matrix and dimensions"
   ]
  },
  {
   "cell_type": "code",
   "execution_count": 11,
   "metadata": {},
   "outputs": [
    {
     "name": "stdout",
     "output_type": "stream",
     "text": [
      "[1 2 3]\n",
      "(3,)\n"
     ]
    }
   ],
   "source": [
    "#The most common datatype is a ndarray\n",
    "sample_array = np.array([1, 2, 3])\n",
    "\n",
    "print(sample_array)\n",
    "\n",
    "#This shows how many axis and dimensions it has\n",
    "print(sample_array.shape)"
   ]
  },
  {
   "cell_type": "code",
   "execution_count": 12,
   "metadata": {},
   "outputs": [
    {
     "name": "stdout",
     "output_type": "stream",
     "text": [
      "[[1.  2.  3.3]\n",
      " [4.  5.  6.6]]\n",
      "(2, 3)\n"
     ]
    }
   ],
   "source": [
    "#A matrix array\n",
    "a2 = np.array([[1, 2.0, 3.3], [4, 5, 6.6]])\n",
    "print(a2)\n",
    "\n",
    "#This shows hom many axis and dimensions it has\n",
    "print(a2.shape)\n",
    "\n",
    "#It has 2 rows (axis=0)\n",
    "#It has 3 columns (axis=1)"
   ]
  },
  {
   "cell_type": "code",
   "execution_count": 16,
   "metadata": {},
   "outputs": [
    {
     "name": "stdout",
     "output_type": "stream",
     "text": [
      "[[[ 1  2  3]\n",
      "  [ 4  5  6]\n",
      "  [ 7  8  9]]\n",
      "\n",
      " [[10 11 12]\n",
      "  [13 14 15]\n",
      "  [16 17 18]]]\n",
      "(2, 3, 3)\n"
     ]
    }
   ],
   "source": [
    "#A larger matrix array\n",
    "a3 = np.array ([[[1, 2, 3], [4, 5, 6], [7, 8, 9]],[[10, 11, 12],[13, 14, 15], [16, 17, 18]]])\n",
    "print(a3)\n",
    "\n",
    "print(a3.shape)\n",
    "#2 rows\n",
    "#3 columns\n",
    "#3 dimensions"
   ]
  },
  {
   "cell_type": "markdown",
   "metadata": {},
   "source": [
    "### Viewing; dimensions, elements and dataypes"
   ]
  },
  {
   "cell_type": "code",
   "execution_count": 18,
   "metadata": {},
   "outputs": [
    {
     "name": "stdout",
     "output_type": "stream",
     "text": [
      "3\n",
      "18\n",
      "int32\n",
      "<class 'numpy.ndarray'>\n"
     ]
    }
   ],
   "source": [
    "#Show the number of dimensions\n",
    "print(a3.ndim)\n",
    "\n",
    "#Show the size or elements\n",
    "print(a3.size)\n",
    "\n",
    "#Show the datatype\n",
    "print(a3.dtype)\n",
    "\n",
    "#show the type\n",
    "print(type(a3))"
   ]
  },
  {
   "cell_type": "markdown",
   "metadata": {},
   "source": [
    "### Creating; dataframes and different arrays"
   ]
  },
  {
   "cell_type": "markdown",
   "metadata": {},
   "source": [
    "#### Creating a dataframe out of arrays"
   ]
  },
  {
   "cell_type": "code",
   "execution_count": 19,
   "metadata": {},
   "outputs": [
    {
     "name": "stdout",
     "output_type": "stream",
     "text": [
      "     0    1    2\n",
      "0  1.0  2.0  3.3\n",
      "1  4.0  5.0  6.6\n"
     ]
    }
   ],
   "source": [
    "#Representing numpy arrays into dataframes\n",
    "import pandas as pd\n",
    "df = pd.DataFrame(a2)\n",
    "print(df)\n",
    "\n",
    "#You cannot do this with more than two dimensions"
   ]
  },
  {
   "cell_type": "markdown",
   "metadata": {},
   "source": [
    "#### Numpy arrays; shape, one variable and range"
   ]
  },
  {
   "cell_type": "code",
   "execution_count": 22,
   "metadata": {},
   "outputs": [
    {
     "name": "stdout",
     "output_type": "stream",
     "text": [
      "[[1. 1. 1.]\n",
      " [1. 1. 1.]]\n"
     ]
    }
   ],
   "source": [
    "#Create a ndarray filled with ones\n",
    "ones = np.ones((2, 3), dtype=float)\n",
    "\n",
    "#Dtypes dont have to be filled in\n",
    "print(ones)\n",
    "\n",
    "#This also works with .zeros"
   ]
  },
  {
   "cell_type": "code",
   "execution_count": 23,
   "metadata": {},
   "outputs": [
    {
     "name": "stdout",
     "output_type": "stream",
     "text": [
      "[0 1 2 3 4 5 6 7 8 9]\n"
     ]
    }
   ],
   "source": [
    "#Make a ndarray with a start, stop and steps\n",
    "range_array = np.arange(0, 10, 1)\n",
    "print(range_array)"
   ]
  },
  {
   "cell_type": "markdown",
   "metadata": {},
   "source": [
    "### Creating (psuedo) random arrays"
   ]
  },
  {
   "cell_type": "markdown",
   "metadata": {},
   "source": [
    "#### Different ways of random arrays"
   ]
  },
  {
   "cell_type": "code",
   "execution_count": 48,
   "metadata": {},
   "outputs": [
    {
     "name": "stdout",
     "output_type": "stream",
     "text": [
      "[[6 7 7 8 1]\n",
      " [5 9 8 9 4]\n",
      " [3 0 3 5 0]]\n",
      "--------\n",
      "[[0.97861834 0.79915856 0.46147936]\n",
      " [0.78052918 0.11827443 0.63992102]\n",
      " [0.14335329 0.94466892 0.52184832]\n",
      " [0.41466194 0.26455561 0.77423369]\n",
      " [0.45615033 0.56843395 0.0187898 ]]\n",
      "--------\n",
      "[[0.6176355  0.61209572]\n",
      " [0.616934   0.94374808]\n",
      " [0.6818203  0.3595079 ]\n",
      " [0.43703195 0.6976312 ]]\n"
     ]
    }
   ],
   "source": [
    "#Create a random ndarray with lowest value, highest value and size\n",
    "random_array = np.random.randint(0, 10, size=(3,5))\n",
    "\n",
    "print(random_array)\n",
    "\n",
    "#Create random array between 0.0 and 1.0\n",
    "random_array_2 = np.random.random((5, 3))\n",
    "\n",
    "print(\"--------\")\n",
    "print(random_array_2)\n",
    "\n",
    "#Different method of creating random arrays\n",
    "random_array_3 = np.random.rand(4, 2)\n",
    "\n",
    "print(\"--------\")\n",
    "print(random_array_3)"
   ]
  },
  {
   "cell_type": "markdown",
   "metadata": {},
   "source": [
    "#### Aligning psuedo random number with a seed"
   ]
  },
  {
   "cell_type": "code",
   "execution_count": 35,
   "metadata": {},
   "outputs": [
    {
     "name": "stdout",
     "output_type": "stream",
     "text": [
      "[[5 0 3]\n",
      " [3 7 9]\n",
      " [3 5 2]\n",
      " [4 7 6]\n",
      " [8 8 1]]\n"
     ]
    }
   ],
   "source": [
    "\n",
    "#Create random numbers but keep them aligned\n",
    "np.random.seed(0)\n",
    "random_array_4 = np.random.randint(10, size=(5, 3))\n",
    "\n",
    "#You can type in everything for the seed, make sure it is in the beginning of the code.\n",
    "#When you use seed=0 and than seed=1 and back to seed=0, the randomized number are the same again for 0"
   ]
  },
  {
   "cell_type": "markdown",
   "metadata": {},
   "source": [
    "### Viewing; specific elements, dimensions and slicing"
   ]
  },
  {
   "cell_type": "markdown",
   "metadata": {},
   "source": [
    "#### Unique and specific elements"
   ]
  },
  {
   "cell_type": "code",
   "execution_count": 36,
   "metadata": {},
   "outputs": [
    {
     "data": {
      "text/plain": [
       "array([0, 1, 2, 3, 4, 5, 6, 7, 8, 9])"
      ]
     },
     "execution_count": 36,
     "metadata": {},
     "output_type": "execute_result"
    }
   ],
   "source": [
    "#Find the unique elements of an array\n",
    "np.unique(random_array_4)\n"
   ]
  },
  {
   "cell_type": "code",
   "execution_count": 1,
   "metadata": {},
   "outputs": [
    {
     "ename": "NameError",
     "evalue": "name 'a3' is not defined",
     "output_type": "error",
     "traceback": [
      "\u001b[1;31m---------------------------------------------------------------------------\u001b[0m",
      "\u001b[1;31mNameError\u001b[0m                                 Traceback (most recent call last)",
      "\u001b[1;32m~\\AppData\\Local\\Temp/ipykernel_19852/2425885564.py\u001b[0m in \u001b[0;36m<module>\u001b[1;34m\u001b[0m\n\u001b[0;32m      1\u001b[0m \u001b[1;31m#View a specific element in an array\u001b[0m\u001b[1;33m\u001b[0m\u001b[1;33m\u001b[0m\u001b[0m\n\u001b[1;32m----> 2\u001b[1;33m \u001b[0mindexing\u001b[0m \u001b[1;33m=\u001b[0m \u001b[0ma3\u001b[0m\u001b[1;33m[\u001b[0m\u001b[1;36m1\u001b[0m\u001b[1;33m]\u001b[0m\u001b[1;33m\u001b[0m\u001b[1;33m\u001b[0m\u001b[0m\n\u001b[0m\u001b[0;32m      3\u001b[0m \u001b[1;33m\u001b[0m\u001b[0m\n\u001b[0;32m      4\u001b[0m \u001b[1;31m#This is showing the row of the index 1 (second row)\u001b[0m\u001b[1;33m\u001b[0m\u001b[1;33m\u001b[0m\u001b[0m\n\u001b[0;32m      5\u001b[0m \u001b[1;31m#Dont forget that an index starts with 0\u001b[0m\u001b[1;33m\u001b[0m\u001b[1;33m\u001b[0m\u001b[0m\n",
      "\u001b[1;31mNameError\u001b[0m: name 'a3' is not defined"
     ]
    }
   ],
   "source": [
    "#View a specific element in an array\n",
    "indexing = a3[1]\n",
    "\n",
    "#This is showing the row of the index 1 (second row)\n",
    "#Dont forget that an index starts with 0\n",
    "\n",
    "print(a3)\n",
    "print(\"---\")\n",
    "print(indexing)\n",
    "\n",
    "#When there are more dimensions, the index shows the third dimension instead of the row"
   ]
  },
  {
   "cell_type": "markdown",
   "metadata": {},
   "source": [
    "#### Dimensions"
   ]
  },
  {
   "cell_type": "code",
   "execution_count": 60,
   "metadata": {},
   "outputs": [
    {
     "name": "stdout",
     "output_type": "stream",
     "text": [
      "[[[[3 2 3 6 3]\n",
      "   [6 5 7 0 8]\n",
      "   [4 6 5 8 2]\n",
      "   [3 9 7 5 3]]\n",
      "\n",
      "  [[4 5 3 3 7]\n",
      "   [9 9 9 7 3]\n",
      "   [2 3 9 7 7]\n",
      "   [5 1 2 2 8]]]\n",
      "\n",
      "\n",
      " [[[1 5 8 4 0]\n",
      "   [2 5 5 0 8]\n",
      "   [1 1 0 3 8]\n",
      "   [8 4 4 0 9]]\n",
      "\n",
      "  [[3 7 3 2 1]\n",
      "   [1 2 1 4 2]\n",
      "   [5 5 5 2 5]\n",
      "   [7 7 6 1 6]]]]\n"
     ]
    }
   ],
   "source": [
    "a4 = np.random.randint(10, size=(2, 2, 4, 5))\n",
    "print(a4)\n",
    "\n",
    "#Fourth dimension = 2 (the table is made twice)\n",
    "#Thrid dimension = 2 (there are two tables)\n",
    "#Second dimension = 4 (four rows)\n",
    "#First dimesion = 5 (five columns) also called inner most array"
   ]
  },
  {
   "cell_type": "markdown",
   "metadata": {},
   "source": [
    "#### Slicing"
   ]
  },
  {
   "cell_type": "code",
   "execution_count": 65,
   "metadata": {},
   "outputs": [
    {
     "name": "stdout",
     "output_type": "stream",
     "text": [
      "[[[[3 2 3 6]\n",
      "   [6 5 7 0]\n",
      "   [4 6 5 8]]\n",
      "\n",
      "  [[4 5 3 3]\n",
      "   [9 9 9 7]\n",
      "   [2 3 9 7]]]\n",
      "\n",
      "\n",
      " [[[1 5 8 4]\n",
      "   [2 5 5 0]\n",
      "   [1 1 0 3]]\n",
      "\n",
      "  [[3 7 3 2]\n",
      "   [1 2 1 4]\n",
      "   [5 5 5 2]]]]\n"
     ]
    }
   ],
   "source": [
    "#Slicing the index\n",
    "slicing = a4[:, :2, :3, :4]\n",
    "\n",
    "#None tables in the four dimension (means all)\n",
    "#2 tables within the fourth dimension\n",
    "#3 rows\n",
    "#4 columns\n",
    "\n",
    "print(slicing)"
   ]
  },
  {
   "cell_type": "markdown",
   "metadata": {},
   "source": [
    "### Manipulating arrays; arithmetic and statistics"
   ]
  },
  {
   "cell_type": "code",
   "execution_count": null,
   "metadata": {},
   "outputs": [],
   "source": [
    "#Use numpy functions on numpy arrays, and pythong functions on the rest"
   ]
  },
  {
   "cell_type": "markdown",
   "metadata": {},
   "source": [
    "#### Arithmetics"
   ]
  },
  {
   "cell_type": "code",
   "execution_count": 69,
   "metadata": {},
   "outputs": [
    {
     "data": {
      "text/plain": [
       "array([[2., 3., 4.],\n",
       "       [2., 3., 4.]])"
      ]
     },
     "execution_count": 69,
     "metadata": {},
     "output_type": "execute_result"
    }
   ],
   "source": [
    "#Arithmetic = basic math functions\n",
    "\n",
    "#Combining arrays\n",
    "sample_array + ones\n",
    "\n",
    "#Also possible with -, *, /, // (rounds down), ** (square)\n",
    "#They need to have compatible shapes, this makes numpy capible of broadcasting the arrays (using the arrays in arithmetic)\n",
    "\n",
    "#Also possible with np.add, .mod (return remainder of devision(%)), .square, .exp, .log"
   ]
  },
  {
   "cell_type": "code",
   "execution_count": null,
   "metadata": {},
   "outputs": [],
   "source": [
    "#You can also compare variables inside two arrays with >, < and ==\n",
    "#The outcome equals True or False depending on if the variable inside the array equals the statement\n",
    "#Only possible if the arrays have the same size"
   ]
  },
  {
   "cell_type": "markdown",
   "metadata": {},
   "source": [
    "#### Statistics"
   ]
  },
  {
   "cell_type": "code",
   "execution_count": null,
   "metadata": {},
   "outputs": [],
   "source": [
    "#Aggregation = performing the same operation on an array\n",
    "#You can also use np.std for standard deviation\n"
   ]
  },
  {
   "cell_type": "code",
   "execution_count": 73,
   "metadata": {},
   "outputs": [
    {
     "data": {
      "text/plain": [
       "(4296133.472222221, 7.916666666666667)"
      ]
     },
     "execution_count": 73,
     "metadata": {},
     "output_type": "execute_result"
    }
   ],
   "source": [
    "#Variance (np.var) = average difference between number and mean\n",
    "high_var_array = np.array([1, 100, 200, 300, 4000, 5000])\n",
    "low_var_array = np.array([2, 3, 4, 6, 8, 10])\n",
    "\n",
    "np.var(high_var_array), np.var(low_var_array)\n",
    "#The higher the variance the bigger the difference between values"
   ]
  },
  {
   "cell_type": "code",
   "execution_count": 74,
   "metadata": {},
   "outputs": [
    {
     "data": {
      "text/plain": [
       "(2072.711623024829, 2.8136571693556887)"
      ]
     },
     "execution_count": 74,
     "metadata": {},
     "output_type": "execute_result"
    }
   ],
   "source": [
    "np.std(high_var_array), np.std(low_var_array)\n",
    "#The higher the standard deviation the bigger the difference between values"
   ]
  },
  {
   "cell_type": "code",
   "execution_count": 76,
   "metadata": {},
   "outputs": [],
   "source": [
    "#Import to plot\n",
    "%matplotlib inline\n",
    "import matplotlib.pyplot as plt\n"
   ]
  },
  {
   "cell_type": "code",
   "execution_count": 78,
   "metadata": {},
   "outputs": [
    {
     "data": {
      "image/png": "[encoded data removed]",
      "text/plain": [
       "<Figure size 432x288 with 1 Axes>"
      ]
     },
     "metadata": {
      "needs_background": "light"
     },
     "output_type": "display_data"
    }
   ],
   "source": [
    "#Plotting\n",
    "plt.hist(high_var_array)\n",
    "plt.show() #Makes it look cleaner"
   ]
  },
  {
   "cell_type": "markdown",
   "metadata": {},
   "source": [
    "### Reshaping, resizing and tranposing"
   ]
  },
  {
   "cell_type": "markdown",
   "metadata": {},
   "source": [
    "#### Reshaping and resizing"
   ]
  },
  {
   "cell_type": "code",
   "execution_count": 80,
   "metadata": {},
   "outputs": [
    {
     "name": "stdout",
     "output_type": "stream",
     "text": [
      "[[1.  2.  3.3]\n",
      " [4.  5.  6.6]]\n",
      "---\n",
      "[[[ 1  2  3]\n",
      "  [ 4  5  6]\n",
      "  [ 7  8  9]]\n",
      "\n",
      " [[10 11 12]\n",
      "  [13 14 15]\n",
      "  [16 17 18]]]\n",
      "(2, 3)\n",
      "(2, 3, 3)\n"
     ]
    }
   ],
   "source": [
    "#Difference in shape\n",
    "print(a2)\n",
    "print(\"---\")\n",
    "print(a3)\n",
    "\n",
    "print(a2.shape)\n",
    "print(a3.shape)\n"
   ]
  },
  {
   "cell_type": "code",
   "execution_count": 85,
   "metadata": {},
   "outputs": [
    {
     "name": "stdout",
     "output_type": "stream",
     "text": [
      "[[[1. ]\n",
      "  [2. ]\n",
      "  [3.3]]\n",
      "\n",
      " [[4. ]\n",
      "  [5. ]\n",
      "  [6.6]]]\n"
     ]
    }
   ],
   "source": [
    "#How to reshape array\n",
    "a2_reshaped = a2.reshape(2, 3, 1)\n",
    "\n",
    "#This adds a dimension\n",
    "#Instead of 2 rows and 3 columns\n",
    "#It is dividing them into two, adding an extra table\n",
    "#The columns become rows and the rows become the amount of tables in the fourth dimension\n",
    "\n",
    "print(a2_reshaped)"
   ]
  },
  {
   "cell_type": "code",
   "execution_count": null,
   "metadata": {},
   "outputs": [],
   "source": [
    "#How to resize an array\n",
    "np.resize(array, (3, 2))"
   ]
  },
  {
   "cell_type": "markdown",
   "metadata": {},
   "source": [
    "#### Transpose"
   ]
  },
  {
   "cell_type": "code",
   "execution_count": 114,
   "metadata": {},
   "outputs": [
    {
     "name": "stdout",
     "output_type": "stream",
     "text": [
      "[[[ 1  2  3]\n",
      "  [ 4  5  6]\n",
      "  [ 7  8  9]]\n",
      "\n",
      " [[10 11 12]\n",
      "  [13 14 15]\n",
      "  [16 17 18]]]\n",
      "---\n",
      "[[[ 1 10]\n",
      "  [ 4 13]\n",
      "  [ 7 16]]\n",
      "\n",
      " [[ 2 11]\n",
      "  [ 5 14]\n",
      "  [ 8 17]]\n",
      "\n",
      " [[ 3 12]\n",
      "  [ 6 15]\n",
      "  [ 9 18]]]\n",
      "(2, 3, 3)\n",
      "(3, 3, 2)\n"
     ]
    }
   ],
   "source": [
    "#Transpose reshapes the dimensions\n",
    "print(a3)\n",
    "print(\"---\")\n",
    "print(a3.T)\n",
    "print(a3.shape)\n",
    "print(a3.T.shape)"
   ]
  },
  {
   "cell_type": "markdown",
   "metadata": {},
   "source": [
    "### Find patterns with dot product"
   ]
  },
  {
   "cell_type": "markdown",
   "metadata": {},
   "source": [
    "#### Using dot product"
   ]
  },
  {
   "cell_type": "code",
   "execution_count": 90,
   "metadata": {},
   "outputs": [
    {
     "name": "stdout",
     "output_type": "stream",
     "text": [
      "[[8 4 7]\n",
      " [0 4 9]\n",
      " [0 6 4]\n",
      " [2 4 6]\n",
      " [3 3 7]]\n",
      "---\n",
      "[[8 5 0]\n",
      " [8 5 4]\n",
      " [7 4 1]\n",
      " [3 3 9]\n",
      " [2 5 2]]\n"
     ]
    }
   ],
   "source": [
    "#Dot product is another way to find patterns between two different products\n",
    "mat1 = np.random.randint(10, size=(5, 3))\n",
    "mat2 = np.random.randint(10, size=(5, 3))\n",
    "\n",
    "print(mat1)\n",
    "print (\"---\")\n",
    "print(mat2)"
   ]
  },
  {
   "cell_type": "code",
   "execution_count": 91,
   "metadata": {},
   "outputs": [
    {
     "name": "stdout",
     "output_type": "stream",
     "text": [
      "[[64 20  0]\n",
      " [ 0 20 36]\n",
      " [ 0 24  4]\n",
      " [ 6 12 54]\n",
      " [ 6 15 14]]\n"
     ]
    }
   ],
   "source": [
    "#Create element-wise multiplication (or Hadamard product)\n",
    "aligned = mat1 * mat2\n",
    "\n",
    "#The value in column 1 row 1 of the first array will be multiplied with\n",
    "#Colum 1 row 1 of the second array.\n",
    "\n",
    "print(aligned)"
   ]
  },
  {
   "cell_type": "markdown",
   "metadata": {},
   "source": [
    "#### What is a dot product?"
   ]
  },
  {
   "cell_type": "code",
   "execution_count": 93,
   "metadata": {},
   "outputs": [],
   "source": [
    "\n",
    "#For example: The top row of array 1, will multiply with the first column of array 2\n",
    "#Every unique single value of array 1 will multiply with a unique single value of array 2\n",
    "#These multiplications are than summed. This creates the first value of the new array\n",
    "#Then this formula will be used for the second row of array 1, with again the first column of array 2\n",
    "#If these new values are created, they are shown in the first column of the new array\n",
    "#Then the first row of array 1 will start this all again with the second column of array 2, creating a new column in the new array\n",
    "\n",
    "#Therefore, the inside number (the number of rows) must match the outside number (number of columns)\n",
    "#Because the calculation can not be done if there aren't enough columns to multiply the rows with"
   ]
  },
  {
   "cell_type": "code",
   "execution_count": 94,
   "metadata": {},
   "outputs": [
    {
     "data": {
      "text/plain": [
       "array([[8, 0, 0, 2, 3],\n",
       "       [4, 4, 6, 4, 3],\n",
       "       [7, 9, 4, 6, 7]])"
      ]
     },
     "execution_count": 94,
     "metadata": {},
     "output_type": "execute_result"
    }
   ],
   "source": [
    "#Align mat1 and 2 with transpose\n",
    "mat1.T\n",
    "\n",
    "#Now instead of shape mat1= (5,3) we have mat1=(3, 5) making it aligned "
   ]
  },
  {
   "cell_type": "code",
   "execution_count": 95,
   "metadata": {},
   "outputs": [
    {
     "name": "stdout",
     "output_type": "stream",
     "text": [
      "[[ 84 112  79  99  50]\n",
      " [ 20  56  25  93  38]\n",
      " [ 30  46  28  54  38]\n",
      " [ 36  60  36  72  36]\n",
      " [ 39  67  40  81  35]]\n"
     ]
    }
   ],
   "source": [
    "#Using the dot product\n",
    "mat3 = np.dot(mat1, mat2.T)\n",
    "\n",
    "print(mat3)"
   ]
  },
  {
   "cell_type": "markdown",
   "metadata": {},
   "source": [
    "#### Creating arrays, dataframes, combining with .dot and .T"
   ]
  },
  {
   "cell_type": "code",
   "execution_count": 101,
   "metadata": {},
   "outputs": [
    {
     "name": "stdout",
     "output_type": "stream",
     "text": [
      "[[12 15  0]\n",
      " [ 3  3  7]\n",
      " [ 9 19 18]\n",
      " [ 4  6 12]\n",
      " [ 1  6  7]]\n"
     ]
    }
   ],
   "source": [
    "#Create dataframe with: products, prices, days and amount sold\n",
    "np.random.seed(9)\n",
    "\n",
    "#Create an amount of sales, selling max 20 per time, for 3 different products on 5 different days\n",
    "sales_amounts = np.random.randint(20, size=(5,3))\n",
    "print(sales_amounts)"
   ]
  },
  {
   "cell_type": "code",
   "execution_count": 104,
   "metadata": {},
   "outputs": [
    {
     "data": {
      "text/html": [
       "<div>\n",
       "<style scoped>\n",
       "    .dataframe tbody tr th:only-of-type {\n",
       "        vertical-align: middle;\n",
       "    }\n",
       "\n",
       "    .dataframe tbody tr th {\n",
       "        vertical-align: top;\n",
       "    }\n",
       "\n",
       "    .dataframe thead th {\n",
       "        text-align: right;\n",
       "    }\n",
       "</style>\n",
       "<table border=\"1\" class=\"dataframe\">\n",
       "  <thead>\n",
       "    <tr style=\"text-align: right;\">\n",
       "      <th></th>\n",
       "      <th>Almond butter</th>\n",
       "      <th>Peanut butter</th>\n",
       "      <th>Cashew butter</th>\n",
       "    </tr>\n",
       "  </thead>\n",
       "  <tbody>\n",
       "    <tr>\n",
       "      <th>Mon</th>\n",
       "      <td>12</td>\n",
       "      <td>15</td>\n",
       "      <td>0</td>\n",
       "    </tr>\n",
       "    <tr>\n",
       "      <th>Tue</th>\n",
       "      <td>3</td>\n",
       "      <td>3</td>\n",
       "      <td>7</td>\n",
       "    </tr>\n",
       "    <tr>\n",
       "      <th>Wed</th>\n",
       "      <td>9</td>\n",
       "      <td>19</td>\n",
       "      <td>18</td>\n",
       "    </tr>\n",
       "    <tr>\n",
       "      <th>Thu</th>\n",
       "      <td>4</td>\n",
       "      <td>6</td>\n",
       "      <td>12</td>\n",
       "    </tr>\n",
       "    <tr>\n",
       "      <th>Fri</th>\n",
       "      <td>1</td>\n",
       "      <td>6</td>\n",
       "      <td>7</td>\n",
       "    </tr>\n",
       "  </tbody>\n",
       "</table>\n",
       "</div>"
      ],
      "text/plain": [
       "     Almond butter  Peanut butter  Cashew butter\n",
       "Mon             12             15              0\n",
       "Tue              3              3              7\n",
       "Wed              9             19             18\n",
       "Thu              4              6             12\n",
       "Fri              1              6              7"
      ]
     },
     "execution_count": 104,
     "metadata": {},
     "output_type": "execute_result"
    }
   ],
   "source": [
    "#Create a weekly sales dataframe\n",
    "df_weekly_sales = pd.DataFrame(sales_amounts, index=[\"Mon\",\"Tue\", \"Wed\", \"Thu\", \"Fri\"], columns=[\"Almond butter\", \"Peanut butter\", \"Cashew butter\"])\n",
    "\n",
    "df_weekly_sales.head()"
   ]
  },
  {
   "cell_type": "code",
   "execution_count": 111,
   "metadata": {},
   "outputs": [
    {
     "name": "stdout",
     "output_type": "stream",
     "text": [
      "       Almond butter  Peanut butter  Cashew butter\n",
      "Price             10              8             12\n"
     ]
    }
   ],
   "source": [
    "#Add prices\n",
    "prices = np.array([10, 8, 12])\n",
    "butter_prices = pd.DataFrame(prices.reshape(1,3), index=[\"Price\"], columns=[\"Almond butter\", \"Peanut butter\", \"Cashew butter\"])\n",
    "\n",
    "#Need to reshape:\n",
    "#Because the array has the shape of (3,1) (three rows in one column)\n",
    "#It needs to be the sahpe of (1,3) to fit our index price with thre columns\n",
    "\n",
    "print(butter_prices)"
   ]
  },
  {
   "cell_type": "code",
   "execution_count": 113,
   "metadata": {},
   "outputs": [
    {
     "name": "stdout",
     "output_type": "stream",
     "text": [
      "[240 138 458 232 142]\n"
     ]
    }
   ],
   "source": [
    "#Create total sales\n",
    "#Make the shape aligned using transpose\n",
    "total_sales = prices.dot(sales_amounts.T)\n",
    "\n",
    "print(total_sales)"
   ]
  },
  {
   "cell_type": "code",
   "execution_count": 118,
   "metadata": {},
   "outputs": [
    {
     "name": "stdout",
     "output_type": "stream",
     "text": [
      "(1, 3) (5, 3)\n",
      "       Mon  Tue  Wed  Thu  Fri\n",
      "Price  240  138  458  232  142\n"
     ]
    }
   ],
   "source": [
    "#Create daily sales\n",
    "print(butter_prices.shape, df_weekly_sales.shape)\n",
    "\n",
    "#Align the shapes\n",
    "daily_sales = butter_prices.dot(df_weekly_sales.T)\n",
    "\n",
    "#Tranpose to make them align\n",
    "print(daily_sales)\n"
   ]
  },
  {
   "cell_type": "code",
   "execution_count": 121,
   "metadata": {},
   "outputs": [
    {
     "data": {
      "text/html": [
       "<div>\n",
       "<style scoped>\n",
       "    .dataframe tbody tr th:only-of-type {\n",
       "        vertical-align: middle;\n",
       "    }\n",
       "\n",
       "    .dataframe tbody tr th {\n",
       "        vertical-align: top;\n",
       "    }\n",
       "\n",
       "    .dataframe thead th {\n",
       "        text-align: right;\n",
       "    }\n",
       "</style>\n",
       "<table border=\"1\" class=\"dataframe\">\n",
       "  <thead>\n",
       "    <tr style=\"text-align: right;\">\n",
       "      <th></th>\n",
       "      <th>Almond butter</th>\n",
       "      <th>Peanut butter</th>\n",
       "      <th>Cashew butter</th>\n",
       "      <th>Total sales</th>\n",
       "    </tr>\n",
       "  </thead>\n",
       "  <tbody>\n",
       "    <tr>\n",
       "      <th>Mon</th>\n",
       "      <td>12</td>\n",
       "      <td>15</td>\n",
       "      <td>0</td>\n",
       "      <td>240</td>\n",
       "    </tr>\n",
       "    <tr>\n",
       "      <th>Tue</th>\n",
       "      <td>3</td>\n",
       "      <td>3</td>\n",
       "      <td>7</td>\n",
       "      <td>138</td>\n",
       "    </tr>\n",
       "    <tr>\n",
       "      <th>Wed</th>\n",
       "      <td>9</td>\n",
       "      <td>19</td>\n",
       "      <td>18</td>\n",
       "      <td>458</td>\n",
       "    </tr>\n",
       "    <tr>\n",
       "      <th>Thu</th>\n",
       "      <td>4</td>\n",
       "      <td>6</td>\n",
       "      <td>12</td>\n",
       "      <td>232</td>\n",
       "    </tr>\n",
       "    <tr>\n",
       "      <th>Fri</th>\n",
       "      <td>1</td>\n",
       "      <td>6</td>\n",
       "      <td>7</td>\n",
       "      <td>142</td>\n",
       "    </tr>\n",
       "  </tbody>\n",
       "</table>\n",
       "</div>"
      ],
      "text/plain": [
       "     Almond butter  Peanut butter  Cashew butter  Total sales\n",
       "Mon             12             15              0          240\n",
       "Tue              3              3              7          138\n",
       "Wed              9             19             18          458\n",
       "Thu              4              6             12          232\n",
       "Fri              1              6              7          142"
      ]
     },
     "execution_count": 121,
     "metadata": {},
     "output_type": "execute_result"
    }
   ],
   "source": [
    "#Adding new column\n",
    "df_weekly_sales[\"Total sales\"] = daily_sales.T\n",
    "\n",
    "df_weekly_sales.head()"
   ]
  },
  {
   "cell_type": "markdown",
   "metadata": {},
   "source": [
    "### Sorting arrays and finding index"
   ]
  },
  {
   "cell_type": "code",
   "execution_count": 124,
   "metadata": {},
   "outputs": [
    {
     "name": "stdout",
     "output_type": "stream",
     "text": [
      "[[6 7 7 8 1]\n",
      " [5 9 8 9 4]\n",
      " [3 0 3 5 0]]\n",
      "---\n",
      "[[1 6 7 7 8]\n",
      " [4 5 8 9 9]\n",
      " [0 0 3 3 5]]\n"
     ]
    }
   ],
   "source": [
    "#Make a copy of an array but sorted\n",
    "sorted_random_array = np.sort(random_array)\n",
    "\n",
    "#This sorts from small to large for every row\n",
    "\n",
    "print(random_array)\n",
    "print(\"---\")\n",
    "print(sorted_random_array)"
   ]
  },
  {
   "cell_type": "code",
   "execution_count": 125,
   "metadata": {},
   "outputs": [
    {
     "data": {
      "text/plain": [
       "array([[4, 0, 1, 2, 3],\n",
       "       [4, 0, 2, 1, 3],\n",
       "       [1, 4, 0, 2, 3]], dtype=int64)"
      ]
     },
     "execution_count": 125,
     "metadata": {},
     "output_type": "execute_result"
    }
   ],
   "source": [
    "#Return the index sorted (instead of the value)\n",
    "np.argsort(random_array)"
   ]
  },
  {
   "cell_type": "code",
   "execution_count": 128,
   "metadata": {},
   "outputs": [
    {
     "name": "stdout",
     "output_type": "stream",
     "text": [
      "11\n",
      "6\n",
      "[4 4 1]\n"
     ]
    }
   ],
   "source": [
    "#Show the index of the minimum and maximum value\n",
    "print(np.argmin(random_array))\n",
    "print(np.argmax(random_array))\n",
    "\n",
    "#You can also do that for a certain axis\n",
    "print(np.argmin(random_array, axis=1))\n",
    "\n",
    "#This searches the position of lowest value in every row and gives that index\n",
    "#When there are two lowest it gives the position of the first one it sees\n",
    "#For column use axis=0"
   ]
  }
 ],
 "metadata": {
  "interpreter": {
   "hash": "796abcebddf95ce5efce941183e7b441ff687eee87794f9feab7a056a8390717"
  },
  "kernelspec": {
   "display_name": "Python 3.9.7 64-bit ('kitsu-katsu': conda)",
   "language": "python",
   "name": "python3"
  },
  "language_info": {
   "codemirror_mode": {
    "name": "ipython",
    "version": 3
   },
   "file_extension": ".py",
   "mimetype": "text/x-python",
   "name": "python",
   "nbconvert_exporter": "python",
   "pygments_lexer": "ipython3",
   "version": "3.9.7"
  },
  "orig_nbformat": 4
 },
 "nbformat": 4,
 "nbformat_minor": 2
}

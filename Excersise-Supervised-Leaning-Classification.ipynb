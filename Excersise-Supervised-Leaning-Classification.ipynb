{
 "cells": [
  {
   "cell_type": "markdown",
   "metadata": {},
   "source": [
    "## Predicting heart disease using machine learning\n",
    "\n",
    "#### Based on medical attributes, python-based machine learning and data science libraries we'll predict if someone has heartdisease.\n",
    "\n",
    "#### Following the approach of: Problem definition, data, evaluation, features, modelling and expersimentation."
   ]
  },
  {
   "cell_type": "markdown",
   "metadata": {},
   "source": [
    "### 1. Problem definition"
   ]
  },
  {
   "cell_type": "markdown",
   "metadata": {},
   "source": [
    "##### Can we predict whether or not a patient has heart disease based on clinical attributes?"
   ]
  },
  {
   "cell_type": "markdown",
   "metadata": {},
   "source": [
    "### 2. Data"
   ]
  },
  {
   "cell_type": "markdown",
   "metadata": {},
   "source": [
    "##### The data comes from UCI Machine Learning Repository, called Heart Disease Data Set. In this section we'll look at the data."
   ]
  },
  {
   "cell_type": "code",
   "execution_count": null,
   "metadata": {},
   "outputs": [],
   "source": [
    "#Data dictionary\n",
    "\n",
    "#age. The age of the patient.\n",
    "#sex. The gender of the patient. (1 = male, 0 = female).\n",
    "#cp. Type of chest pain. (1 = typical angina, 2 = atypical angina, 3 = non — anginal pain, 4 = asymptotic).\n",
    "#trestbps. Resting blood pressure in mmHg.\n",
    "#chol. Serum Cholestero in mg/dl.\n",
    "#fbs. Fasting Blood Sugar. (1 = fasting blood sugar is more than 120mg/dl, 0 = otherwise).\n",
    "#restecg. Resting ElectroCardioGraphic results (0 = normal, 1 = ST-T wave abnormality, 2 = left ventricular hyperthrophy).\n",
    "#thalach. Max heart rate achieved.\n",
    "#exang. Exercise induced angina (1 = yes, 0 = no).\n",
    "#oldpeak. ST depression induced by exercise relative to rest.\n",
    "#slope. Peak exercise ST segment (1 = upsloping, 2 = flat, 3 = downsloping).\n",
    "#ca. Number of major vessels (0–3) colored by flourosopy.\n",
    "#thal. Thalassemia (3 = normal, 6 = fixed defect, 7 = reversible defect).\n",
    "#num. Diagnosis of heart disease (0 = absence, 1, 2, 3, 4 = present)."
   ]
  }
 ],
 "metadata": {
  "interpreter": {
   "hash": "796abcebddf95ce5efce941183e7b441ff687eee87794f9feab7a056a8390717"
  },
  "kernelspec": {
   "display_name": "Python 3.9.7 64-bit ('kitsu-katsu': conda)",
   "language": "python",
   "name": "python3"
  },
  "language_info": {
   "name": "python",
   "version": "3.9.7"
  },
  "orig_nbformat": 4
 },
 "nbformat": 4,
 "nbformat_minor": 2
}
